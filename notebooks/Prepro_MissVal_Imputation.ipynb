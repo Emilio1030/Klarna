{
 "cells": [
  {
   "cell_type": "code",
   "execution_count": 1056,
   "metadata": {},
   "outputs": [],
   "source": [
    "import pandas as pd\n",
    "import numpy as np\n",
    "import matplotlib.pyplot as plt\n",
    "import seaborn as sns\n",
    "import matplotlib.gridspec as gridspec\n",
    "import warnings\n",
    "\n",
    "from sklearn.linear_model import LinearRegression\n",
    "from sklearn.linear_model import LogisticRegression\n",
    "from sklearn.tree import DecisionTreeRegressor\n",
    "from sklearn.metrics import roc_auc_score\n",
    "from sklearn.model_selection import cross_val_score\n",
    "from sklearn.tree import DecisionTreeClassifier\n",
    "from sklearn.metrics import r2_score\n",
    "\n",
    "\n",
    "from sklearn.compose import ColumnTransformer\n",
    "from sklearn.preprocessing import OneHotEncoder\n",
    "from sklearn.compose import make_column_selector\n",
    "from sklearn.preprocessing import MinMaxScaler, StandardScaler, RobustScaler\n",
    "from fancyimpute import KNN\n",
    "from sklearn.impute import KNNImputer\n",
    "from fancyimpute import IterativeImputer\n",
    "\n",
    "\n",
    "from sklearn.pipeline import Pipeline\n",
    "from sklearn.impute import SimpleImputer\n",
    "from sklearn.model_selection import train_test_split\n",
    "from sklearn import metrics\n"
   ]
  },
  {
   "cell_type": "code",
   "execution_count": 1057,
   "metadata": {},
   "outputs": [
    {
     "data": {
      "text/html": [
       "<div>\n",
       "<style scoped>\n",
       "    .dataframe tbody tr th:only-of-type {\n",
       "        vertical-align: middle;\n",
       "    }\n",
       "\n",
       "    .dataframe tbody tr th {\n",
       "        vertical-align: top;\n",
       "    }\n",
       "\n",
       "    .dataframe thead th {\n",
       "        text-align: right;\n",
       "    }\n",
       "</style>\n",
       "<table border=\"1\" class=\"dataframe\">\n",
       "  <thead>\n",
       "    <tr style=\"text-align: right;\">\n",
       "      <th></th>\n",
       "      <th>uuid</th>\n",
       "      <th>default</th>\n",
       "      <th>account_amount_added_12_24m</th>\n",
       "      <th>account_days_in_dc_12_24m</th>\n",
       "      <th>account_days_in_rem_12_24m</th>\n",
       "      <th>account_days_in_term_12_24m</th>\n",
       "      <th>account_incoming_debt_vs_paid_0_24m</th>\n",
       "      <th>account_status</th>\n",
       "      <th>account_worst_status_0_3m</th>\n",
       "      <th>account_worst_status_12_24m</th>\n",
       "      <th>...</th>\n",
       "      <th>status_3rd_last_archived_0_24m</th>\n",
       "      <th>status_max_archived_0_6_months</th>\n",
       "      <th>status_max_archived_0_12_months</th>\n",
       "      <th>status_max_archived_0_24_months</th>\n",
       "      <th>recovery_debt</th>\n",
       "      <th>sum_capital_paid_account_0_12m</th>\n",
       "      <th>sum_capital_paid_account_12_24m</th>\n",
       "      <th>sum_paid_inv_0_12m</th>\n",
       "      <th>time_hours</th>\n",
       "      <th>worst_status_active_inv</th>\n",
       "    </tr>\n",
       "  </thead>\n",
       "  <tbody>\n",
       "    <tr>\n",
       "      <th>0</th>\n",
       "      <td>63f69b2c-8b1c-4740-b78d-52ed9a4515ac</td>\n",
       "      <td>0.0</td>\n",
       "      <td>0</td>\n",
       "      <td>0.0</td>\n",
       "      <td>0.0</td>\n",
       "      <td>0.0</td>\n",
       "      <td>0.0</td>\n",
       "      <td>1.0</td>\n",
       "      <td>1.0</td>\n",
       "      <td>NaN</td>\n",
       "      <td>...</td>\n",
       "      <td>1</td>\n",
       "      <td>1</td>\n",
       "      <td>1</td>\n",
       "      <td>1</td>\n",
       "      <td>0</td>\n",
       "      <td>0</td>\n",
       "      <td>0</td>\n",
       "      <td>178839</td>\n",
       "      <td>9.653333</td>\n",
       "      <td>1.0</td>\n",
       "    </tr>\n",
       "    <tr>\n",
       "      <th>1</th>\n",
       "      <td>0e961183-8c15-4470-9a5e-07a1bd207661</td>\n",
       "      <td>0.0</td>\n",
       "      <td>0</td>\n",
       "      <td>0.0</td>\n",
       "      <td>0.0</td>\n",
       "      <td>0.0</td>\n",
       "      <td>NaN</td>\n",
       "      <td>1.0</td>\n",
       "      <td>1.0</td>\n",
       "      <td>1.0</td>\n",
       "      <td>...</td>\n",
       "      <td>1</td>\n",
       "      <td>1</td>\n",
       "      <td>2</td>\n",
       "      <td>2</td>\n",
       "      <td>0</td>\n",
       "      <td>0</td>\n",
       "      <td>0</td>\n",
       "      <td>49014</td>\n",
       "      <td>13.181389</td>\n",
       "      <td>NaN</td>\n",
       "    </tr>\n",
       "    <tr>\n",
       "      <th>2</th>\n",
       "      <td>d8edaae6-4368-44e0-941e-8328f203e64e</td>\n",
       "      <td>0.0</td>\n",
       "      <td>0</td>\n",
       "      <td>0.0</td>\n",
       "      <td>0.0</td>\n",
       "      <td>0.0</td>\n",
       "      <td>NaN</td>\n",
       "      <td>NaN</td>\n",
       "      <td>NaN</td>\n",
       "      <td>NaN</td>\n",
       "      <td>...</td>\n",
       "      <td>1</td>\n",
       "      <td>1</td>\n",
       "      <td>2</td>\n",
       "      <td>2</td>\n",
       "      <td>0</td>\n",
       "      <td>0</td>\n",
       "      <td>0</td>\n",
       "      <td>124839</td>\n",
       "      <td>11.561944</td>\n",
       "      <td>1.0</td>\n",
       "    </tr>\n",
       "    <tr>\n",
       "      <th>3</th>\n",
       "      <td>0095dfb6-a886-4e2a-b056-15ef45fdb0ef</td>\n",
       "      <td>0.0</td>\n",
       "      <td>0</td>\n",
       "      <td>NaN</td>\n",
       "      <td>NaN</td>\n",
       "      <td>NaN</td>\n",
       "      <td>NaN</td>\n",
       "      <td>NaN</td>\n",
       "      <td>NaN</td>\n",
       "      <td>NaN</td>\n",
       "      <td>...</td>\n",
       "      <td>1</td>\n",
       "      <td>1</td>\n",
       "      <td>1</td>\n",
       "      <td>1</td>\n",
       "      <td>0</td>\n",
       "      <td>0</td>\n",
       "      <td>0</td>\n",
       "      <td>324676</td>\n",
       "      <td>15.751111</td>\n",
       "      <td>1.0</td>\n",
       "    </tr>\n",
       "    <tr>\n",
       "      <th>4</th>\n",
       "      <td>c8f8b835-5647-4506-bf15-49105d8af30b</td>\n",
       "      <td>0.0</td>\n",
       "      <td>0</td>\n",
       "      <td>0.0</td>\n",
       "      <td>0.0</td>\n",
       "      <td>0.0</td>\n",
       "      <td>NaN</td>\n",
       "      <td>NaN</td>\n",
       "      <td>NaN</td>\n",
       "      <td>NaN</td>\n",
       "      <td>...</td>\n",
       "      <td>0</td>\n",
       "      <td>1</td>\n",
       "      <td>1</td>\n",
       "      <td>1</td>\n",
       "      <td>0</td>\n",
       "      <td>0</td>\n",
       "      <td>0</td>\n",
       "      <td>7100</td>\n",
       "      <td>12.698611</td>\n",
       "      <td>NaN</td>\n",
       "    </tr>\n",
       "  </tbody>\n",
       "</table>\n",
       "<p>5 rows × 43 columns</p>\n",
       "</div>"
      ],
      "text/plain": [
       "                                   uuid  default  account_amount_added_12_24m  \\\n",
       "0  63f69b2c-8b1c-4740-b78d-52ed9a4515ac      0.0                            0   \n",
       "1  0e961183-8c15-4470-9a5e-07a1bd207661      0.0                            0   \n",
       "2  d8edaae6-4368-44e0-941e-8328f203e64e      0.0                            0   \n",
       "3  0095dfb6-a886-4e2a-b056-15ef45fdb0ef      0.0                            0   \n",
       "4  c8f8b835-5647-4506-bf15-49105d8af30b      0.0                            0   \n",
       "\n",
       "   account_days_in_dc_12_24m  account_days_in_rem_12_24m  \\\n",
       "0                        0.0                         0.0   \n",
       "1                        0.0                         0.0   \n",
       "2                        0.0                         0.0   \n",
       "3                        NaN                         NaN   \n",
       "4                        0.0                         0.0   \n",
       "\n",
       "   account_days_in_term_12_24m  account_incoming_debt_vs_paid_0_24m  \\\n",
       "0                          0.0                                  0.0   \n",
       "1                          0.0                                  NaN   \n",
       "2                          0.0                                  NaN   \n",
       "3                          NaN                                  NaN   \n",
       "4                          0.0                                  NaN   \n",
       "\n",
       "   account_status  account_worst_status_0_3m  account_worst_status_12_24m  \\\n",
       "0             1.0                        1.0                          NaN   \n",
       "1             1.0                        1.0                          1.0   \n",
       "2             NaN                        NaN                          NaN   \n",
       "3             NaN                        NaN                          NaN   \n",
       "4             NaN                        NaN                          NaN   \n",
       "\n",
       "   ...  status_3rd_last_archived_0_24m  status_max_archived_0_6_months  \\\n",
       "0  ...                               1                               1   \n",
       "1  ...                               1                               1   \n",
       "2  ...                               1                               1   \n",
       "3  ...                               1                               1   \n",
       "4  ...                               0                               1   \n",
       "\n",
       "   status_max_archived_0_12_months  status_max_archived_0_24_months  \\\n",
       "0                                1                                1   \n",
       "1                                2                                2   \n",
       "2                                2                                2   \n",
       "3                                1                                1   \n",
       "4                                1                                1   \n",
       "\n",
       "   recovery_debt sum_capital_paid_account_0_12m  \\\n",
       "0              0                              0   \n",
       "1              0                              0   \n",
       "2              0                              0   \n",
       "3              0                              0   \n",
       "4              0                              0   \n",
       "\n",
       "  sum_capital_paid_account_12_24m  sum_paid_inv_0_12m  time_hours  \\\n",
       "0                               0              178839    9.653333   \n",
       "1                               0               49014   13.181389   \n",
       "2                               0              124839   11.561944   \n",
       "3                               0              324676   15.751111   \n",
       "4                               0                7100   12.698611   \n",
       "\n",
       "   worst_status_active_inv  \n",
       "0                      1.0  \n",
       "1                      NaN  \n",
       "2                      1.0  \n",
       "3                      1.0  \n",
       "4                      NaN  \n",
       "\n",
       "[5 rows x 43 columns]"
      ]
     },
     "execution_count": 1057,
     "metadata": {},
     "output_type": "execute_result"
    }
   ],
   "source": [
    "data = pd.read_csv('../raw_data/dataset.csv',sep=';')\n",
    "data = data.copy()\n",
    "data.head()"
   ]
  },
  {
   "cell_type": "code",
   "execution_count": 1058,
   "metadata": {},
   "outputs": [
    {
     "data": {
      "text/plain": [
       "(99976, 43)"
      ]
     },
     "execution_count": 1058,
     "metadata": {},
     "output_type": "execute_result"
    }
   ],
   "source": [
    "data.shape"
   ]
  },
  {
   "cell_type": "markdown",
   "metadata": {},
   "source": [
    "## 1. Preprocessing workflow "
   ]
  },
  {
   "cell_type": "markdown",
   "metadata": {},
   "source": [
    "### 1.1. Duplicates"
   ]
  },
  {
   "cell_type": "code",
   "execution_count": 1059,
   "metadata": {},
   "outputs": [
    {
     "data": {
      "text/plain": [
       "0"
      ]
     },
     "execution_count": 1059,
     "metadata": {},
     "output_type": "execute_result"
    }
   ],
   "source": [
    "# Duplicates\n",
    "duplicate_count = data.duplicated().sum()\n",
    "duplicate_count"
   ]
  },
  {
   "cell_type": "markdown",
   "metadata": {},
   "source": [
    " ### 1.2. Missing values "
   ]
  },
  {
   "cell_type": "code",
   "execution_count": 1060,
   "metadata": {},
   "outputs": [],
   "source": [
    "# Missing data percentage\n",
    "# round((data.isnull().sum()/len(data)).sort_values(ascending=False),2)"
   ]
  },
  {
   "cell_type": "markdown",
   "metadata": {},
   "source": [
    "#### we do have a few features having a high percetange of missing values \n",
    "#### Let's investigate the meaning of these features and the besty way to deal with mising values"
   ]
  },
  {
   "cell_type": "code",
   "execution_count": 1061,
   "metadata": {},
   "outputs": [
    {
     "data": {
      "text/plain": [
       "array([ 1., nan,  2.,  3.])"
      ]
     },
     "execution_count": 1061,
     "metadata": {},
     "output_type": "execute_result"
    }
   ],
   "source": [
    "# unique values in this feature\n",
    "data['worst_status_active_inv'].unique()"
   ]
  },
  {
   "cell_type": "code",
   "execution_count": 1062,
   "metadata": {},
   "outputs": [
    {
     "data": {
      "text/plain": [
       "array([nan,  1.,  2.,  3.,  4.])"
      ]
     },
     "execution_count": 1062,
     "metadata": {},
     "output_type": "execute_result"
    }
   ],
   "source": [
    "# account_worst_status_12_24m\n",
    "data['account_worst_status_12_24m'].unique()"
   ]
  },
  {
   "cell_type": "code",
   "execution_count": 1063,
   "metadata": {},
   "outputs": [
    {
     "data": {
      "text/plain": [
       "0.6677702648635673"
      ]
     },
     "execution_count": 1063,
     "metadata": {},
     "output_type": "execute_result"
    }
   ],
   "source": [
    "data['account_worst_status_12_24m'].isna().sum() / len(data['account_worst_status_12_24m'])"
   ]
  },
  {
   "cell_type": "code",
   "execution_count": 1065,
   "metadata": {},
   "outputs": [],
   "source": [
    "# let's drop this worst_status_active_inv feature it has a too high missing values \n",
    "# del data['worst_status_active_inv']\n"
   ]
  },
  {
   "attachments": {},
   "cell_type": "markdown",
   "metadata": {},
   "source": [
    "##  Handling Missing Data with Imputation"
   ]
  },
  {
   "attachments": {},
   "cell_type": "markdown",
   "metadata": {},
   "source": [
    "## Preprocessing\n",
    "### Pipeline "
   ]
  },
  {
   "cell_type": "code",
   "execution_count": 1066,
   "metadata": {},
   "outputs": [],
   "source": [
    "#########               ###############\n",
    "# that was I what I did it \n",
    "# step 0 \n",
    "### missing_feat = data[data.columns[data.isnull().any()].tolist()]\n",
    "#### missing_feat\n",
    "# # Step 1: Separate the null values from the dataframe (data) and create a variable “test data”\n",
    "# test_data = data[data[missing_feat.columns].isnull().any(axis=1)]\n",
    "# # Step 2: Drop the null values from the dataframe (data) and represent them as ‘train data”\n",
    "# data.dropna(inplace = True)\n",
    "# # Step 3: Create “x_train” & “y_train” from train data.\n",
    "# X_train = data.drop(missing_feat.columns, axis=1)\n",
    "# # Step 3: Create “x_train” & “y_train” from train data\n",
    "# y_train = data[missing_feat.columns]\n",
    "# # necessary to covert to float\n",
    "# X_train = X_train.reset_index()\n",
    "# X_train = X_train.drop(['uuid'], axis=1)\n"
   ]
  },
  {
   "cell_type": "code",
   "execution_count": 1067,
   "metadata": {},
   "outputs": [],
   "source": [
    "# converting these columns to \"object\" type\n",
    "list_float_to_obj = [\"account_status\",\"account_worst_status_0_3m\",\n",
    "                     \"account_worst_status_12_24m\", \"account_worst_status_3_6m\", \"account_worst_status_6_12m\",\n",
    "                     \"status_last_archived_0_24m\", \"status_2nd_last_archived_0_24m\",\"status_3rd_last_archived_0_24m\",\n",
    "                     \"status_max_archived_0_6_months\",\"status_max_archived_0_12_months\",\"status_max_archived_0_24_months\",\n",
    "                     \"has_paid\"]\n",
    "\n",
    "_ = [data.__setitem__(feature, data[feature].astype(\"object\")) for feature in list_float_to_obj]"
   ]
  },
  {
   "cell_type": "code",
   "execution_count": 1068,
   "metadata": {},
   "outputs": [],
   "source": [
    "# step 0 \n",
    "missing_feat = data[data.columns[data.isnull().any()].tolist()]"
   ]
  },
  {
   "cell_type": "code",
   "execution_count": 1069,
   "metadata": {},
   "outputs": [],
   "source": [
    "# Step 1: Separate the null values from the dataframe (data) and create a variable “test data”\n",
    "test_data = data[data[missing_feat.columns].isnull().any(axis=1)]\n"
   ]
  },
  {
   "cell_type": "code",
   "execution_count": 1070,
   "metadata": {},
   "outputs": [],
   "source": [
    "# Step 2: Drop the null values from the dataframe (data) and represent them as ‘train data”\n",
    "data.dropna(inplace = True)"
   ]
  },
  {
   "cell_type": "code",
   "execution_count": 1071,
   "metadata": {},
   "outputs": [],
   "source": [
    "# Step 3: Create “x_train” & “y_train” from train data.\n",
    "X_train = data.drop(missing_feat.columns, axis=1)\n",
    "# # Step 3: Create “x_train” & “y_train” from train data\n",
    "y_train = data[missing_feat.columns]"
   ]
  },
  {
   "cell_type": "code",
   "execution_count": 1072,
   "metadata": {},
   "outputs": [],
   "source": [
    "from sklearn.preprocessing import OneHotEncoder\n",
    "\n",
    "X_train_ohe = OneHotEncoder(sparse_output=False) # Instanciate One hot encoder\n",
    "\n",
    "X_train_ohe.fit(X_train.iloc[:, 1:].select_dtypes(include='object')) # Fit one hot encoder\n",
    "\n",
    "# Get column names after preprocessing\n",
    "column_names = X_train_ohe.fit(X_train.iloc[:, 1:].select_dtypes(include='object')).get_feature_names_out()\n",
    "\n",
    "# Create new DataFrame with transformed data and column names\n",
    "X_train_prepro = pd.DataFrame(X_train_ohe.fit_transform(X_train.iloc[:, 1:].select_dtypes(include='object')), columns=column_names, dtype=np.object_)"
   ]
  },
  {
   "cell_type": "code",
   "execution_count": 1073,
   "metadata": {},
   "outputs": [],
   "source": [
    "# Step 4: Build the linear regression model\n",
    "# Build the linear refuressinn model \n",
    "# instatiate the model \n",
    "log_reg = DecisionTreeRegressor()\n",
    "# fitting the model \n",
    "model_num = log_reg.fit(X_train_prepro, y_train['account_status'])\n",
    "# Step 5: Create the x_test from test data\n",
    "X_test = test_data[X_train.columns[1:]]"
   ]
  },
  {
   "cell_type": "code",
   "execution_count": 1074,
   "metadata": {},
   "outputs": [],
   "source": [
    "X_test_ohe = OneHotEncoder(sparse_output=False) # Instanciate One hot encoder\n",
    "\n",
    "X_test_ohe.fit(X_test.iloc[:, 1:].select_dtypes(include='object')) # Fit one hot encoder\n",
    "\n",
    "# Get column names after preprocessing\n",
    "column_names = X_test_ohe.fit(X_test.iloc[:, 1:].select_dtypes(include='object')).get_feature_names_out()\n",
    "\n",
    "# Create new DataFrame with transformed data and column names\n",
    "X_test_prepro = pd.DataFrame(X_test_ohe.fit_transform(X_test.iloc[:, 1:].select_dtypes(include='object')), columns=column_names, dtype=np.object_)"
   ]
  },
  {
   "cell_type": "code",
   "execution_count": 1075,
   "metadata": {},
   "outputs": [
    {
     "name": "stderr",
     "output_type": "stream",
     "text": [
      "/var/folders/79/g5hy_j1x4c52kc540l6hhyd00000gn/T/ipykernel_3643/3777526544.py:4: SettingWithCopyWarning: \n",
      "A value is trying to be set on a copy of a slice from a DataFrame.\n",
      "Try using .loc[row_indexer,col_indexer] = value instead\n",
      "\n",
      "See the caveats in the documentation: https://pandas.pydata.org/pandas-docs/stable/user_guide/indexing.html#returning-a-view-versus-a-copy\n",
      "  test_data['y_pred_num'] = y_pred_num\n"
     ]
    }
   ],
   "source": [
    "# Step 6: Apply the model on x_test of test data to make predictions. here, we have created a new variable ‘y_pred’.\n",
    "y_pred_num = model_num.predict(X_test_prepro[X_train_prepro.columns])\n",
    "y_pred_num = pd.DataFrame(y_pred_num)\n",
    "test_data['y_pred_num'] = y_pred_num"
   ]
  },
  {
   "cell_type": "code",
   "execution_count": 1076,
   "metadata": {},
   "outputs": [],
   "source": [
    "r1_pred = {}\n",
    "r1_pred['y_pred_num'], r1_pred['account_status'] = test_data[['y_pred_num','account_status']].dropna(axis=0).values.T\n"
   ]
  },
  {
   "cell_type": "code",
   "execution_count": 1077,
   "metadata": {},
   "outputs": [
    {
     "data": {
      "text/plain": [
       "-0.6156272547752013"
      ]
     },
     "execution_count": 1077,
     "metadata": {},
     "output_type": "execute_result"
    }
   ],
   "source": [
    "r2_baseline = metrics.r2_score(r1_pred['account_status'], r1_pred['y_pred_num'])\n",
    "r2_baseline"
   ]
  },
  {
   "cell_type": "code",
   "execution_count": 1078,
   "metadata": {},
   "outputs": [],
   "source": [
    "# data_obj_bool = pd.DataFrame()\n",
    "# data_obj_bool[['merchant_category ','merchant_group','has_paid ','name_in_email']] = data.select_dtypes(include=['object', 'bool'])"
   ]
  },
  {
   "cell_type": "code",
   "execution_count": 1079,
   "metadata": {},
   "outputs": [],
   "source": [
    "# data.drop(columns=['merchant_category','merchant_group','has_paid','name_in_email'], inplace=True)"
   ]
  },
  {
   "cell_type": "code",
   "execution_count": 1080,
   "metadata": {},
   "outputs": [],
   "source": [
    "# He's facing the same problem - see working code\n",
    "# basic I have to scale the data \n",
    "# https://datascience.stackexchange.com/questions/77450/knn-imputation-utilize-mean-or-mode\n",
    "# I have to take a look at what i did in the first version of notebook\n"
   ]
  },
  {
   "cell_type": "code",
   "execution_count": 1081,
   "metadata": {},
   "outputs": [],
   "source": [
    "# # Load the data\n",
    "# X, y = fetch_openml(\"titanic\", version=1, as_frame=True, return_X_y=True)\n",
    "# X.replace({None:np.nan}, inplace = True)\n",
    "# # Some preprocessing to correct data types and replace None with nans for pipeline imputer\n",
    "# X.drop([\"name\",\"home.dest\"], axis = 1, inplace = True)\n",
    "# X[\"embarked\"] = X[\"embarked\"].astype(\"object\")\n",
    "# X[\"sex\"] = X[\"sex\"].astype(\"object\")\n",
    "# X_train, X_test, y_train, y_test = train_test_split(X, y, stratify=y, test_size=0.2)\n",
    "\n",
    "#########               ###############\n",
    "# that was I what I did it \n",
    "# step 0 \n",
    "### missing_feat = data[data.columns[data.isnull().any()].tolist()]\n",
    "#### missing_feat\n",
    "# # Step 1: Separate the null values from the dataframe (data) and create a variable “test data”\n",
    "# test_data = data[data[missing_feat.columns].isnull().any(axis=1)]\n",
    "# # Step 2: Drop the null values from the dataframe (data) and represent them as ‘train data”\n",
    "# data.dropna(inplace = True)\n",
    "# # Step 3: Create “x_train” & “y_train” from train data.\n",
    "# X_train = data.drop(missing_feat.columns, axis=1)\n",
    "# # Step 3: Create “x_train” & “y_train” from train data\n",
    "# y_train = data[missing_feat.columns]\n",
    "# # necessary to covert to float\n",
    "# X_train = X_train.reset_index()\n",
    "# X_train = X_train.drop(['uuid'], axis=1)"
   ]
  },
  {
   "cell_type": "code",
   "execution_count": 1082,
   "metadata": {},
   "outputs": [],
   "source": [
    "# # removing coulumn \"uuid\" from the dataset\n",
    "# data_id = data['uuid']\n",
    "# #_ = data.reset_index()\n",
    "# #data = _.drop(['uuid'], axis=1)\n",
    "# data.drop(['uuid'], axis=1, inplace=True)\n",
    "# # setting target and removing the \"default\" from dataset\n",
    "# target = data['default'].dropna()\n",
    "# data.dropna(subset=['default'], axis=0, inplace=True)\n",
    "# data.drop(['default'], axis=1, inplace=True)\n",
    "# # isna and isnull were not recognizing \"nan\" \n",
    "# data = data.replace('nan', np.NaN)"
   ]
  },
  {
   "cell_type": "code",
   "execution_count": 1083,
   "metadata": {},
   "outputs": [],
   "source": [
    "# # converting these columns to \"object\" type\n",
    "# list_float_to_obj = [\"account_status\",\"account_worst_status_0_3m\",\n",
    "#                      \"account_worst_status_12_24m\", \"account_worst_status_3_6m\", \"account_worst_status_6_12m\",\n",
    "#                      \"status_last_archived_0_24m\", \"status_2nd_last_archived_0_24m\",\"status_3rd_last_archived_0_24m\",\n",
    "#                      \"status_max_archived_0_6_months\",\"status_max_archived_0_12_months\",\"status_max_archived_0_24_months\",\n",
    "#                      \"has_paid\"]\n",
    "\n",
    "# _ = [data.__setitem__(feature, data[feature].astype(\"object\")) for feature in list_float_to_obj]\n",
    "\n",
    "# X_train, X_test, y_train, y_test = train_test_split(data, target, test_size=0.2)"
   ]
  },
  {
   "cell_type": "code",
   "execution_count": 1084,
   "metadata": {},
   "outputs": [],
   "source": [
    "\n",
    "# cat_prepro = Pipeline([\n",
    "#     (\"imputer\", SimpleImputer(strategy=\"most_frequent\")),\n",
    "#     (\"encoder\", OneHotEncoder(handle_unknown='ignore', sparse_output=False))\n",
    "# ])\n",
    "\n",
    "# cont_prepro = Pipeline([\n",
    "#     (\"imputer\", KNNImputer()),\n",
    "#     (\"scaler\", RobustScaler())\n",
    "# ])\n",
    "\n",
    "# preproc_baseline = ColumnTransformer([\n",
    "#     ('num_encoder', cont_prepro, make_column_selector(dtype_include=\"int64\")),\n",
    "#     ('cat_encoder', cat_prepro, make_column_selector(dtype_include=\"object\"))\n",
    "# ])\n",
    "\n",
    "# # Get column names after preprocessing\n",
    "# column_names = preproc_baseline.fit(X_train).get_feature_names_out()\n",
    "\n",
    "# # Create new DataFrame with transformed data and column names\n",
    "# X_train_prepro = pd.DataFrame(preproc_baseline.transform(X_train), columns=column_names, dtype=np.float16)\n"
   ]
  },
  {
   "cell_type": "code",
   "execution_count": 1085,
   "metadata": {},
   "outputs": [],
   "source": [
    "# # lets take a look at the preprocessed \n",
    "# shape_preproc_baseline = preproc_baseline.fit_transform(X_train).shape\n",
    "# shape_preproc_baseline"
   ]
  },
  {
   "cell_type": "code",
   "execution_count": 1086,
   "metadata": {},
   "outputs": [],
   "source": [
    "# tree_reg= DecisionTreeClassifier()\n",
    "# pipe_baseline = Pipeline([(\"preprocessor\",preproc_baseline),\n",
    "#                   ('model_dec_three', DecisionTreeClassifier())])\n",
    "# pipe_baseline"
   ]
  },
  {
   "cell_type": "code",
   "execution_count": 1087,
   "metadata": {},
   "outputs": [],
   "source": [
    "# # Cross - Validate\n",
    "# score_baseline = cross_val_score(pipe_baseline, X_train, y_train, cv=5, scoring=\"roc_auc\", error_score='raise').mean()\n",
    "# score_baseline"
   ]
  },
  {
   "cell_type": "code",
   "execution_count": 1088,
   "metadata": {},
   "outputs": [],
   "source": [
    "# # Predict y_pred_baseline\n",
    "# pipe_baseline.fit(X_train,y_train)\n",
    "# y_pred_baseline = pipe_baseline.predict(X_test)\n",
    "# y_prob_baseline = pipe_baseline.predict_proba(X_test)"
   ]
  },
  {
   "cell_type": "code",
   "execution_count": 1089,
   "metadata": {},
   "outputs": [],
   "source": [
    "# import matplotlib.pyplot as plt\n",
    "# from sklearn import metrics\n",
    "# from sklearn.metrics import roc_curve\n"
   ]
  },
  {
   "cell_type": "code",
   "execution_count": 1090,
   "metadata": {},
   "outputs": [],
   "source": [
    "# import sklearn\n",
    "# import sys\n",
    "\n",
    "# print(\"Python version:\", sys.version)\n",
    "# print(\"scikit-learn version:\", sklearn.__version__)\n"
   ]
  },
  {
   "cell_type": "code",
   "execution_count": 1091,
   "metadata": {},
   "outputs": [],
   "source": [
    "# r2_baseline = metrics.r2_score(y_test, y_pred_baseline)\n",
    "# r2_baseline"
   ]
  },
  {
   "cell_type": "code",
   "execution_count": 1092,
   "metadata": {},
   "outputs": [],
   "source": [
    "# f\"we have got a very poor result of {round(r2_baseline,2)} for the baseline model\""
   ]
  }
 ],
 "metadata": {
  "kernelspec": {
   "display_name": "Python 3.8.12 64-bit ('klarna')",
   "language": "python",
   "name": "python3"
  },
  "language_info": {
   "codemirror_mode": {
    "name": "ipython",
    "version": 3
   },
   "file_extension": ".py",
   "mimetype": "text/x-python",
   "name": "python",
   "nbconvert_exporter": "python",
   "pygments_lexer": "ipython3",
   "version": "3.8.12"
  },
  "orig_nbformat": 4,
  "vscode": {
   "interpreter": {
    "hash": "9dcf976523d746285ce90dc9a7212f6939c68732488606ca072d04ac6ae934a0"
   }
  }
 },
 "nbformat": 4,
 "nbformat_minor": 2
}
