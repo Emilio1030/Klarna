{
 "cells": [
  {
   "cell_type": "code",
   "execution_count": 2,
   "metadata": {},
   "outputs": [],
   "source": [
    "import pandas as pd\n",
    "import numpy as np\n",
    "import matplotlib.pyplot as plt\n",
    "import seaborn as sns\n",
    "import warnings\n",
    "import time\n",
    "\n",
    "from sklearn.metrics import roc_auc_score\n",
    "from sklearn.model_selection import cross_val_score\n",
    "from sklearn.metrics import r2_score\n",
    "\n",
    "from tempfile import mkdtemp\n",
    "from shutil import rmtree\n",
    "from joblib import Memory"
   ]
  },
  {
   "cell_type": "code",
   "execution_count": 3,
   "metadata": {},
   "outputs": [],
   "source": [
    "from scipy import stats\n",
    "from scipy.stats import uniform\n",
    "\n",
    "\n",
    "# sklearn preproc\n",
    "from sklearn.model_selection import train_test_split\n",
    "from sklearn.preprocessing import MinMaxScaler, StandardScaler\n",
    "from sklearn.pipeline import Pipeline, make_pipeline\n",
    "from sklearn.compose import ColumnTransformer, make_column_transformer, make_column_selector\n",
    "from sklearn.impute import SimpleImputer, KNNImputer\n",
    "from sklearn.preprocessing import RobustScaler, OneHotEncoder, OrdinalEncoder\n",
    "from sklearn.metrics import make_scorer\n",
    "\n",
    "from sklearn.model_selection import cross_val_score\n",
    "from sklearn.neighbors import KNeighborsClassifier\n",
    "from sklearn.linear_model import Ridge, Lasso, LogisticRegression\n",
    "from sklearn.model_selection import RandomizedSearchCV\n",
    "from sklearn.svm import SVC\n",
    "from sklearn.model_selection import GridSearchCV, RandomizedSearchCV\n",
    "from sklearn.ensemble import AdaBoostClassifier\n",
    "from sklearn.tree import DecisionTreeClassifier\n",
    "from sklearn.ensemble import GradientBoostingClassifier\n",
    "from sklearn.ensemble import StackingClassifier\n",
    "from sklearn.ensemble import RandomForestClassifier\n",
    "from sklearn.feature_selection import VarianceThreshold\n",
    "from sklearn.feature_selection import SelectPercentile, mutual_info_regression, chi2\n"
   ]
  },
  {
   "cell_type": "code",
   "execution_count": 4,
   "metadata": {},
   "outputs": [
    {
     "data": {
      "text/html": [
       "<div>\n",
       "<style scoped>\n",
       "    .dataframe tbody tr th:only-of-type {\n",
       "        vertical-align: middle;\n",
       "    }\n",
       "\n",
       "    .dataframe tbody tr th {\n",
       "        vertical-align: top;\n",
       "    }\n",
       "\n",
       "    .dataframe thead th {\n",
       "        text-align: right;\n",
       "    }\n",
       "</style>\n",
       "<table border=\"1\" class=\"dataframe\">\n",
       "  <thead>\n",
       "    <tr style=\"text-align: right;\">\n",
       "      <th></th>\n",
       "      <th>uuid</th>\n",
       "      <th>default</th>\n",
       "      <th>account_amount_added_12_24m</th>\n",
       "      <th>account_days_in_dc_12_24m</th>\n",
       "      <th>account_days_in_rem_12_24m</th>\n",
       "      <th>account_days_in_term_12_24m</th>\n",
       "      <th>account_incoming_debt_vs_paid_0_24m</th>\n",
       "      <th>account_status</th>\n",
       "      <th>account_worst_status_0_3m</th>\n",
       "      <th>account_worst_status_12_24m</th>\n",
       "      <th>...</th>\n",
       "      <th>status_3rd_last_archived_0_24m</th>\n",
       "      <th>status_max_archived_0_6_months</th>\n",
       "      <th>status_max_archived_0_12_months</th>\n",
       "      <th>status_max_archived_0_24_months</th>\n",
       "      <th>recovery_debt</th>\n",
       "      <th>sum_capital_paid_account_0_12m</th>\n",
       "      <th>sum_capital_paid_account_12_24m</th>\n",
       "      <th>sum_paid_inv_0_12m</th>\n",
       "      <th>time_hours</th>\n",
       "      <th>worst_status_active_inv</th>\n",
       "    </tr>\n",
       "  </thead>\n",
       "  <tbody>\n",
       "    <tr>\n",
       "      <th>0</th>\n",
       "      <td>63f69b2c-8b1c-4740-b78d-52ed9a4515ac</td>\n",
       "      <td>0.0</td>\n",
       "      <td>0</td>\n",
       "      <td>0.0</td>\n",
       "      <td>0.0</td>\n",
       "      <td>0.0</td>\n",
       "      <td>0.0</td>\n",
       "      <td>1.0</td>\n",
       "      <td>1.0</td>\n",
       "      <td>NaN</td>\n",
       "      <td>...</td>\n",
       "      <td>1</td>\n",
       "      <td>1</td>\n",
       "      <td>1</td>\n",
       "      <td>1</td>\n",
       "      <td>0</td>\n",
       "      <td>0</td>\n",
       "      <td>0</td>\n",
       "      <td>178839</td>\n",
       "      <td>9.653333</td>\n",
       "      <td>1.0</td>\n",
       "    </tr>\n",
       "    <tr>\n",
       "      <th>1</th>\n",
       "      <td>0e961183-8c15-4470-9a5e-07a1bd207661</td>\n",
       "      <td>0.0</td>\n",
       "      <td>0</td>\n",
       "      <td>0.0</td>\n",
       "      <td>0.0</td>\n",
       "      <td>0.0</td>\n",
       "      <td>NaN</td>\n",
       "      <td>1.0</td>\n",
       "      <td>1.0</td>\n",
       "      <td>1.0</td>\n",
       "      <td>...</td>\n",
       "      <td>1</td>\n",
       "      <td>1</td>\n",
       "      <td>2</td>\n",
       "      <td>2</td>\n",
       "      <td>0</td>\n",
       "      <td>0</td>\n",
       "      <td>0</td>\n",
       "      <td>49014</td>\n",
       "      <td>13.181389</td>\n",
       "      <td>NaN</td>\n",
       "    </tr>\n",
       "    <tr>\n",
       "      <th>2</th>\n",
       "      <td>d8edaae6-4368-44e0-941e-8328f203e64e</td>\n",
       "      <td>0.0</td>\n",
       "      <td>0</td>\n",
       "      <td>0.0</td>\n",
       "      <td>0.0</td>\n",
       "      <td>0.0</td>\n",
       "      <td>NaN</td>\n",
       "      <td>NaN</td>\n",
       "      <td>NaN</td>\n",
       "      <td>NaN</td>\n",
       "      <td>...</td>\n",
       "      <td>1</td>\n",
       "      <td>1</td>\n",
       "      <td>2</td>\n",
       "      <td>2</td>\n",
       "      <td>0</td>\n",
       "      <td>0</td>\n",
       "      <td>0</td>\n",
       "      <td>124839</td>\n",
       "      <td>11.561944</td>\n",
       "      <td>1.0</td>\n",
       "    </tr>\n",
       "    <tr>\n",
       "      <th>3</th>\n",
       "      <td>0095dfb6-a886-4e2a-b056-15ef45fdb0ef</td>\n",
       "      <td>0.0</td>\n",
       "      <td>0</td>\n",
       "      <td>NaN</td>\n",
       "      <td>NaN</td>\n",
       "      <td>NaN</td>\n",
       "      <td>NaN</td>\n",
       "      <td>NaN</td>\n",
       "      <td>NaN</td>\n",
       "      <td>NaN</td>\n",
       "      <td>...</td>\n",
       "      <td>1</td>\n",
       "      <td>1</td>\n",
       "      <td>1</td>\n",
       "      <td>1</td>\n",
       "      <td>0</td>\n",
       "      <td>0</td>\n",
       "      <td>0</td>\n",
       "      <td>324676</td>\n",
       "      <td>15.751111</td>\n",
       "      <td>1.0</td>\n",
       "    </tr>\n",
       "    <tr>\n",
       "      <th>4</th>\n",
       "      <td>c8f8b835-5647-4506-bf15-49105d8af30b</td>\n",
       "      <td>0.0</td>\n",
       "      <td>0</td>\n",
       "      <td>0.0</td>\n",
       "      <td>0.0</td>\n",
       "      <td>0.0</td>\n",
       "      <td>NaN</td>\n",
       "      <td>NaN</td>\n",
       "      <td>NaN</td>\n",
       "      <td>NaN</td>\n",
       "      <td>...</td>\n",
       "      <td>0</td>\n",
       "      <td>1</td>\n",
       "      <td>1</td>\n",
       "      <td>1</td>\n",
       "      <td>0</td>\n",
       "      <td>0</td>\n",
       "      <td>0</td>\n",
       "      <td>7100</td>\n",
       "      <td>12.698611</td>\n",
       "      <td>NaN</td>\n",
       "    </tr>\n",
       "  </tbody>\n",
       "</table>\n",
       "<p>5 rows × 43 columns</p>\n",
       "</div>"
      ],
      "text/plain": [
       "                                   uuid  default  account_amount_added_12_24m  \\\n",
       "0  63f69b2c-8b1c-4740-b78d-52ed9a4515ac      0.0                            0   \n",
       "1  0e961183-8c15-4470-9a5e-07a1bd207661      0.0                            0   \n",
       "2  d8edaae6-4368-44e0-941e-8328f203e64e      0.0                            0   \n",
       "3  0095dfb6-a886-4e2a-b056-15ef45fdb0ef      0.0                            0   \n",
       "4  c8f8b835-5647-4506-bf15-49105d8af30b      0.0                            0   \n",
       "\n",
       "   account_days_in_dc_12_24m  account_days_in_rem_12_24m  \\\n",
       "0                        0.0                         0.0   \n",
       "1                        0.0                         0.0   \n",
       "2                        0.0                         0.0   \n",
       "3                        NaN                         NaN   \n",
       "4                        0.0                         0.0   \n",
       "\n",
       "   account_days_in_term_12_24m  account_incoming_debt_vs_paid_0_24m  \\\n",
       "0                          0.0                                  0.0   \n",
       "1                          0.0                                  NaN   \n",
       "2                          0.0                                  NaN   \n",
       "3                          NaN                                  NaN   \n",
       "4                          0.0                                  NaN   \n",
       "\n",
       "   account_status  account_worst_status_0_3m  account_worst_status_12_24m  \\\n",
       "0             1.0                        1.0                          NaN   \n",
       "1             1.0                        1.0                          1.0   \n",
       "2             NaN                        NaN                          NaN   \n",
       "3             NaN                        NaN                          NaN   \n",
       "4             NaN                        NaN                          NaN   \n",
       "\n",
       "   ...  status_3rd_last_archived_0_24m  status_max_archived_0_6_months  \\\n",
       "0  ...                               1                               1   \n",
       "1  ...                               1                               1   \n",
       "2  ...                               1                               1   \n",
       "3  ...                               1                               1   \n",
       "4  ...                               0                               1   \n",
       "\n",
       "   status_max_archived_0_12_months  status_max_archived_0_24_months  \\\n",
       "0                                1                                1   \n",
       "1                                2                                2   \n",
       "2                                2                                2   \n",
       "3                                1                                1   \n",
       "4                                1                                1   \n",
       "\n",
       "   recovery_debt sum_capital_paid_account_0_12m  \\\n",
       "0              0                              0   \n",
       "1              0                              0   \n",
       "2              0                              0   \n",
       "3              0                              0   \n",
       "4              0                              0   \n",
       "\n",
       "  sum_capital_paid_account_12_24m  sum_paid_inv_0_12m  time_hours  \\\n",
       "0                               0              178839    9.653333   \n",
       "1                               0               49014   13.181389   \n",
       "2                               0              124839   11.561944   \n",
       "3                               0              324676   15.751111   \n",
       "4                               0                7100   12.698611   \n",
       "\n",
       "   worst_status_active_inv  \n",
       "0                      1.0  \n",
       "1                      NaN  \n",
       "2                      1.0  \n",
       "3                      1.0  \n",
       "4                      NaN  \n",
       "\n",
       "[5 rows x 43 columns]"
      ]
     },
     "execution_count": 4,
     "metadata": {},
     "output_type": "execute_result"
    }
   ],
   "source": [
    "data = pd.read_csv('../data/raw/dataset.csv',sep=';')\n",
    "data = data.copy()\n",
    "data.head()"
   ]
  },
  {
   "cell_type": "code",
   "execution_count": 5,
   "metadata": {},
   "outputs": [
    {
     "data": {
      "text/plain": [
       "Index(['uuid', 'default', 'account_amount_added_12_24m',\n",
       "       'account_days_in_dc_12_24m', 'account_days_in_rem_12_24m',\n",
       "       'account_days_in_term_12_24m', 'account_incoming_debt_vs_paid_0_24m',\n",
       "       'account_status', 'account_worst_status_0_3m',\n",
       "       'account_worst_status_12_24m', 'account_worst_status_3_6m',\n",
       "       'account_worst_status_6_12m', 'age', 'avg_payment_span_0_12m',\n",
       "       'avg_payment_span_0_3m', 'merchant_category', 'merchant_group',\n",
       "       'has_paid', 'max_paid_inv_0_12m', 'max_paid_inv_0_24m', 'name_in_email',\n",
       "       'num_active_div_by_paid_inv_0_12m', 'num_active_inv',\n",
       "       'num_arch_dc_0_12m', 'num_arch_dc_12_24m', 'num_arch_ok_0_12m',\n",
       "       'num_arch_ok_12_24m', 'num_arch_rem_0_12m',\n",
       "       'num_arch_written_off_0_12m', 'num_arch_written_off_12_24m',\n",
       "       'num_unpaid_bills', 'status_last_archived_0_24m',\n",
       "       'status_2nd_last_archived_0_24m', 'status_3rd_last_archived_0_24m',\n",
       "       'status_max_archived_0_6_months', 'status_max_archived_0_12_months',\n",
       "       'status_max_archived_0_24_months', 'recovery_debt',\n",
       "       'sum_capital_paid_account_0_12m', 'sum_capital_paid_account_12_24m',\n",
       "       'sum_paid_inv_0_12m', 'time_hours', 'worst_status_active_inv'],\n",
       "      dtype='object')"
      ]
     },
     "execution_count": 5,
     "metadata": {},
     "output_type": "execute_result"
    }
   ],
   "source": [
    "data.columns"
   ]
  },
  {
   "cell_type": "markdown",
   "metadata": {},
   "source": [
    "## 1. Preprocessing workflow "
   ]
  },
  {
   "attachments": {},
   "cell_type": "markdown",
   "metadata": {},
   "source": [
    "## Preprocessing\n",
    "### Pipeline "
   ]
  },
  {
   "attachments": {},
   "cell_type": "markdown",
   "metadata": {},
   "source": [
    "### a) Ordinal Encoding \n",
    "#### Explanation - [Ordinal Encoding or One-Hot-Encoding](https://stackoverflow.com/questions/69052776/ordinal-encoding-or-one-hot-encoding)"
   ]
  },
  {
   "cell_type": "code",
   "execution_count": 6,
   "metadata": {},
   "outputs": [],
   "source": [
    "# removing the missing values of the target and these raws from the dataset\n",
    "###\n",
    "# removing coulumn \"uuid\" from the dataset\n",
    "data_id = data['uuid']\n",
    "#_ = data.reset_index()\n",
    "#data = _.drop(['uuid'], axis=1)\n",
    "data.drop(['uuid'], axis=1, inplace=True)\n",
    "# setting target and removing the \"default\" from dataset\n",
    "target = data['default'].dropna()\n",
    "data.dropna(subset=['default'], axis=0, inplace=True)\n",
    "data.drop(['default'], axis=1, inplace=True)\n",
    "# isna and isnull were not recognizing \"nan\" \n",
    "data = data.replace('nan', np.NaN)\n"
   ]
  },
  {
   "cell_type": "code",
   "execution_count": 7,
   "metadata": {},
   "outputs": [],
   "source": [
    " # converting these columns to \"object\" type\n",
    "list_float_to_obj = [\"worst_status_active_inv\", \"account_status\",\"account_worst_status_0_3m\",\n",
    "                     \"account_worst_status_12_24m\", \"account_worst_status_3_6m\", \"account_worst_status_6_12m\",\n",
    "                     \"status_last_archived_0_24m\", \"status_2nd_last_archived_0_24m\",\"status_3rd_last_archived_0_24m\",\n",
    "                     \"status_max_archived_0_6_months\",\"status_max_archived_0_12_months\",\"status_max_archived_0_24_months\",\n",
    "                     \"has_paid\"]\n",
    "\n",
    "_ = [data.__setitem__(feature, data[feature].astype(\"object\")) for feature in list_float_to_obj]\n"
   ]
  },
  {
   "cell_type": "code",
   "execution_count": 8,
   "metadata": {},
   "outputs": [],
   "source": [
    "feat_ordinal_dict = {\n",
    "    # considers \"missing\" as \"neutral\"\n",
    "    \"account_status\": ['missing', 1.0, 2.0, 3.0, 4.0],\n",
    "    \"account_worst_status_0_3m\": ['missing', 1.0, 2.0, 3.0, 4.0],\n",
    "    \"account_worst_status_12_24m\": ['missing', 1.0, 2.0, 3.0, 4.0],\n",
    "    \"account_worst_status_3_6m\": ['missing', 1.0, 2.0, 3.0, 4.0],\n",
    "    \"account_worst_status_6_12m\": ['missing', 1.0, 2.0, 3.0, 4.0],\n",
    "    \"has_paid\": ['True', 'False'],\n",
    "    \"status_last_archived_0_24m\": [1, 0, 2, 3, 5],\n",
    "    \"status_2nd_last_archived_0_24m\": [1, 0, 2, 3, 5],\n",
    "    \"status_3rd_last_archived_0_24m\": [1, 0, 2, 3, 5],\n",
    "    \"status_max_archived_0_6_months\": [1, 0, 2, 3],\n",
    "    \"status_max_archived_0_12_months\": [1, 2, 0, 3, 5],\n",
    "    \"status_max_archived_0_24_months\": [1, 2, 0, 3, 5],\n",
    "    \"worst_status_active_inv\": ['missing', 1.0, 2.0, 3.0]\n",
    "}\n",
    "\n",
    "feat_ordinal = sorted(feat_ordinal_dict.keys()) # sort alphabetically\n",
    "feat_ordinal_values_sorted = [feat_ordinal_dict[i] for i in feat_ordinal]\n"
   ]
  },
  {
   "cell_type": "code",
   "execution_count": 9,
   "metadata": {},
   "outputs": [],
   "source": [
    "# renaming the columns to have less characteres \n",
    "data = data.rename(columns={'merchant_category': 'cat', 'merchant_group': 'grp', 'name_in_email': 'email'})"
   ]
  },
  {
   "cell_type": "code",
   "execution_count": 10,
   "metadata": {},
   "outputs": [],
   "source": [
    "# UserWarning: Persisting input arguments took 3.76s to run.\n",
    "# If this happens often in your code, it can cause performance problems \n",
    "# (results will be correct in all cases). \n",
    "# The reason for this is probably some large input arguments for a wrapped\n",
    "# function (e.g. large strings).\n",
    "# THIS IS A JOBLIB ISSUE. If you can, kindly provide the joblib's team with an\n",
    "# example so that they can fix the problem.\n",
    "# X, fitted_transformer = fit_transform_one_cached(\n",
    "# to surpass the above warning message we're simplifying the names of the categories.\n",
    "\n",
    "simplifying_dict = {'Dietary supplements': 'diet suppls', \n",
    "                    'Books & Magazines':'read prod',\n",
    "                    'Diversified entertainment': 'Diver entmt',\n",
    "                    'Electronic equipment & Related accessories':'elect eqt & related accs',\n",
    "                    'Concept stores & Miscellaneous': 'concept stores & misc', \n",
    "                    'Youthful Shoes & Clothing': 'youth shoes & cloth',\n",
    "                    'General Shoes & Clothing': 'gen shoes & cloth', \n",
    "                    'Prints & Photos': 'prt & pic',\n",
    "                    'Diversified children products':'diver children prods', \n",
    "                    'Pet supplies': 'pet sups',\n",
    "                    'Diversified Home & Garden products': 'diver home & gdn prod', \n",
    "                    'Sports gear & Outdoor':'sports gear & Outa',\n",
    "                    'Diversified electronics':'diver elect', \n",
    "                    'Diversified Jewelry & Accessories':'diver jewelry & accs',\n",
    "                    'Travel services':'travel serv', \n",
    "                    'Prescription optics': 'rx optics',\n",
    "                    'Pharmaceutical products':'pharmaceutical prod', \n",
    "                    'Dating services': 'dating serv',\n",
    "                    'Diversified Health & Beauty products':'diver health & bt prod', \n",
    "                    'Automotive Parts & Accessories': 'auto parts & accs', \n",
    "                    'Jewelry & Watches':'jewelry & watches',\n",
    "                    'Digital services': 'digit serv', \n",
    "                    'Decoration & Art': 'decor & art',\n",
    "                    'Children Clothes & Nurturing products': 'children prod',\n",
    "                    'Hobby articles': 'hobby art.',\n",
    "                    'Personal care & Body improvement': 'personal care prod', \n",
    "                    'Diversified erotic material': 'diver erotic mater',\n",
    "                    'Video Games & Related accessories': 'videogGames & accs',\n",
    "                    'Tools & Home improvement':'home tool improv',\n",
    "                    'Household electronics (whitegoods/appliances)': 'household elect',\n",
    "                    'Adult Shoes & Clothing': 'adult shoes & cloth',\n",
    "                    'Erotic Clothing & Accessories':'erotic cloth & accs',\n",
    "                    'Costumes & Party supplies':'costumes & party sups',\n",
    "                    'Musical Instruments & Equipment': 'musical instruments & eqt',\n",
    "                    'Wine, Beer & Liquor': 'alcohol drinks',\n",
    "                    'Office machines & Related accessories (excl. computers)':'office accs',\n",
    "                    }\n",
    "\n",
    "data['cat'] = data['cat'].replace({k: v for k, v in simplifying_dict.items() if k in set(data['cat'])})\n",
    "\n",
    "# checking \n",
    "# data.select_dtypes(include='object').nunique()"
   ]
  },
  {
   "cell_type": "markdown",
   "metadata": {},
   "source": [
    "### b) Statistical Feature Selection"
   ]
  },
  {
   "cell_type": "code",
   "execution_count": 11,
   "metadata": {},
   "outputs": [
    {
     "data": {
      "text/html": [
       "<style>#sk-container-id-1 {color: black;background-color: white;}#sk-container-id-1 pre{padding: 0;}#sk-container-id-1 div.sk-toggleable {background-color: white;}#sk-container-id-1 label.sk-toggleable__label {cursor: pointer;display: block;width: 100%;margin-bottom: 0;padding: 0.3em;box-sizing: border-box;text-align: center;}#sk-container-id-1 label.sk-toggleable__label-arrow:before {content: \"▸\";float: left;margin-right: 0.25em;color: #696969;}#sk-container-id-1 label.sk-toggleable__label-arrow:hover:before {color: black;}#sk-container-id-1 div.sk-estimator:hover label.sk-toggleable__label-arrow:before {color: black;}#sk-container-id-1 div.sk-toggleable__content {max-height: 0;max-width: 0;overflow: hidden;text-align: left;background-color: #f0f8ff;}#sk-container-id-1 div.sk-toggleable__content pre {margin: 0.2em;color: black;border-radius: 0.25em;background-color: #f0f8ff;}#sk-container-id-1 input.sk-toggleable__control:checked~div.sk-toggleable__content {max-height: 200px;max-width: 100%;overflow: auto;}#sk-container-id-1 input.sk-toggleable__control:checked~label.sk-toggleable__label-arrow:before {content: \"▾\";}#sk-container-id-1 div.sk-estimator input.sk-toggleable__control:checked~label.sk-toggleable__label {background-color: #d4ebff;}#sk-container-id-1 div.sk-label input.sk-toggleable__control:checked~label.sk-toggleable__label {background-color: #d4ebff;}#sk-container-id-1 input.sk-hidden--visually {border: 0;clip: rect(1px 1px 1px 1px);clip: rect(1px, 1px, 1px, 1px);height: 1px;margin: -1px;overflow: hidden;padding: 0;position: absolute;width: 1px;}#sk-container-id-1 div.sk-estimator {font-family: monospace;background-color: #f0f8ff;border: 1px dotted black;border-radius: 0.25em;box-sizing: border-box;margin-bottom: 0.5em;}#sk-container-id-1 div.sk-estimator:hover {background-color: #d4ebff;}#sk-container-id-1 div.sk-parallel-item::after {content: \"\";width: 100%;border-bottom: 1px solid gray;flex-grow: 1;}#sk-container-id-1 div.sk-label:hover label.sk-toggleable__label {background-color: #d4ebff;}#sk-container-id-1 div.sk-serial::before {content: \"\";position: absolute;border-left: 1px solid gray;box-sizing: border-box;top: 0;bottom: 0;left: 50%;z-index: 0;}#sk-container-id-1 div.sk-serial {display: flex;flex-direction: column;align-items: center;background-color: white;padding-right: 0.2em;padding-left: 0.2em;position: relative;}#sk-container-id-1 div.sk-item {position: relative;z-index: 1;}#sk-container-id-1 div.sk-parallel {display: flex;align-items: stretch;justify-content: center;background-color: white;position: relative;}#sk-container-id-1 div.sk-item::before, #sk-container-id-1 div.sk-parallel-item::before {content: \"\";position: absolute;border-left: 1px solid gray;box-sizing: border-box;top: 0;bottom: 0;left: 50%;z-index: -1;}#sk-container-id-1 div.sk-parallel-item {display: flex;flex-direction: column;z-index: 1;position: relative;background-color: white;}#sk-container-id-1 div.sk-parallel-item:first-child::after {align-self: flex-end;width: 50%;}#sk-container-id-1 div.sk-parallel-item:last-child::after {align-self: flex-start;width: 50%;}#sk-container-id-1 div.sk-parallel-item:only-child::after {width: 0;}#sk-container-id-1 div.sk-dashed-wrapped {border: 1px dashed gray;margin: 0 0.4em 0.5em 0.4em;box-sizing: border-box;padding-bottom: 0.4em;background-color: white;}#sk-container-id-1 div.sk-label label {font-family: monospace;font-weight: bold;display: inline-block;line-height: 1.2em;}#sk-container-id-1 div.sk-label-container {text-align: center;}#sk-container-id-1 div.sk-container {/* jupyter's `normalize.less` sets `[hidden] { display: none; }` but bootstrap.min.css set `[hidden] { display: none !important; }` so we also need the `!important` here to be able to override the default hidden behavior on the sphinx rendered scikit-learn.org. See: https://github.com/scikit-learn/scikit-learn/issues/21755 */display: inline-block !important;position: relative;}#sk-container-id-1 div.sk-text-repr-fallback {display: none;}</style><div id=\"sk-container-id-1\" class=\"sk-top-container\"><div class=\"sk-text-repr-fallback\"><pre>Pipeline(steps=[(&#x27;columntransformer&#x27;,\n",
       "                 ColumnTransformer(transformers=[(&#x27;pipeline-1&#x27;,\n",
       "                                                  Pipeline(steps=[(&#x27;knnimputer&#x27;,\n",
       "                                                                   KNNImputer()),\n",
       "                                                                  (&#x27;minmaxscaler&#x27;,\n",
       "                                                                   MinMaxScaler())]),\n",
       "                                                  &lt;sklearn.compose._column_transformer.make_column_selector object at 0x139c54c10&gt;),\n",
       "                                                 (&#x27;pipeline-2&#x27;,\n",
       "                                                  Pipeline(steps=[(&#x27;simpleimputer&#x27;,\n",
       "                                                                   SimpleImputer(fill_value=&#x27;missing&#x27;,\n",
       "                                                                                 strategy=&#x27;constant&#x27;)),\n",
       "                                                                  (&#x27;ordi...\n",
       "                                                   &#x27;status_max_archived_0_24_months&#x27;,\n",
       "                                                   &#x27;status_max_archived_0_6_months&#x27;,\n",
       "                                                   &#x27;worst_status_active_inv&#x27;]),\n",
       "                                                 (&#x27;pipeline-3&#x27;,\n",
       "                                                  Pipeline(steps=[(&#x27;simpleimputer&#x27;,\n",
       "                                                                   SimpleImputer(strategy=&#x27;most_frequent&#x27;)),\n",
       "                                                                  (&#x27;onehotencoder&#x27;,\n",
       "                                                                   OneHotEncoder(handle_unknown=&#x27;ignore&#x27;))]),\n",
       "                                                  [&#x27;cat&#x27;, &#x27;email&#x27;, &#x27;grp&#x27;])])),\n",
       "                (&#x27;selectpercentile&#x27;,\n",
       "                 SelectPercentile(percentile=40,\n",
       "                                  score_func=&lt;function chi2 at 0x13807ddc0&gt;))])</pre><b>In a Jupyter environment, please rerun this cell to show the HTML representation or trust the notebook. <br />On GitHub, the HTML representation is unable to render, please try loading this page with nbviewer.org.</b></div><div class=\"sk-container\" hidden><div class=\"sk-item sk-dashed-wrapped\"><div class=\"sk-label-container\"><div class=\"sk-label sk-toggleable\"><input class=\"sk-toggleable__control sk-hidden--visually\" id=\"sk-estimator-id-1\" type=\"checkbox\" ><label for=\"sk-estimator-id-1\" class=\"sk-toggleable__label sk-toggleable__label-arrow\">Pipeline</label><div class=\"sk-toggleable__content\"><pre>Pipeline(steps=[(&#x27;columntransformer&#x27;,\n",
       "                 ColumnTransformer(transformers=[(&#x27;pipeline-1&#x27;,\n",
       "                                                  Pipeline(steps=[(&#x27;knnimputer&#x27;,\n",
       "                                                                   KNNImputer()),\n",
       "                                                                  (&#x27;minmaxscaler&#x27;,\n",
       "                                                                   MinMaxScaler())]),\n",
       "                                                  &lt;sklearn.compose._column_transformer.make_column_selector object at 0x139c54c10&gt;),\n",
       "                                                 (&#x27;pipeline-2&#x27;,\n",
       "                                                  Pipeline(steps=[(&#x27;simpleimputer&#x27;,\n",
       "                                                                   SimpleImputer(fill_value=&#x27;missing&#x27;,\n",
       "                                                                                 strategy=&#x27;constant&#x27;)),\n",
       "                                                                  (&#x27;ordi...\n",
       "                                                   &#x27;status_max_archived_0_24_months&#x27;,\n",
       "                                                   &#x27;status_max_archived_0_6_months&#x27;,\n",
       "                                                   &#x27;worst_status_active_inv&#x27;]),\n",
       "                                                 (&#x27;pipeline-3&#x27;,\n",
       "                                                  Pipeline(steps=[(&#x27;simpleimputer&#x27;,\n",
       "                                                                   SimpleImputer(strategy=&#x27;most_frequent&#x27;)),\n",
       "                                                                  (&#x27;onehotencoder&#x27;,\n",
       "                                                                   OneHotEncoder(handle_unknown=&#x27;ignore&#x27;))]),\n",
       "                                                  [&#x27;cat&#x27;, &#x27;email&#x27;, &#x27;grp&#x27;])])),\n",
       "                (&#x27;selectpercentile&#x27;,\n",
       "                 SelectPercentile(percentile=40,\n",
       "                                  score_func=&lt;function chi2 at 0x13807ddc0&gt;))])</pre></div></div></div><div class=\"sk-serial\"><div class=\"sk-item sk-dashed-wrapped\"><div class=\"sk-label-container\"><div class=\"sk-label sk-toggleable\"><input class=\"sk-toggleable__control sk-hidden--visually\" id=\"sk-estimator-id-2\" type=\"checkbox\" ><label for=\"sk-estimator-id-2\" class=\"sk-toggleable__label sk-toggleable__label-arrow\">columntransformer: ColumnTransformer</label><div class=\"sk-toggleable__content\"><pre>ColumnTransformer(transformers=[(&#x27;pipeline-1&#x27;,\n",
       "                                 Pipeline(steps=[(&#x27;knnimputer&#x27;, KNNImputer()),\n",
       "                                                 (&#x27;minmaxscaler&#x27;,\n",
       "                                                  MinMaxScaler())]),\n",
       "                                 &lt;sklearn.compose._column_transformer.make_column_selector object at 0x139c54c10&gt;),\n",
       "                                (&#x27;pipeline-2&#x27;,\n",
       "                                 Pipeline(steps=[(&#x27;simpleimputer&#x27;,\n",
       "                                                  SimpleImputer(fill_value=&#x27;missing&#x27;,\n",
       "                                                                strategy=&#x27;constant&#x27;)),\n",
       "                                                 (&#x27;ordinalencoder&#x27;,\n",
       "                                                  OrdinalEncoder(categories...\n",
       "                                  &#x27;status_3rd_last_archived_0_24m&#x27;,\n",
       "                                  &#x27;status_last_archived_0_24m&#x27;,\n",
       "                                  &#x27;status_max_archived_0_12_months&#x27;,\n",
       "                                  &#x27;status_max_archived_0_24_months&#x27;,\n",
       "                                  &#x27;status_max_archived_0_6_months&#x27;,\n",
       "                                  &#x27;worst_status_active_inv&#x27;]),\n",
       "                                (&#x27;pipeline-3&#x27;,\n",
       "                                 Pipeline(steps=[(&#x27;simpleimputer&#x27;,\n",
       "                                                  SimpleImputer(strategy=&#x27;most_frequent&#x27;)),\n",
       "                                                 (&#x27;onehotencoder&#x27;,\n",
       "                                                  OneHotEncoder(handle_unknown=&#x27;ignore&#x27;))]),\n",
       "                                 [&#x27;cat&#x27;, &#x27;email&#x27;, &#x27;grp&#x27;])])</pre></div></div></div><div class=\"sk-parallel\"><div class=\"sk-parallel-item\"><div class=\"sk-item\"><div class=\"sk-label-container\"><div class=\"sk-label sk-toggleable\"><input class=\"sk-toggleable__control sk-hidden--visually\" id=\"sk-estimator-id-3\" type=\"checkbox\" ><label for=\"sk-estimator-id-3\" class=\"sk-toggleable__label sk-toggleable__label-arrow\">pipeline-1</label><div class=\"sk-toggleable__content\"><pre>&lt;sklearn.compose._column_transformer.make_column_selector object at 0x139c54c10&gt;</pre></div></div></div><div class=\"sk-serial\"><div class=\"sk-item\"><div class=\"sk-serial\"><div class=\"sk-item\"><div class=\"sk-estimator sk-toggleable\"><input class=\"sk-toggleable__control sk-hidden--visually\" id=\"sk-estimator-id-4\" type=\"checkbox\" ><label for=\"sk-estimator-id-4\" class=\"sk-toggleable__label sk-toggleable__label-arrow\">KNNImputer</label><div class=\"sk-toggleable__content\"><pre>KNNImputer()</pre></div></div></div><div class=\"sk-item\"><div class=\"sk-estimator sk-toggleable\"><input class=\"sk-toggleable__control sk-hidden--visually\" id=\"sk-estimator-id-5\" type=\"checkbox\" ><label for=\"sk-estimator-id-5\" class=\"sk-toggleable__label sk-toggleable__label-arrow\">MinMaxScaler</label><div class=\"sk-toggleable__content\"><pre>MinMaxScaler()</pre></div></div></div></div></div></div></div></div><div class=\"sk-parallel-item\"><div class=\"sk-item\"><div class=\"sk-label-container\"><div class=\"sk-label sk-toggleable\"><input class=\"sk-toggleable__control sk-hidden--visually\" id=\"sk-estimator-id-6\" type=\"checkbox\" ><label for=\"sk-estimator-id-6\" class=\"sk-toggleable__label sk-toggleable__label-arrow\">pipeline-2</label><div class=\"sk-toggleable__content\"><pre>[&#x27;account_status&#x27;, &#x27;account_worst_status_0_3m&#x27;, &#x27;account_worst_status_12_24m&#x27;, &#x27;account_worst_status_3_6m&#x27;, &#x27;account_worst_status_6_12m&#x27;, &#x27;has_paid&#x27;, &#x27;status_2nd_last_archived_0_24m&#x27;, &#x27;status_3rd_last_archived_0_24m&#x27;, &#x27;status_last_archived_0_24m&#x27;, &#x27;status_max_archived_0_12_months&#x27;, &#x27;status_max_archived_0_24_months&#x27;, &#x27;status_max_archived_0_6_months&#x27;, &#x27;worst_status_active_inv&#x27;]</pre></div></div></div><div class=\"sk-serial\"><div class=\"sk-item\"><div class=\"sk-serial\"><div class=\"sk-item\"><div class=\"sk-estimator sk-toggleable\"><input class=\"sk-toggleable__control sk-hidden--visually\" id=\"sk-estimator-id-7\" type=\"checkbox\" ><label for=\"sk-estimator-id-7\" class=\"sk-toggleable__label sk-toggleable__label-arrow\">SimpleImputer</label><div class=\"sk-toggleable__content\"><pre>SimpleImputer(fill_value=&#x27;missing&#x27;, strategy=&#x27;constant&#x27;)</pre></div></div></div><div class=\"sk-item\"><div class=\"sk-estimator sk-toggleable\"><input class=\"sk-toggleable__control sk-hidden--visually\" id=\"sk-estimator-id-8\" type=\"checkbox\" ><label for=\"sk-estimator-id-8\" class=\"sk-toggleable__label sk-toggleable__label-arrow\">OrdinalEncoder</label><div class=\"sk-toggleable__content\"><pre>OrdinalEncoder(categories=[[&#x27;missing&#x27;, 1.0, 2.0, 3.0, 4.0],\n",
       "                           [&#x27;missing&#x27;, 1.0, 2.0, 3.0, 4.0],\n",
       "                           [&#x27;missing&#x27;, 1.0, 2.0, 3.0, 4.0],\n",
       "                           [&#x27;missing&#x27;, 1.0, 2.0, 3.0, 4.0],\n",
       "                           [&#x27;missing&#x27;, 1.0, 2.0, 3.0, 4.0], [&#x27;True&#x27;, &#x27;False&#x27;],\n",
       "                           [1, 0, 2, 3, 5], [1, 0, 2, 3, 5], [1, 0, 2, 3, 5],\n",
       "                           [1, 2, 0, 3, 5], [1, 2, 0, 3, 5], [1, 0, 2, 3],\n",
       "                           [&#x27;missing&#x27;, 1.0, 2.0, 3.0]],\n",
       "               dtype=&lt;class &#x27;numpy.int64&#x27;&gt;, handle_unknown=&#x27;use_encoded_value&#x27;,\n",
       "               unknown_value=-1)</pre></div></div></div><div class=\"sk-item\"><div class=\"sk-estimator sk-toggleable\"><input class=\"sk-toggleable__control sk-hidden--visually\" id=\"sk-estimator-id-9\" type=\"checkbox\" ><label for=\"sk-estimator-id-9\" class=\"sk-toggleable__label sk-toggleable__label-arrow\">MinMaxScaler</label><div class=\"sk-toggleable__content\"><pre>MinMaxScaler()</pre></div></div></div></div></div></div></div></div><div class=\"sk-parallel-item\"><div class=\"sk-item\"><div class=\"sk-label-container\"><div class=\"sk-label sk-toggleable\"><input class=\"sk-toggleable__control sk-hidden--visually\" id=\"sk-estimator-id-10\" type=\"checkbox\" ><label for=\"sk-estimator-id-10\" class=\"sk-toggleable__label sk-toggleable__label-arrow\">pipeline-3</label><div class=\"sk-toggleable__content\"><pre>[&#x27;cat&#x27;, &#x27;email&#x27;, &#x27;grp&#x27;]</pre></div></div></div><div class=\"sk-serial\"><div class=\"sk-item\"><div class=\"sk-serial\"><div class=\"sk-item\"><div class=\"sk-estimator sk-toggleable\"><input class=\"sk-toggleable__control sk-hidden--visually\" id=\"sk-estimator-id-11\" type=\"checkbox\" ><label for=\"sk-estimator-id-11\" class=\"sk-toggleable__label sk-toggleable__label-arrow\">SimpleImputer</label><div class=\"sk-toggleable__content\"><pre>SimpleImputer(strategy=&#x27;most_frequent&#x27;)</pre></div></div></div><div class=\"sk-item\"><div class=\"sk-estimator sk-toggleable\"><input class=\"sk-toggleable__control sk-hidden--visually\" id=\"sk-estimator-id-12\" type=\"checkbox\" ><label for=\"sk-estimator-id-12\" class=\"sk-toggleable__label sk-toggleable__label-arrow\">OneHotEncoder</label><div class=\"sk-toggleable__content\"><pre>OneHotEncoder(handle_unknown=&#x27;ignore&#x27;)</pre></div></div></div></div></div></div></div></div></div></div><div class=\"sk-item\"><div class=\"sk-estimator sk-toggleable\"><input class=\"sk-toggleable__control sk-hidden--visually\" id=\"sk-estimator-id-13\" type=\"checkbox\" ><label for=\"sk-estimator-id-13\" class=\"sk-toggleable__label sk-toggleable__label-arrow\">SelectPercentile</label><div class=\"sk-toggleable__content\"><pre>SelectPercentile(percentile=40, score_func=&lt;function chi2 at 0x13807ddc0&gt;)</pre></div></div></div></div></div></div></div>"
      ],
      "text/plain": [
       "Pipeline(steps=[('columntransformer',\n",
       "                 ColumnTransformer(transformers=[('pipeline-1',\n",
       "                                                  Pipeline(steps=[('knnimputer',\n",
       "                                                                   KNNImputer()),\n",
       "                                                                  ('minmaxscaler',\n",
       "                                                                   MinMaxScaler())]),\n",
       "                                                  <sklearn.compose._column_transformer.make_column_selector object at 0x139c54c10>),\n",
       "                                                 ('pipeline-2',\n",
       "                                                  Pipeline(steps=[('simpleimputer',\n",
       "                                                                   SimpleImputer(fill_value='missing',\n",
       "                                                                                 strategy='constant')),\n",
       "                                                                  ('ordi...\n",
       "                                                   'status_max_archived_0_24_months',\n",
       "                                                   'status_max_archived_0_6_months',\n",
       "                                                   'worst_status_active_inv']),\n",
       "                                                 ('pipeline-3',\n",
       "                                                  Pipeline(steps=[('simpleimputer',\n",
       "                                                                   SimpleImputer(strategy='most_frequent')),\n",
       "                                                                  ('onehotencoder',\n",
       "                                                                   OneHotEncoder(handle_unknown='ignore'))]),\n",
       "                                                  ['cat', 'email', 'grp'])])),\n",
       "                ('selectpercentile',\n",
       "                 SelectPercentile(percentile=40,\n",
       "                                  score_func=<function chi2 at 0x13807ddc0>))])"
      ]
     },
     "execution_count": 11,
     "metadata": {},
     "output_type": "execute_result"
    }
   ],
   "source": [
    "# Defining Numercal features\n",
    "feat_numerical = sorted(data.select_dtypes(include=[\"int64\", \"float64\"]).columns)\n",
    "# Define nominal features to one-hot-encode as the remaining ones (non numerical, non ordinal)\n",
    "feat_nominal = sorted(list(set(data.columns) - set(feat_numerical) - set(feat_ordinal)))\n",
    "\n",
    "#### Pipeline ######\n",
    "preproc_nominal = make_pipeline(\n",
    "    SimpleImputer(strategy=\"most_frequent\"),\n",
    "    OneHotEncoder(handle_unknown=\"ignore\")\n",
    ")\n",
    "\n",
    "# Pipeline final version  - prepoc \n",
    "encoder_ordinal = OrdinalEncoder(\n",
    "    categories=feat_ordinal_values_sorted,\n",
    "    dtype= np.int64,\n",
    "    handle_unknown=\"use_encoded_value\",\n",
    "    unknown_value=-1 # Considers unknown values as worse than \"missing\"\n",
    ")\n",
    "\n",
    "preproc_ordinal = make_pipeline(\n",
    "    SimpleImputer(strategy=\"constant\", fill_value=\"missing\"),\n",
    "    encoder_ordinal,\n",
    "    MinMaxScaler()\n",
    ")\n",
    "\n",
    "preproc_numerical = make_pipeline(\n",
    "    KNNImputer(),\n",
    "    MinMaxScaler()\n",
    ")\n",
    "\n",
    "preproc_transformer = make_column_transformer(\n",
    "    (preproc_numerical, make_column_selector(dtype_include=[\"int64\", \"float64\"])),\n",
    "    (preproc_ordinal, feat_ordinal),\n",
    "    (preproc_nominal, feat_nominal),\n",
    "    remainder=\"drop\")\n",
    "\n",
    "\n",
    "# preproc_selector = SelectPercentile(\n",
    "#     mutual_info_regression,\n",
    "#     percentile=50, # keep only xx% of all features )\n",
    "# )\n",
    "\n",
    "preproc_selector = SelectPercentile(\n",
    "    chi2,\n",
    "    percentile=40, # keep only xx% of all features )\n",
    ")\n",
    "\n",
    "\n",
    "# preproc_selector = VarianceThreshold(0)\n",
    "\n",
    "preproc = make_pipeline(\n",
    "    preproc_transformer,\n",
    "    preproc_selector\n",
    ")\n",
    "preproc"
   ]
  },
  {
   "cell_type": "code",
   "execution_count": 12,
   "metadata": {},
   "outputs": [],
   "source": [
    "# random_state=42 we want to compare the performance of diferent models\n",
    "X_train, X_test, y_train, y_test = train_test_split(data,target,test_size=0.30, random_state=42)\n"
   ]
  },
  {
   "cell_type": "code",
   "execution_count": 13,
   "metadata": {},
   "outputs": [],
   "source": [
    "\n",
    "# Get column names after preprocessing\n",
    "column_names = preproc.fit(X_train,y_train).get_feature_names_out()\n",
    "# Create new DataFrame with transformed data and column names\n",
    "X_train_preproc = pd.DataFrame(preproc.transform(X_train), columns=column_names, dtype=np.float16)\n"
   ]
  },
  {
   "cell_type": "code",
   "execution_count": 14,
   "metadata": {},
   "outputs": [],
   "source": [
    "# This code is setting up a cache directory to store the results of the preprocessing step of a pipeline.\n",
    "# Caching can improve the performance of the pipeline by avoiding repeated computation of the same preprocessing step. \n",
    "# The cache directory is created using the mkdtemp function from the tempfile module, \n",
    "# and the directory path is stored in the variable cachedir. \n",
    "# The directory will be automatically deleted after use by the rmtree function from the shutil module. \n",
    "# The use of caching can be controlled by setting the memory parameter of the Pipeline object to cachedir.\n",
    "allow_grid_searching = False # use True to activate girdsearch in the notebook cells below\n",
    "# Cache the preprocessing step of the pipeline\n",
    "cachedir = mkdtemp()\n"
   ]
  },
  {
   "cell_type": "code",
   "execution_count": 15,
   "metadata": {},
   "outputs": [],
   "source": [
    "# para avançar: ver rmse and rmse_neg. é valido para o meu caso, visto que a tenho um classification pred\n",
    "# obejctivo ver todas os passos aplicar e ver os resultados e APRENDER!"
   ]
  },
  {
   "cell_type": "markdown",
   "metadata": {},
   "source": [
    "### 2.2 Model Iteration ♻"
   ]
  },
  {
   "cell_type": "code",
   "execution_count": 16,
   "metadata": {},
   "outputs": [],
   "source": [
    "# supervised machine learning algorithm that is commonly used for classification tasks\n",
    "# loss: loss function can have a significant impact on the performance of the model. \n",
    "# Default loss = \"log_loss\". We'll hyperparameters to find the best model for our problem.  \n",
    "# by default learning_rate = 0.01 Setting a lower learning_rate can help prevent overfitting \n",
    "# by slowing down the learning process and preventing the model from becoming too complex\n",
    "# but also can lead to slower convergence. \n",
    "# n_estimators: This parameter sets the number of decision trees that will be created in the ensemble\n",
    "###### model #####\n",
    "model_gb = GradientBoostingClassifier(n_estimators=100, verbose=0)\n",
    "pipe_gb = make_pipeline(preproc, model_gb, memory=Memory(cachedir, verbose=0, mmap_mode='r', bytes_limit=10**9))\n"
   ]
  },
  {
   "cell_type": "code",
   "execution_count": 17,
   "metadata": {},
   "outputs": [],
   "source": [
    "# it's important to know what are the params we can use \n",
    "# pipe_gb.get_params()"
   ]
  },
  {
   "cell_type": "markdown",
   "metadata": {},
   "source": [
    "#### g) Model Gradient Boost Classifier - fine tuning - boosting!"
   ]
  },
  {
   "cell_type": "code",
   "execution_count": 18,
   "metadata": {},
   "outputs": [
    {
     "name": "stdout",
     "output_type": "stream",
     "text": [
      "Fitting 5 folds for each of 6 candidates, totalling 30 fits\n"
     ]
    },
    {
     "name": "stderr",
     "output_type": "stream",
     "text": [
      "/Users/emilioaguiar/.pyenv/versions/3.8.12/envs/klarna/lib/python3.8/site-packages/sklearn/pipeline.py:359: UserWarning: Persisting input arguments took 2.08s to run.\n",
      "If this happens often in your code, it can cause performance problems \n",
      "(results will be correct in all cases). \n",
      "The reason for this is probably some large input arguments for a wrapped\n",
      " function (e.g. large strings).\n",
      "THIS IS A JOBLIB ISSUE. If you can, kindly provide the joblib's team with an\n",
      " example so that they can fix the problem.\n",
      "  X, fitted_transformer = fit_transform_one_cached(\n"
     ]
    },
    {
     "name": "stdout",
     "output_type": "stream",
     "text": [
      "[CV] END gradientboostingclassifier__learning_rate=0.08186588861510276, gradientboostingclassifier__loss=exponential, gradientboostingclassifier__max_features=42, gradientboostingclassifier__n_estimators=254; total time= 6.1min\n"
     ]
    },
    {
     "name": "stderr",
     "output_type": "stream",
     "text": [
      "/Users/emilioaguiar/.pyenv/versions/3.8.12/envs/klarna/lib/python3.8/site-packages/sklearn/pipeline.py:359: UserWarning: Persisting input arguments took 1.99s to run.\n",
      "If this happens often in your code, it can cause performance problems \n",
      "(results will be correct in all cases). \n",
      "The reason for this is probably some large input arguments for a wrapped\n",
      " function (e.g. large strings).\n",
      "THIS IS A JOBLIB ISSUE. If you can, kindly provide the joblib's team with an\n",
      " example so that they can fix the problem.\n",
      "  X, fitted_transformer = fit_transform_one_cached(\n"
     ]
    },
    {
     "name": "stdout",
     "output_type": "stream",
     "text": [
      "[CV] END gradientboostingclassifier__learning_rate=0.08186588861510276, gradientboostingclassifier__loss=exponential, gradientboostingclassifier__max_features=42, gradientboostingclassifier__n_estimators=254; total time= 5.8min\n"
     ]
    },
    {
     "name": "stderr",
     "output_type": "stream",
     "text": [
      "/Users/emilioaguiar/.pyenv/versions/3.8.12/envs/klarna/lib/python3.8/site-packages/sklearn/pipeline.py:359: UserWarning: Persisting input arguments took 1.98s to run.\n",
      "If this happens often in your code, it can cause performance problems \n",
      "(results will be correct in all cases). \n",
      "The reason for this is probably some large input arguments for a wrapped\n",
      " function (e.g. large strings).\n",
      "THIS IS A JOBLIB ISSUE. If you can, kindly provide the joblib's team with an\n",
      " example so that they can fix the problem.\n",
      "  X, fitted_transformer = fit_transform_one_cached(\n"
     ]
    },
    {
     "name": "stdout",
     "output_type": "stream",
     "text": [
      "[CV] END gradientboostingclassifier__learning_rate=0.08186588861510276, gradientboostingclassifier__loss=exponential, gradientboostingclassifier__max_features=42, gradientboostingclassifier__n_estimators=254; total time= 5.7min\n"
     ]
    },
    {
     "name": "stderr",
     "output_type": "stream",
     "text": [
      "/Users/emilioaguiar/.pyenv/versions/3.8.12/envs/klarna/lib/python3.8/site-packages/sklearn/pipeline.py:359: UserWarning: Persisting input arguments took 2.12s to run.\n",
      "If this happens often in your code, it can cause performance problems \n",
      "(results will be correct in all cases). \n",
      "The reason for this is probably some large input arguments for a wrapped\n",
      " function (e.g. large strings).\n",
      "THIS IS A JOBLIB ISSUE. If you can, kindly provide the joblib's team with an\n",
      " example so that they can fix the problem.\n",
      "  X, fitted_transformer = fit_transform_one_cached(\n"
     ]
    },
    {
     "name": "stdout",
     "output_type": "stream",
     "text": [
      "[CV] END gradientboostingclassifier__learning_rate=0.08186588861510276, gradientboostingclassifier__loss=exponential, gradientboostingclassifier__max_features=42, gradientboostingclassifier__n_estimators=254; total time=16.2min\n"
     ]
    },
    {
     "name": "stderr",
     "output_type": "stream",
     "text": [
      "/Users/emilioaguiar/.pyenv/versions/3.8.12/envs/klarna/lib/python3.8/site-packages/sklearn/pipeline.py:359: UserWarning: Persisting input arguments took 1.99s to run.\n",
      "If this happens often in your code, it can cause performance problems \n",
      "(results will be correct in all cases). \n",
      "The reason for this is probably some large input arguments for a wrapped\n",
      " function (e.g. large strings).\n",
      "THIS IS A JOBLIB ISSUE. If you can, kindly provide the joblib's team with an\n",
      " example so that they can fix the problem.\n",
      "  X, fitted_transformer = fit_transform_one_cached(\n"
     ]
    },
    {
     "name": "stdout",
     "output_type": "stream",
     "text": [
      "[CV] END gradientboostingclassifier__learning_rate=0.08186588861510276, gradientboostingclassifier__loss=exponential, gradientboostingclassifier__max_features=42, gradientboostingclassifier__n_estimators=254; total time= 5.8min\n",
      "[CV] END gradientboostingclassifier__learning_rate=0.19132093850742615, gradientboostingclassifier__loss=exponential, gradientboostingclassifier__max_features=39, gradientboostingclassifier__n_estimators=125; total time= 1.2min\n",
      "[CV] END gradientboostingclassifier__learning_rate=0.19132093850742615, gradientboostingclassifier__loss=exponential, gradientboostingclassifier__max_features=39, gradientboostingclassifier__n_estimators=125; total time= 1.2min\n",
      "[CV] END gradientboostingclassifier__learning_rate=0.19132093850742615, gradientboostingclassifier__loss=exponential, gradientboostingclassifier__max_features=39, gradientboostingclassifier__n_estimators=125; total time= 1.2min\n",
      "[CV] END gradientboostingclassifier__learning_rate=0.19132093850742615, gradientboostingclassifier__loss=exponential, gradientboostingclassifier__max_features=39, gradientboostingclassifier__n_estimators=125; total time= 1.2min\n",
      "[CV] END gradientboostingclassifier__learning_rate=0.19132093850742615, gradientboostingclassifier__loss=exponential, gradientboostingclassifier__max_features=39, gradientboostingclassifier__n_estimators=125; total time= 1.2min\n",
      "[CV] END gradientboostingclassifier__learning_rate=0.050143767995083334, gradientboostingclassifier__loss=exponential, gradientboostingclassifier__max_features=8, gradientboostingclassifier__n_estimators=277; total time= 1.1min\n",
      "[CV] END gradientboostingclassifier__learning_rate=0.050143767995083334, gradientboostingclassifier__loss=exponential, gradientboostingclassifier__max_features=8, gradientboostingclassifier__n_estimators=277; total time= 1.2min\n",
      "[CV] END gradientboostingclassifier__learning_rate=0.050143767995083334, gradientboostingclassifier__loss=exponential, gradientboostingclassifier__max_features=8, gradientboostingclassifier__n_estimators=277; total time= 1.1min\n",
      "[CV] END gradientboostingclassifier__learning_rate=0.050143767995083334, gradientboostingclassifier__loss=exponential, gradientboostingclassifier__max_features=8, gradientboostingclassifier__n_estimators=277; total time= 1.1min\n",
      "[CV] END gradientboostingclassifier__learning_rate=0.050143767995083334, gradientboostingclassifier__loss=exponential, gradientboostingclassifier__max_features=8, gradientboostingclassifier__n_estimators=277; total time= 1.2min\n",
      "[CV] END gradientboostingclassifier__learning_rate=0.10051149363670611, gradientboostingclassifier__loss=exponential, gradientboostingclassifier__max_features=26, gradientboostingclassifier__n_estimators=230; total time= 1.2min\n",
      "[CV] END gradientboostingclassifier__learning_rate=0.10051149363670611, gradientboostingclassifier__loss=exponential, gradientboostingclassifier__max_features=26, gradientboostingclassifier__n_estimators=230; total time= 1.2min\n",
      "[CV] END gradientboostingclassifier__learning_rate=0.10051149363670611, gradientboostingclassifier__loss=exponential, gradientboostingclassifier__max_features=26, gradientboostingclassifier__n_estimators=230; total time= 1.2min\n",
      "[CV] END gradientboostingclassifier__learning_rate=0.10051149363670611, gradientboostingclassifier__loss=exponential, gradientboostingclassifier__max_features=26, gradientboostingclassifier__n_estimators=230; total time= 1.2min\n",
      "[CV] END gradientboostingclassifier__learning_rate=0.10051149363670611, gradientboostingclassifier__loss=exponential, gradientboostingclassifier__max_features=26, gradientboostingclassifier__n_estimators=230; total time= 1.3min\n",
      "[CV] END gradientboostingclassifier__learning_rate=0.12165081353505586, gradientboostingclassifier__loss=exponential, gradientboostingclassifier__max_features=26, gradientboostingclassifier__n_estimators=272; total time= 1.2min\n",
      "[CV] END gradientboostingclassifier__learning_rate=0.12165081353505586, gradientboostingclassifier__loss=exponential, gradientboostingclassifier__max_features=26, gradientboostingclassifier__n_estimators=272; total time= 1.3min\n",
      "[CV] END gradientboostingclassifier__learning_rate=0.12165081353505586, gradientboostingclassifier__loss=exponential, gradientboostingclassifier__max_features=26, gradientboostingclassifier__n_estimators=272; total time= 1.3min\n",
      "[CV] END gradientboostingclassifier__learning_rate=0.12165081353505586, gradientboostingclassifier__loss=exponential, gradientboostingclassifier__max_features=26, gradientboostingclassifier__n_estimators=272; total time= 1.3min\n",
      "[CV] END gradientboostingclassifier__learning_rate=0.12165081353505586, gradientboostingclassifier__loss=exponential, gradientboostingclassifier__max_features=26, gradientboostingclassifier__n_estimators=272; total time= 1.3min\n",
      "[CV] END gradientboostingclassifier__learning_rate=0.22915394514713155, gradientboostingclassifier__loss=log_loss, gradientboostingclassifier__max_features=23, gradientboostingclassifier__n_estimators=121; total time= 1.1min\n",
      "[CV] END gradientboostingclassifier__learning_rate=0.22915394514713155, gradientboostingclassifier__loss=log_loss, gradientboostingclassifier__max_features=23, gradientboostingclassifier__n_estimators=121; total time= 1.2min\n",
      "[CV] END gradientboostingclassifier__learning_rate=0.22915394514713155, gradientboostingclassifier__loss=log_loss, gradientboostingclassifier__max_features=23, gradientboostingclassifier__n_estimators=121; total time= 1.1min\n",
      "[CV] END gradientboostingclassifier__learning_rate=0.22915394514713155, gradientboostingclassifier__loss=log_loss, gradientboostingclassifier__max_features=23, gradientboostingclassifier__n_estimators=121; total time= 1.1min\n",
      "[CV] END gradientboostingclassifier__learning_rate=0.22915394514713155, gradientboostingclassifier__loss=log_loss, gradientboostingclassifier__max_features=23, gradientboostingclassifier__n_estimators=121; total time= 1.2min\n"
     ]
    },
    {
     "name": "stderr",
     "output_type": "stream",
     "text": [
      "/Users/emilioaguiar/.pyenv/versions/3.8.12/envs/klarna/lib/python3.8/site-packages/sklearn/pipeline.py:359: UserWarning: Persisting input arguments took 2.45s to run.\n",
      "If this happens often in your code, it can cause performance problems \n",
      "(results will be correct in all cases). \n",
      "The reason for this is probably some large input arguments for a wrapped\n",
      " function (e.g. large strings).\n",
      "THIS IS A JOBLIB ISSUE. If you can, kindly provide the joblib's team with an\n",
      " example so that they can fix the problem.\n",
      "  X, fitted_transformer = fit_transform_one_cached(\n"
     ]
    },
    {
     "name": "stdout",
     "output_type": "stream",
     "text": [
      "{'gradientboostingclassifier__learning_rate': 0.08186588861510276, 'gradientboostingclassifier__loss': 'exponential', 'gradientboostingclassifier__max_features': 42, 'gradientboostingclassifier__n_estimators': 254}\n"
     ]
    }
   ],
   "source": [
    "allow_grid_searching = True\n",
    "nr_features = len(column_names)\n",
    "if allow_grid_searching:\n",
    "    grid = {\n",
    "         'gradientboostingclassifier__n_estimators': stats.randint(50,300),\n",
    "         'gradientboostingclassifier__learning_rate':stats.uniform(0.05,0.3),\n",
    "         'gradientboostingclassifier__loss': ['log_loss','exponential'],\n",
    "    #    'gradientboostingclassifier__max_depth': stats.randint(3,5),    \n",
    "    #    'gradientboostingclassifier__min_samples_split':stats.randint(2,10),\n",
    "    #    'gradientboostingclassifier__subsample':[0.95, 1], # 1 default\n",
    "         'gradientboostingclassifier__max_features':stats.randint(1,nr_features), # default None, i.e = n_features\n",
    "    }\n",
    "\n",
    "    search_gb = RandomizedSearchCV(pipe_gb, grid, scoring=\"roc_auc\", n_iter=6, cv=5, n_jobs=1, verbose=2,)\n",
    "\n",
    "    # Fit data to Grid Search\n",
    "    search_gb.fit(X_train, y_train);\n",
    "    print(search_gb.best_params_)\n",
    "    search_gb.best_score_\n",
    "    pipe_gradboost_tuned = search_gb.best_estimator_\n",
    "\n",
    "    # Plot results of gridsearch\n",
    "    df_cv_results_ = pd.DataFrame(search_gb.cv_results_)\n",
    "    #sns.scatterplot(x=\"param_gradientboostingclassifier__n_estimators\", y='mean_test_score', data=df_cv_results_)\n",
    "    #sns.scatterplot(x=\"param_gradientboostingclassifier__max_features\", y='mean_test_score', data=df_cv_results_)\n",
    "    #sns.scatterplot(x=\"gradientboostingregressor__learning_rate\", y='mean_test_score', data=df_cv_results_)\n",
    "    #sns.scatterplot(x=\"gradientboostingclassifier__loss\", y='mean_test_score', data=df_cv_results_)\n",
    "    "
   ]
  },
  {
   "cell_type": "code",
   "execution_count": 19,
   "metadata": {},
   "outputs": [
    {
     "data": {
      "text/plain": [
       "0    0.905269\n",
       "2    0.904753\n",
       "3    0.904089\n",
       "4    0.903276\n",
       "1    0.902239\n",
       "5    0.896379\n",
       "Name: mean_test_score, dtype: float64"
      ]
     },
     "execution_count": 19,
     "metadata": {},
     "output_type": "execute_result"
    }
   ],
   "source": [
    "df_cv_results_['mean_test_score'].sort_values(ascending=False)"
   ]
  },
  {
   "attachments": {},
   "cell_type": "markdown",
   "metadata": {},
   "source": [
    "#### h) Model random Forest Classifier - boosting!"
   ]
  },
  {
   "cell_type": "code",
   "execution_count": 20,
   "metadata": {},
   "outputs": [
    {
     "name": "stdout",
     "output_type": "stream",
     "text": [
      "0.004377733213946799\n"
     ]
    },
    {
     "data": {
      "text/plain": [
       "0.9072582939675057"
      ]
     },
     "execution_count": 20,
     "metadata": {},
     "output_type": "execute_result"
    }
   ],
   "source": [
    "###### model #####\n",
    "model_randforest = RandomForestClassifier(max_depth=50,min_samples_leaf=20)\n",
    "pipe_randforest = make_pipeline(preproc, model_randforest, memory=Memory(cachedir, verbose=0, mmap_mode='r', bytes_limit=10**9))\n",
    "score_randforest = cross_val_score(pipe_randforest, X_train, y_train, cv=5, scoring=\"roc_auc\")\n",
    "print(score_randforest.std())\n",
    "score_randforest.mean()"
   ]
  },
  {
   "cell_type": "code",
   "execution_count": 21,
   "metadata": {},
   "outputs": [
    {
     "name": "stdout",
     "output_type": "stream",
     "text": [
      "Fitting 5 folds for each of 6 candidates, totalling 30 fits\n",
      "[CV] END randomforestclassifier__max_depth=61, randomforestclassifier__max_features=19, randomforestclassifier__min_samples_leaf=18, randomforestclassifier__n_estimators=176; total time= 1.3min\n",
      "[CV] END randomforestclassifier__max_depth=61, randomforestclassifier__max_features=19, randomforestclassifier__min_samples_leaf=18, randomforestclassifier__n_estimators=176; total time= 1.3min\n",
      "[CV] END randomforestclassifier__max_depth=61, randomforestclassifier__max_features=19, randomforestclassifier__min_samples_leaf=18, randomforestclassifier__n_estimators=176; total time= 1.3min\n",
      "[CV] END randomforestclassifier__max_depth=61, randomforestclassifier__max_features=19, randomforestclassifier__min_samples_leaf=18, randomforestclassifier__n_estimators=176; total time= 1.3min\n",
      "[CV] END randomforestclassifier__max_depth=61, randomforestclassifier__max_features=19, randomforestclassifier__min_samples_leaf=18, randomforestclassifier__n_estimators=176; total time= 1.4min\n",
      "[CV] END randomforestclassifier__max_depth=37, randomforestclassifier__max_features=43, randomforestclassifier__min_samples_leaf=40, randomforestclassifier__n_estimators=107; total time= 1.3min\n",
      "[CV] END randomforestclassifier__max_depth=37, randomforestclassifier__max_features=43, randomforestclassifier__min_samples_leaf=40, randomforestclassifier__n_estimators=107; total time= 1.4min\n",
      "[CV] END randomforestclassifier__max_depth=37, randomforestclassifier__max_features=43, randomforestclassifier__min_samples_leaf=40, randomforestclassifier__n_estimators=107; total time= 1.4min\n",
      "[CV] END randomforestclassifier__max_depth=37, randomforestclassifier__max_features=43, randomforestclassifier__min_samples_leaf=40, randomforestclassifier__n_estimators=107; total time= 1.4min\n",
      "[CV] END randomforestclassifier__max_depth=37, randomforestclassifier__max_features=43, randomforestclassifier__min_samples_leaf=40, randomforestclassifier__n_estimators=107; total time= 1.4min\n",
      "[CV] END randomforestclassifier__max_depth=81, randomforestclassifier__max_features=3, randomforestclassifier__min_samples_leaf=23, randomforestclassifier__n_estimators=277; total time= 1.1min\n",
      "[CV] END randomforestclassifier__max_depth=81, randomforestclassifier__max_features=3, randomforestclassifier__min_samples_leaf=23, randomforestclassifier__n_estimators=277; total time= 1.2min\n",
      "[CV] END randomforestclassifier__max_depth=81, randomforestclassifier__max_features=3, randomforestclassifier__min_samples_leaf=23, randomforestclassifier__n_estimators=277; total time= 1.1min\n",
      "[CV] END randomforestclassifier__max_depth=81, randomforestclassifier__max_features=3, randomforestclassifier__min_samples_leaf=23, randomforestclassifier__n_estimators=277; total time= 1.1min\n",
      "[CV] END randomforestclassifier__max_depth=81, randomforestclassifier__max_features=3, randomforestclassifier__min_samples_leaf=23, randomforestclassifier__n_estimators=277; total time= 1.2min\n",
      "[CV] END randomforestclassifier__max_depth=49, randomforestclassifier__max_features=25, randomforestclassifier__min_samples_leaf=45, randomforestclassifier__n_estimators=291; total time= 1.5min\n",
      "[CV] END randomforestclassifier__max_depth=49, randomforestclassifier__max_features=25, randomforestclassifier__min_samples_leaf=45, randomforestclassifier__n_estimators=291; total time= 1.7min\n",
      "[CV] END randomforestclassifier__max_depth=49, randomforestclassifier__max_features=25, randomforestclassifier__min_samples_leaf=45, randomforestclassifier__n_estimators=291; total time= 1.6min\n",
      "[CV] END randomforestclassifier__max_depth=49, randomforestclassifier__max_features=25, randomforestclassifier__min_samples_leaf=45, randomforestclassifier__n_estimators=291; total time= 1.6min\n",
      "[CV] END randomforestclassifier__max_depth=49, randomforestclassifier__max_features=25, randomforestclassifier__min_samples_leaf=45, randomforestclassifier__n_estimators=291; total time= 1.7min\n",
      "[CV] END randomforestclassifier__max_depth=58, randomforestclassifier__max_features=13, randomforestclassifier__min_samples_leaf=43, randomforestclassifier__n_estimators=148; total time= 1.2min\n",
      "[CV] END randomforestclassifier__max_depth=58, randomforestclassifier__max_features=13, randomforestclassifier__min_samples_leaf=43, randomforestclassifier__n_estimators=148; total time= 1.2min\n",
      "[CV] END randomforestclassifier__max_depth=58, randomforestclassifier__max_features=13, randomforestclassifier__min_samples_leaf=43, randomforestclassifier__n_estimators=148; total time= 1.2min\n",
      "[CV] END randomforestclassifier__max_depth=58, randomforestclassifier__max_features=13, randomforestclassifier__min_samples_leaf=43, randomforestclassifier__n_estimators=148; total time= 1.2min\n",
      "[CV] END randomforestclassifier__max_depth=58, randomforestclassifier__max_features=13, randomforestclassifier__min_samples_leaf=43, randomforestclassifier__n_estimators=148; total time= 1.2min\n",
      "[CV] END randomforestclassifier__max_depth=50, randomforestclassifier__max_features=38, randomforestclassifier__min_samples_leaf=29, randomforestclassifier__n_estimators=105; total time= 1.3min\n",
      "[CV] END randomforestclassifier__max_depth=50, randomforestclassifier__max_features=38, randomforestclassifier__min_samples_leaf=29, randomforestclassifier__n_estimators=105; total time= 1.4min\n",
      "[CV] END randomforestclassifier__max_depth=50, randomforestclassifier__max_features=38, randomforestclassifier__min_samples_leaf=29, randomforestclassifier__n_estimators=105; total time= 1.4min\n",
      "[CV] END randomforestclassifier__max_depth=50, randomforestclassifier__max_features=38, randomforestclassifier__min_samples_leaf=29, randomforestclassifier__n_estimators=105; total time= 1.4min\n",
      "[CV] END randomforestclassifier__max_depth=50, randomforestclassifier__max_features=38, randomforestclassifier__min_samples_leaf=29, randomforestclassifier__n_estimators=105; total time= 1.4min\n",
      "{'randomforestclassifier__max_depth': 81, 'randomforestclassifier__max_features': 3, 'randomforestclassifier__min_samples_leaf': 23, 'randomforestclassifier__n_estimators': 277}\n"
     ]
    }
   ],
   "source": [
    "allow_grid_searching = True\n",
    "nr_features = len(column_names)\n",
    "# to know what are the params we can use and their names we can run this code: \n",
    "# pipe_randforest.get_params() \n",
    "if allow_grid_searching:\n",
    "    grid = {\n",
    "         'randomforestclassifier__n_estimators': stats.randint(50,300),\n",
    "         'randomforestclassifier__min_samples_leaf':stats.randint(10,50),\n",
    "         'randomforestclassifier__max_depth': stats.randint(30,100),    \n",
    "    #    'randomforestclassifier__min_samples_split':stats.randint(2,10),\n",
    "    #    'randomforestclassifier__subsample':[0.95, 1], # 1 default\n",
    "         'randomforestclassifier__max_features':stats.randint(1,nr_features), # default None, i.e = n_features\n",
    "    }\n",
    "\n",
    "    search_randforest = RandomizedSearchCV(pipe_randforest, grid, scoring=\"roc_auc\", n_iter=6, cv=5, n_jobs=1, verbose=2,)\n",
    "\n",
    "    # Fit data to Grid Search\n",
    "    search_randforest.fit(X_train, y_train);\n",
    "    print(search_randforest.best_params_)\n",
    "    search_randforest.best_score_\n",
    "    pipe_randforest_tuned = search_randforest.best_estimator_\n",
    "\n",
    "    # Plot results of gridsearch\n",
    "    #df_cv_results_ = pd.DataFrame(search_randforest.cv_results_)\n",
    "    #sns.scatterplot(x=\"param_randomforestclassifier__n_estimators\", y='mean_test_score', data=df_cv_results_)\n",
    "    #sns.scatterplot(x=\"param_randomforestclassifier__max_features\", y='mean_test_score', data=df_cv_results_)\n",
    "    #sns.scatterplot(x=\"gradientboostingregressor__learning_rate\", y='mean_test_score', data=df_cv_results_)\n",
    "    #sns.scatterplot(x=\"gradientboostingclassifier__loss\", y='mean_test_score', data=df_cv_results_)\n",
    "    \n",
    "    #https://towardsdatascience.com/what-is-out-of-bag-oob-score-in-random-forest-a7fa23d710"
   ]
  },
  {
   "cell_type": "code",
   "execution_count": 22,
   "metadata": {},
   "outputs": [],
   "source": [
    "# Plot results of gridsearch\n",
    "df_cv_results_ = pd.DataFrame(search_randforest.cv_results_)\n",
    "#sns.scatterplot(x=\"param_randomforestclassifier__n_estimators\", y='mean_test_score', data=df_cv_results_)\n",
    "#sns.scatterplot(x=\"param_randomforestclassifier__max_features\", y='mean_test_score', data=df_cv_results_)\n",
    "#sns.scatterplot(x=\"gradientboostingregressor__learning_rate\", y='mean_test_score', data=df_cv_results_)\n",
    "#sns.scatterplot(x=\"gradientboostingclassifier__loss\", y='mean_test_score', data=df_cv_results_)"
   ]
  },
  {
   "cell_type": "code",
   "execution_count": 23,
   "metadata": {},
   "outputs": [
    {
     "data": {
      "text/plain": [
       "2    0.906118\n",
       "4    0.905073\n",
       "0    0.903397\n",
       "3    0.901996\n",
       "5    0.898492\n",
       "1    0.898350\n",
       "Name: mean_test_score, dtype: float64"
      ]
     },
     "execution_count": 23,
     "metadata": {},
     "output_type": "execute_result"
    }
   ],
   "source": [
    "df_cv_results_['mean_test_score'].sort_values(ascending=False)"
   ]
  },
  {
   "cell_type": "markdown",
   "metadata": {},
   "source": [
    "#### i) Stacking"
   ]
  },
  {
   "cell_type": "code",
   "execution_count": 24,
   "metadata": {},
   "outputs": [
    {
     "name": "stdout",
     "output_type": "stream",
     "text": [
      "0.0037579016443757547\n"
     ]
    },
    {
     "data": {
      "text/plain": [
       "0.9086890897623929"
      ]
     },
     "execution_count": 24,
     "metadata": {},
     "output_type": "execute_result"
    }
   ],
   "source": [
    "# Define the pipeline with the best hyperparameters\n",
    "best_params_gb = search_gb.best_params_\n",
    "best_params_rf = search_randforest.best_params_\n",
    "gboost = GradientBoostingClassifier(n_estimators=best_params_gb['gradientboostingclassifier__n_estimators'],\n",
    "                                    learning_rate=best_params_gb['gradientboostingclassifier__learning_rate'],\n",
    "                                    loss=best_params_gb['gradientboostingclassifier__loss'],\n",
    "                                    max_features=best_params_gb['gradientboostingclassifier__max_features'])\n",
    "\n",
    "rforest = RandomForestClassifier(max_depth= best_params_rf['randomforestclassifier__max_depth'],\n",
    "                                 max_features= best_params_rf['randomforestclassifier__max_features'],\n",
    "                                 min_samples_leaf=best_params_rf['randomforestclassifier__min_samples_leaf'],\n",
    "                                 n_estimators= best_params_rf['randomforestclassifier__n_estimators'])\n",
    "\n",
    "model = StackingClassifier(\n",
    "    estimators=[(\"gboost\", gboost),(\"rforest\", rforest)],\n",
    "    final_estimator=LogisticRegression(),\n",
    "    cv=5,\n",
    "    n_jobs=-1\n",
    ")\n",
    "\n",
    "pipe_stacking = make_pipeline(preproc, model, memory=Memory(cachedir, verbose=0, mmap_mode='r', bytes_limit=10**9))\n",
    "score = cross_val_score(pipe_stacking, X_train, y_train, cv=5, scoring=\"roc_auc\", n_jobs=-1)\n",
    "print(score.std())\n",
    "score.mean()\n",
    "\n",
    "# https://scikit-learn.org/stable/modules/generated/sklearn.ensemble.StackingClassifier.html#examples-using-sklearn-ensemble-stackingclassifier"
   ]
  },
  {
   "cell_type": "code",
   "execution_count": 32,
   "metadata": {},
   "outputs": [
    {
     "data": {
      "text/html": [
       "<style>#sk-container-id-3 {color: black;background-color: white;}#sk-container-id-3 pre{padding: 0;}#sk-container-id-3 div.sk-toggleable {background-color: white;}#sk-container-id-3 label.sk-toggleable__label {cursor: pointer;display: block;width: 100%;margin-bottom: 0;padding: 0.3em;box-sizing: border-box;text-align: center;}#sk-container-id-3 label.sk-toggleable__label-arrow:before {content: \"▸\";float: left;margin-right: 0.25em;color: #696969;}#sk-container-id-3 label.sk-toggleable__label-arrow:hover:before {color: black;}#sk-container-id-3 div.sk-estimator:hover label.sk-toggleable__label-arrow:before {color: black;}#sk-container-id-3 div.sk-toggleable__content {max-height: 0;max-width: 0;overflow: hidden;text-align: left;background-color: #f0f8ff;}#sk-container-id-3 div.sk-toggleable__content pre {margin: 0.2em;color: black;border-radius: 0.25em;background-color: #f0f8ff;}#sk-container-id-3 input.sk-toggleable__control:checked~div.sk-toggleable__content {max-height: 200px;max-width: 100%;overflow: auto;}#sk-container-id-3 input.sk-toggleable__control:checked~label.sk-toggleable__label-arrow:before {content: \"▾\";}#sk-container-id-3 div.sk-estimator input.sk-toggleable__control:checked~label.sk-toggleable__label {background-color: #d4ebff;}#sk-container-id-3 div.sk-label input.sk-toggleable__control:checked~label.sk-toggleable__label {background-color: #d4ebff;}#sk-container-id-3 input.sk-hidden--visually {border: 0;clip: rect(1px 1px 1px 1px);clip: rect(1px, 1px, 1px, 1px);height: 1px;margin: -1px;overflow: hidden;padding: 0;position: absolute;width: 1px;}#sk-container-id-3 div.sk-estimator {font-family: monospace;background-color: #f0f8ff;border: 1px dotted black;border-radius: 0.25em;box-sizing: border-box;margin-bottom: 0.5em;}#sk-container-id-3 div.sk-estimator:hover {background-color: #d4ebff;}#sk-container-id-3 div.sk-parallel-item::after {content: \"\";width: 100%;border-bottom: 1px solid gray;flex-grow: 1;}#sk-container-id-3 div.sk-label:hover label.sk-toggleable__label {background-color: #d4ebff;}#sk-container-id-3 div.sk-serial::before {content: \"\";position: absolute;border-left: 1px solid gray;box-sizing: border-box;top: 0;bottom: 0;left: 50%;z-index: 0;}#sk-container-id-3 div.sk-serial {display: flex;flex-direction: column;align-items: center;background-color: white;padding-right: 0.2em;padding-left: 0.2em;position: relative;}#sk-container-id-3 div.sk-item {position: relative;z-index: 1;}#sk-container-id-3 div.sk-parallel {display: flex;align-items: stretch;justify-content: center;background-color: white;position: relative;}#sk-container-id-3 div.sk-item::before, #sk-container-id-3 div.sk-parallel-item::before {content: \"\";position: absolute;border-left: 1px solid gray;box-sizing: border-box;top: 0;bottom: 0;left: 50%;z-index: -1;}#sk-container-id-3 div.sk-parallel-item {display: flex;flex-direction: column;z-index: 1;position: relative;background-color: white;}#sk-container-id-3 div.sk-parallel-item:first-child::after {align-self: flex-end;width: 50%;}#sk-container-id-3 div.sk-parallel-item:last-child::after {align-self: flex-start;width: 50%;}#sk-container-id-3 div.sk-parallel-item:only-child::after {width: 0;}#sk-container-id-3 div.sk-dashed-wrapped {border: 1px dashed gray;margin: 0 0.4em 0.5em 0.4em;box-sizing: border-box;padding-bottom: 0.4em;background-color: white;}#sk-container-id-3 div.sk-label label {font-family: monospace;font-weight: bold;display: inline-block;line-height: 1.2em;}#sk-container-id-3 div.sk-label-container {text-align: center;}#sk-container-id-3 div.sk-container {/* jupyter's `normalize.less` sets `[hidden] { display: none; }` but bootstrap.min.css set `[hidden] { display: none !important; }` so we also need the `!important` here to be able to override the default hidden behavior on the sphinx rendered scikit-learn.org. See: https://github.com/scikit-learn/scikit-learn/issues/21755 */display: inline-block !important;position: relative;}#sk-container-id-3 div.sk-text-repr-fallback {display: none;}</style><div id=\"sk-container-id-3\" class=\"sk-top-container\"><div class=\"sk-text-repr-fallback\"><pre>StackingClassifier(cv=5,\n",
       "                   estimators=[(&#x27;gboost&#x27;,\n",
       "                                GradientBoostingClassifier(learning_rate=0.08186588861510276,\n",
       "                                                           loss=&#x27;exponential&#x27;,\n",
       "                                                           max_features=42,\n",
       "                                                           n_estimators=254)),\n",
       "                               (&#x27;rforest&#x27;,\n",
       "                                RandomForestClassifier(max_depth=81,\n",
       "                                                       max_features=3,\n",
       "                                                       min_samples_leaf=23,\n",
       "                                                       n_estimators=277))],\n",
       "                   final_estimator=LogisticRegression(), n_jobs=-1)</pre><b>In a Jupyter environment, please rerun this cell to show the HTML representation or trust the notebook. <br />On GitHub, the HTML representation is unable to render, please try loading this page with nbviewer.org.</b></div><div class=\"sk-container\" hidden><div class=\"sk-item sk-dashed-wrapped\"><div class=\"sk-label-container\"><div class=\"sk-label sk-toggleable\"><input class=\"sk-toggleable__control sk-hidden--visually\" id=\"sk-estimator-id-32\" type=\"checkbox\" ><label for=\"sk-estimator-id-32\" class=\"sk-toggleable__label sk-toggleable__label-arrow\">StackingClassifier</label><div class=\"sk-toggleable__content\"><pre>StackingClassifier(cv=5,\n",
       "                   estimators=[(&#x27;gboost&#x27;,\n",
       "                                GradientBoostingClassifier(learning_rate=0.08186588861510276,\n",
       "                                                           loss=&#x27;exponential&#x27;,\n",
       "                                                           max_features=42,\n",
       "                                                           n_estimators=254)),\n",
       "                               (&#x27;rforest&#x27;,\n",
       "                                RandomForestClassifier(max_depth=81,\n",
       "                                                       max_features=3,\n",
       "                                                       min_samples_leaf=23,\n",
       "                                                       n_estimators=277))],\n",
       "                   final_estimator=LogisticRegression(), n_jobs=-1)</pre></div></div></div><div class=\"sk-serial\"><div class=\"sk-item\"><div class=\"sk-parallel\"><div class=\"sk-parallel-item\"><div class=\"sk-item\"><div class=\"sk-label-container\"><div class=\"sk-label sk-toggleable\"><label>gboost</label></div></div><div class=\"sk-serial\"><div class=\"sk-item\"><div class=\"sk-estimator sk-toggleable\"><input class=\"sk-toggleable__control sk-hidden--visually\" id=\"sk-estimator-id-33\" type=\"checkbox\" ><label for=\"sk-estimator-id-33\" class=\"sk-toggleable__label sk-toggleable__label-arrow\">GradientBoostingClassifier</label><div class=\"sk-toggleable__content\"><pre>GradientBoostingClassifier(learning_rate=0.08186588861510276,\n",
       "                           loss=&#x27;exponential&#x27;, max_features=42,\n",
       "                           n_estimators=254)</pre></div></div></div></div></div></div><div class=\"sk-parallel-item\"><div class=\"sk-item\"><div class=\"sk-label-container\"><div class=\"sk-label sk-toggleable\"><label>rforest</label></div></div><div class=\"sk-serial\"><div class=\"sk-item\"><div class=\"sk-estimator sk-toggleable\"><input class=\"sk-toggleable__control sk-hidden--visually\" id=\"sk-estimator-id-34\" type=\"checkbox\" ><label for=\"sk-estimator-id-34\" class=\"sk-toggleable__label sk-toggleable__label-arrow\">RandomForestClassifier</label><div class=\"sk-toggleable__content\"><pre>RandomForestClassifier(max_depth=81, max_features=3, min_samples_leaf=23,\n",
       "                       n_estimators=277)</pre></div></div></div></div></div></div></div></div><div class=\"sk-item\"><div class=\"sk-parallel\"><div class=\"sk-parallel-item\"><div class=\"sk-item\"><div class=\"sk-label-container\"><div class=\"sk-label sk-toggleable\"><label>final_estimator</label></div></div><div class=\"sk-serial\"><div class=\"sk-item\"><div class=\"sk-estimator sk-toggleable\"><input class=\"sk-toggleable__control sk-hidden--visually\" id=\"sk-estimator-id-35\" type=\"checkbox\" ><label for=\"sk-estimator-id-35\" class=\"sk-toggleable__label sk-toggleable__label-arrow\">LogisticRegression</label><div class=\"sk-toggleable__content\"><pre>LogisticRegression()</pre></div></div></div></div></div></div></div></div></div></div></div></div>"
      ],
      "text/plain": [
       "StackingClassifier(cv=5,\n",
       "                   estimators=[('gboost',\n",
       "                                GradientBoostingClassifier(learning_rate=0.08186588861510276,\n",
       "                                                           loss='exponential',\n",
       "                                                           max_features=42,\n",
       "                                                           n_estimators=254)),\n",
       "                               ('rforest',\n",
       "                                RandomForestClassifier(max_depth=81,\n",
       "                                                       max_features=3,\n",
       "                                                       min_samples_leaf=23,\n",
       "                                                       n_estimators=277))],\n",
       "                   final_estimator=LogisticRegression(), n_jobs=-1)"
      ]
     },
     "execution_count": 32,
     "metadata": {},
     "output_type": "execute_result"
    }
   ],
   "source": [
    "model.fit(X_train_preproc, y_train)"
   ]
  },
  {
   "cell_type": "code",
   "execution_count": null,
   "metadata": {},
   "outputs": [],
   "source": []
  },
  {
   "cell_type": "code",
   "execution_count": 33,
   "metadata": {},
   "outputs": [
    {
     "ename": "AttributeError",
     "evalue": "'StackingClassifier' object has no attribute 'evals_result'",
     "output_type": "error",
     "traceback": [
      "\u001b[0;31m---------------------------------------------------------------------------\u001b[0m",
      "\u001b[0;31mAttributeError\u001b[0m                            Traceback (most recent call last)",
      "Cell \u001b[0;32mIn[33], line 2\u001b[0m\n\u001b[1;32m      1\u001b[0m \u001b[39m# retrieve performance metrics\u001b[39;00m\n\u001b[0;32m----> 2\u001b[0m results \u001b[39m=\u001b[39m model\u001b[39m.\u001b[39;49mevals_result()\n\u001b[1;32m      3\u001b[0m val_auc \u001b[39m=\u001b[39m np\u001b[39m.\u001b[39mmin(results[\u001b[39m'\u001b[39m\u001b[39mvalidation_0\u001b[39m\u001b[39m'\u001b[39m][\u001b[39m\"\u001b[39m\u001b[39mauc\u001b[39m\u001b[39m\"\u001b[39m])\n",
      "\u001b[0;31mAttributeError\u001b[0m: 'StackingClassifier' object has no attribute 'evals_result'"
     ]
    }
   ],
   "source": [
    "# retrieve performance metrics\n",
    "results = model.evals_result()\n",
    "val_auc = np.min(results['validation_0'][\"auc\"])"
   ]
  },
  {
   "cell_type": "code",
   "execution_count": 30,
   "metadata": {},
   "outputs": [
    {
     "ename": "AttributeError",
     "evalue": "'Pipeline' object has no attribute 'evaluate'",
     "output_type": "error",
     "traceback": [
      "\u001b[0;31m---------------------------------------------------------------------------\u001b[0m",
      "\u001b[0;31mAttributeError\u001b[0m                            Traceback (most recent call last)",
      "Cell \u001b[0;32mIn[30], line 2\u001b[0m\n\u001b[1;32m      1\u001b[0m \u001b[39m# Also hae to test this code\u001b[39;00m\n\u001b[0;32m----> 2\u001b[0m metrics \u001b[39m=\u001b[39m pipe_stacking\u001b[39m.\u001b[39;49mevaluate(\n\u001b[1;32m      3\u001b[0m         x\u001b[39m=\u001b[39mX_test,\n\u001b[1;32m      4\u001b[0m         y\u001b[39m=\u001b[39my_test,\n\u001b[1;32m      5\u001b[0m         verbose\u001b[39m=\u001b[39m\u001b[39m1\u001b[39m,\n\u001b[1;32m      6\u001b[0m         return_dict\u001b[39m=\u001b[39m\u001b[39mTrue\u001b[39;00m)\n\u001b[1;32m      8\u001b[0m loss \u001b[39m=\u001b[39m metrics[\u001b[39m\"\u001b[39m\u001b[39mloss\u001b[39m\u001b[39m\"\u001b[39m]\n\u001b[1;32m      9\u001b[0m roc_auc \u001b[39m=\u001b[39m metrics[\u001b[39m\"\u001b[39m\u001b[39mroc_auc\u001b[39m\u001b[39m\"\u001b[39m]\n",
      "\u001b[0;31mAttributeError\u001b[0m: 'Pipeline' object has no attribute 'evaluate'"
     ]
    }
   ],
   "source": [
    "# Also hae to test this code\n",
    "metrics = model.evaluate(\n",
    "        x=X_test,\n",
    "        y=y_test,\n",
    "        verbose=1,\n",
    "        return_dict=True)\n",
    "\n",
    "loss = metrics[\"loss\"]\n",
    "roc_auc = metrics[\"roc_auc\"]\n"
   ]
  },
  {
   "cell_type": "code",
   "execution_count": null,
   "metadata": {},
   "outputs": [],
   "source": [
    "\n"
   ]
  },
  {
   "cell_type": "code",
   "execution_count": null,
   "metadata": {},
   "outputs": [],
   "source": [
    "from sklearn.ensemble import RandomForestClassifier\n",
    "from xgboost.sklearn import XGBClassifier\n",
    "from sklearn.datasets import make_classification\n",
    "from sklearn.base import BaseEstimator\n",
    "\n",
    "X, y = make_classification(n_samples=1000, n_features=4,\n",
    "                            n_informative=2, n_redundant=0,\n",
    "                           random_state=0, shuffle=False)\n",
    "models = {\"RandomForestClassifier\": RandomForestClassifier(),\n",
    "           \"XGBoost\": XGBClassifier(objective=\"binary:logistic\")}\n",
    "params = {\"RandomForestClassifier\": {\"n_estimators\": [100, 200],\n",
    "                                      \"criterion\": [\"gini\", \"entropy\"],\n",
    "                                      \"max_features\": [5],\n",
    "                                      \"max_depth\": [20],\n",
    "                                      \"min_samples_split\": [4],\n",
    "                                      \"bootstrap\": [True]},\n",
    "          \"XGBoost\": {\"min_child_weight\": [1, 5],\n",
    "                      \"gamma\": [0.5, 1, 1.5],\n",
    "                       \"subsample\": [0.6, 0.8],\n",
    "                       \"colsample_bytree\": [0.8, 1.0],\n",
    "                      \"max_depth\": [3, 5]}}\n",
    "selector = EstimatorSelector(models, params)"
   ]
  },
  {
   "cell_type": "code",
   "execution_count": 45,
   "metadata": {},
   "outputs": [
    {
     "ename": "TypeError",
     "evalue": "Parameter grid for parameter 'rforest' needs to be a list or a numpy array, but got {'n_estimators': <scipy.stats._distn_infrastructure.rv_discrete_frozen object at 0x13d380610>, 'criterion': ['gini', 'entropy'], 'max_features': <scipy.stats._distn_infrastructure.rv_discrete_frozen object at 0x13d380970>, 'max_depth': [20], 'min_samples_split': [4], 'min_samples_leaf': <scipy.stats._distn_infrastructure.rv_discrete_frozen object at 0x13d3808b0>, 'bootstrap': [True]} (of type dict) instead. Single values need to be wrapped in a list with one element.",
     "output_type": "error",
     "traceback": [
      "\u001b[0;31m---------------------------------------------------------------------------\u001b[0m",
      "\u001b[0;31mTypeError\u001b[0m                                 Traceback (most recent call last)",
      "Cell \u001b[0;32mIn[45], line 44\u001b[0m\n\u001b[1;32m     42\u001b[0m X_train_preproc \u001b[39m=\u001b[39m preproc\u001b[39m.\u001b[39mfit_transform(X_train, y_train)\n\u001b[1;32m     43\u001b[0m \u001b[39m#X_test_preproc = preproc.transform(X_test)\u001b[39;00m\n\u001b[0;32m---> 44\u001b[0m random_search\u001b[39m.\u001b[39;49mfit(X_train_preproc, y_train)\n",
      "File \u001b[0;32m~/.pyenv/versions/3.8.12/envs/klarna/lib/python3.8/site-packages/sklearn/model_selection/_search.py:874\u001b[0m, in \u001b[0;36mBaseSearchCV.fit\u001b[0;34m(self, X, y, groups, **fit_params)\u001b[0m\n\u001b[1;32m    868\u001b[0m     results \u001b[39m=\u001b[39m \u001b[39mself\u001b[39m\u001b[39m.\u001b[39m_format_results(\n\u001b[1;32m    869\u001b[0m         all_candidate_params, n_splits, all_out, all_more_results\n\u001b[1;32m    870\u001b[0m     )\n\u001b[1;32m    872\u001b[0m     \u001b[39mreturn\u001b[39;00m results\n\u001b[0;32m--> 874\u001b[0m \u001b[39mself\u001b[39;49m\u001b[39m.\u001b[39;49m_run_search(evaluate_candidates)\n\u001b[1;32m    876\u001b[0m \u001b[39m# multimetric is determined here because in the case of a callable\u001b[39;00m\n\u001b[1;32m    877\u001b[0m \u001b[39m# self.scoring the return type is only known after calling\u001b[39;00m\n\u001b[1;32m    878\u001b[0m first_test_score \u001b[39m=\u001b[39m all_out[\u001b[39m0\u001b[39m][\u001b[39m\"\u001b[39m\u001b[39mtest_scores\u001b[39m\u001b[39m\"\u001b[39m]\n",
      "File \u001b[0;32m~/.pyenv/versions/3.8.12/envs/klarna/lib/python3.8/site-packages/sklearn/model_selection/_search.py:1768\u001b[0m, in \u001b[0;36mRandomizedSearchCV._run_search\u001b[0;34m(self, evaluate_candidates)\u001b[0m\n\u001b[1;32m   1766\u001b[0m \u001b[39mdef\u001b[39;00m \u001b[39m_run_search\u001b[39m(\u001b[39mself\u001b[39m, evaluate_candidates):\n\u001b[1;32m   1767\u001b[0m \u001b[39m    \u001b[39m\u001b[39m\"\"\"Search n_iter candidates from param_distributions\"\"\"\u001b[39;00m\n\u001b[0;32m-> 1768\u001b[0m     evaluate_candidates(\n\u001b[1;32m   1769\u001b[0m         ParameterSampler(\n\u001b[1;32m   1770\u001b[0m             \u001b[39mself\u001b[39;49m\u001b[39m.\u001b[39;49mparam_distributions, \u001b[39mself\u001b[39;49m\u001b[39m.\u001b[39;49mn_iter, random_state\u001b[39m=\u001b[39;49m\u001b[39mself\u001b[39;49m\u001b[39m.\u001b[39;49mrandom_state\n\u001b[1;32m   1771\u001b[0m         )\n\u001b[1;32m   1772\u001b[0m     )\n",
      "File \u001b[0;32m~/.pyenv/versions/3.8.12/envs/klarna/lib/python3.8/site-packages/sklearn/model_selection/_search.py:810\u001b[0m, in \u001b[0;36mBaseSearchCV.fit.<locals>.evaluate_candidates\u001b[0;34m(candidate_params, cv, more_results)\u001b[0m\n\u001b[1;32m    808\u001b[0m \u001b[39mdef\u001b[39;00m \u001b[39mevaluate_candidates\u001b[39m(candidate_params, cv\u001b[39m=\u001b[39m\u001b[39mNone\u001b[39;00m, more_results\u001b[39m=\u001b[39m\u001b[39mNone\u001b[39;00m):\n\u001b[1;32m    809\u001b[0m     cv \u001b[39m=\u001b[39m cv \u001b[39mor\u001b[39;00m cv_orig\n\u001b[0;32m--> 810\u001b[0m     candidate_params \u001b[39m=\u001b[39m \u001b[39mlist\u001b[39;49m(candidate_params)\n\u001b[1;32m    811\u001b[0m     n_candidates \u001b[39m=\u001b[39m \u001b[39mlen\u001b[39m(candidate_params)\n\u001b[1;32m    813\u001b[0m     \u001b[39mif\u001b[39;00m \u001b[39mself\u001b[39m\u001b[39m.\u001b[39mverbose \u001b[39m>\u001b[39m \u001b[39m0\u001b[39m:\n",
      "File \u001b[0;32m~/.pyenv/versions/3.8.12/envs/klarna/lib/python3.8/site-packages/sklearn/model_selection/_search.py:300\u001b[0m, in \u001b[0;36mParameterSampler.__iter__\u001b[0;34m(self)\u001b[0m\n\u001b[1;32m    296\u001b[0m \u001b[39m# if all distributions are given as lists, we want to sample without\u001b[39;00m\n\u001b[1;32m    297\u001b[0m \u001b[39m# replacement\u001b[39;00m\n\u001b[1;32m    298\u001b[0m \u001b[39mif\u001b[39;00m \u001b[39mself\u001b[39m\u001b[39m.\u001b[39m_is_all_lists():\n\u001b[1;32m    299\u001b[0m     \u001b[39m# look up sampled parameter settings in parameter grid\u001b[39;00m\n\u001b[0;32m--> 300\u001b[0m     param_grid \u001b[39m=\u001b[39m ParameterGrid(\u001b[39mself\u001b[39;49m\u001b[39m.\u001b[39;49mparam_distributions)\n\u001b[1;32m    301\u001b[0m     grid_size \u001b[39m=\u001b[39m \u001b[39mlen\u001b[39m(param_grid)\n\u001b[1;32m    302\u001b[0m     n_iter \u001b[39m=\u001b[39m \u001b[39mself\u001b[39m\u001b[39m.\u001b[39mn_iter\n",
      "File \u001b[0;32m~/.pyenv/versions/3.8.12/envs/klarna/lib/python3.8/site-packages/sklearn/model_selection/_search.py:117\u001b[0m, in \u001b[0;36mParameterGrid.__init__\u001b[0;34m(self, param_grid)\u001b[0m\n\u001b[1;32m    110\u001b[0m     \u001b[39mraise\u001b[39;00m \u001b[39mValueError\u001b[39;00m(\n\u001b[1;32m    111\u001b[0m         \u001b[39mf\u001b[39m\u001b[39m\"\u001b[39m\u001b[39mParameter array for \u001b[39m\u001b[39m{\u001b[39;00mkey\u001b[39m!r}\u001b[39;00m\u001b[39m should be one-dimensional, got:\u001b[39m\u001b[39m\"\u001b[39m\n\u001b[1;32m    112\u001b[0m         \u001b[39mf\u001b[39m\u001b[39m\"\u001b[39m\u001b[39m \u001b[39m\u001b[39m{\u001b[39;00mvalue\u001b[39m!r}\u001b[39;00m\u001b[39m with shape \u001b[39m\u001b[39m{\u001b[39;00mvalue\u001b[39m.\u001b[39mshape\u001b[39m}\u001b[39;00m\u001b[39m\"\u001b[39m\n\u001b[1;32m    113\u001b[0m     )\n\u001b[1;32m    114\u001b[0m \u001b[39mif\u001b[39;00m \u001b[39misinstance\u001b[39m(value, \u001b[39mstr\u001b[39m) \u001b[39mor\u001b[39;00m \u001b[39mnot\u001b[39;00m \u001b[39misinstance\u001b[39m(\n\u001b[1;32m    115\u001b[0m     value, (np\u001b[39m.\u001b[39mndarray, Sequence)\n\u001b[1;32m    116\u001b[0m ):\n\u001b[0;32m--> 117\u001b[0m     \u001b[39mraise\u001b[39;00m \u001b[39mTypeError\u001b[39;00m(\n\u001b[1;32m    118\u001b[0m         \u001b[39mf\u001b[39m\u001b[39m\"\u001b[39m\u001b[39mParameter grid for parameter \u001b[39m\u001b[39m{\u001b[39;00mkey\u001b[39m!r}\u001b[39;00m\u001b[39m needs to be a list or a\u001b[39m\u001b[39m\"\u001b[39m\n\u001b[1;32m    119\u001b[0m         \u001b[39mf\u001b[39m\u001b[39m\"\u001b[39m\u001b[39m numpy array, but got \u001b[39m\u001b[39m{\u001b[39;00mvalue\u001b[39m!r}\u001b[39;00m\u001b[39m (of type \u001b[39m\u001b[39m\"\u001b[39m\n\u001b[1;32m    120\u001b[0m         \u001b[39mf\u001b[39m\u001b[39m\"\u001b[39m\u001b[39m{\u001b[39;00m\u001b[39mtype\u001b[39m(value)\u001b[39m.\u001b[39m\u001b[39m__name__\u001b[39m\u001b[39m}\u001b[39;00m\u001b[39m) instead. Single values \u001b[39m\u001b[39m\"\u001b[39m\n\u001b[1;32m    121\u001b[0m         \u001b[39m\"\u001b[39m\u001b[39mneed to be wrapped in a list with one element.\u001b[39m\u001b[39m\"\u001b[39m\n\u001b[1;32m    122\u001b[0m     )\n\u001b[1;32m    123\u001b[0m \u001b[39mif\u001b[39;00m \u001b[39mlen\u001b[39m(value) \u001b[39m==\u001b[39m \u001b[39m0\u001b[39m:\n\u001b[1;32m    124\u001b[0m     \u001b[39mraise\u001b[39;00m \u001b[39mValueError\u001b[39;00m(\n\u001b[1;32m    125\u001b[0m         \u001b[39mf\u001b[39m\u001b[39m\"\u001b[39m\u001b[39mParameter grid for parameter \u001b[39m\u001b[39m{\u001b[39;00mkey\u001b[39m!r}\u001b[39;00m\u001b[39m need \u001b[39m\u001b[39m\"\u001b[39m\n\u001b[1;32m    126\u001b[0m         \u001b[39mf\u001b[39m\u001b[39m\"\u001b[39m\u001b[39mto be a non-empty sequence, got: \u001b[39m\u001b[39m{\u001b[39;00mvalue\u001b[39m!r}\u001b[39;00m\u001b[39m\"\u001b[39m\n\u001b[1;32m    127\u001b[0m     )\n",
      "\u001b[0;31mTypeError\u001b[0m: Parameter grid for parameter 'rforest' needs to be a list or a numpy array, but got {'n_estimators': <scipy.stats._distn_infrastructure.rv_discrete_frozen object at 0x13d380610>, 'criterion': ['gini', 'entropy'], 'max_features': <scipy.stats._distn_infrastructure.rv_discrete_frozen object at 0x13d380970>, 'max_depth': [20], 'min_samples_split': [4], 'min_samples_leaf': <scipy.stats._distn_infrastructure.rv_discrete_frozen object at 0x13d3808b0>, 'bootstrap': [True]} (of type dict) instead. Single values need to be wrapped in a list with one element."
     ]
    }
   ],
   "source": [
    "######################\n",
    "# Instanciate model  #\n",
    "######################\n",
    "\n",
    "# $DELETE_BEGIN\n",
    "models = {\"gboost\": GradientBoostingClassifier(),\n",
    "           \"rforest\": RandomForestClassifier()}\n",
    "# $DELETE_END\n",
    "\n",
    "# $DELETE_BEGIN # params \n",
    "search_space = {\"rforest\": {\"n_estimators\": stats.randint(50,300),\n",
    "                                      \"criterion\": [\"gini\", \"entropy\"],\n",
    "                                      \"max_features\": stats.randint(1,nr_features),\n",
    "                                      \"max_depth\": [20],\n",
    "                                      \"min_samples_split\": [4],\n",
    "                                      \"min_samples_leaf\": stats.randint(10,50),\n",
    "                                      \"bootstrap\": [True]},\n",
    "                \n",
    "                \"gboost\": {\"n_estimators\": stats.randint(50,300),\n",
    "                            \"learning_rate\": stats.uniform(0.05,0.3),\n",
    "                            \"loss\": ['log_loss','exponential'],\n",
    "                            \"min_samples_split\": [0.8, 1.0],\n",
    "                            \"max_features\": stats.randint(1,nr_features)}}\n",
    "# $DELETE_END\n",
    "\n",
    "################################\n",
    "# Instanciate Random Search    #\n",
    "################################\n",
    "# $DELETE_BEGIN\n",
    "\n",
    "random_search = RandomizedSearchCV(\n",
    "    estimator=LogisticRegression(),  # Replace with the desired estimator\n",
    "    param_distributions=search_space,\n",
    "    n_jobs=-1,\n",
    "    scoring='roc_auc',\n",
    "    cv=5,\n",
    "    n_iter=1000,\n",
    "    verbose=1\n",
    ")\n",
    "# $DELETE_END\n",
    "\n",
    "X_train_preproc = preproc.fit_transform(X_train, y_train)\n",
    "#X_test_preproc = preproc.transform(X_test)\n",
    "random_search.fit(X_train_preproc, y_train)"
   ]
  },
  {
   "cell_type": "code",
   "execution_count": 44,
   "metadata": {},
   "outputs": [
    {
     "ename": "TypeError",
     "evalue": "estimator should be an estimator implementing 'fit' method, {'gboost': GradientBoostingClassifier(), 'rforest': RandomForestClassifier()} was passed",
     "output_type": "error",
     "traceback": [
      "\u001b[0;31m---------------------------------------------------------------------------\u001b[0m",
      "\u001b[0;31mTypeError\u001b[0m                                 Traceback (most recent call last)",
      "Cell \u001b[0;32mIn[44], line 4\u001b[0m\n\u001b[1;32m      2\u001b[0m X_train_preproc \u001b[39m=\u001b[39m preproc\u001b[39m.\u001b[39mfit_transform(X_train, y_train)\n\u001b[1;32m      3\u001b[0m \u001b[39m#X_test_preproc = preproc.transform(X_test)\u001b[39;00m\n\u001b[0;32m----> 4\u001b[0m random_search\u001b[39m.\u001b[39;49mfit(X_train_preproc, y_train)\n",
      "File \u001b[0;32m~/.pyenv/versions/3.8.12/envs/klarna/lib/python3.8/site-packages/sklearn/model_selection/_search.py:776\u001b[0m, in \u001b[0;36mBaseSearchCV.fit\u001b[0;34m(self, X, y, groups, **fit_params)\u001b[0m\n\u001b[1;32m    774\u001b[0m     scorers \u001b[39m=\u001b[39m \u001b[39mself\u001b[39m\u001b[39m.\u001b[39mscoring\n\u001b[1;32m    775\u001b[0m \u001b[39melif\u001b[39;00m \u001b[39mself\u001b[39m\u001b[39m.\u001b[39mscoring \u001b[39mis\u001b[39;00m \u001b[39mNone\u001b[39;00m \u001b[39mor\u001b[39;00m \u001b[39misinstance\u001b[39m(\u001b[39mself\u001b[39m\u001b[39m.\u001b[39mscoring, \u001b[39mstr\u001b[39m):\n\u001b[0;32m--> 776\u001b[0m     scorers \u001b[39m=\u001b[39m check_scoring(\u001b[39mself\u001b[39;49m\u001b[39m.\u001b[39;49mestimator, \u001b[39mself\u001b[39;49m\u001b[39m.\u001b[39;49mscoring)\n\u001b[1;32m    777\u001b[0m \u001b[39melse\u001b[39;00m:\n\u001b[1;32m    778\u001b[0m     scorers \u001b[39m=\u001b[39m _check_multimetric_scoring(\u001b[39mself\u001b[39m\u001b[39m.\u001b[39mestimator, \u001b[39mself\u001b[39m\u001b[39m.\u001b[39mscoring)\n",
      "File \u001b[0;32m~/.pyenv/versions/3.8.12/envs/klarna/lib/python3.8/site-packages/sklearn/metrics/_scorer.py:474\u001b[0m, in \u001b[0;36mcheck_scoring\u001b[0;34m(estimator, scoring, allow_none)\u001b[0m\n\u001b[1;32m    448\u001b[0m \u001b[39m\u001b[39m\u001b[39m\"\"\"Determine scorer from user options.\u001b[39;00m\n\u001b[1;32m    449\u001b[0m \n\u001b[1;32m    450\u001b[0m \u001b[39mA TypeError will be thrown if the estimator cannot be scored.\u001b[39;00m\n\u001b[0;32m   (...)\u001b[0m\n\u001b[1;32m    471\u001b[0m \u001b[39m    ``scorer(estimator, X, y)``.\u001b[39;00m\n\u001b[1;32m    472\u001b[0m \u001b[39m\"\"\"\u001b[39;00m\n\u001b[1;32m    473\u001b[0m \u001b[39mif\u001b[39;00m \u001b[39mnot\u001b[39;00m \u001b[39mhasattr\u001b[39m(estimator, \u001b[39m\"\u001b[39m\u001b[39mfit\u001b[39m\u001b[39m\"\u001b[39m):\n\u001b[0;32m--> 474\u001b[0m     \u001b[39mraise\u001b[39;00m \u001b[39mTypeError\u001b[39;00m(\n\u001b[1;32m    475\u001b[0m         \u001b[39m\"\u001b[39m\u001b[39mestimator should be an estimator implementing \u001b[39m\u001b[39m'\u001b[39m\u001b[39mfit\u001b[39m\u001b[39m'\u001b[39m\u001b[39m method, \u001b[39m\u001b[39m%r\u001b[39;00m\u001b[39m was passed\u001b[39m\u001b[39m\"\u001b[39m\n\u001b[1;32m    476\u001b[0m         \u001b[39m%\u001b[39m estimator\n\u001b[1;32m    477\u001b[0m     )\n\u001b[1;32m    478\u001b[0m \u001b[39mif\u001b[39;00m \u001b[39misinstance\u001b[39m(scoring, \u001b[39mstr\u001b[39m):\n\u001b[1;32m    479\u001b[0m     \u001b[39mreturn\u001b[39;00m get_scorer(scoring)\n",
      "\u001b[0;31mTypeError\u001b[0m: estimator should be an estimator implementing 'fit' method, {'gboost': GradientBoostingClassifier(), 'rforest': RandomForestClassifier()} was passed"
     ]
    }
   ],
   "source": [
    "best_model = random_search.best_estimator_\n"
   ]
  },
  {
   "cell_type": "code",
   "execution_count": null,
   "metadata": {},
   "outputs": [],
   "source": []
  },
  {
   "cell_type": "code",
   "execution_count": null,
   "metadata": {},
   "outputs": [],
   "source": [
    "best_model = random_search.best_estimator_\n",
    "pipe_final = make_pipeline(preproc, best_model, memory=Memory(cachedir, verbose=0, mmap_mode='r', bytes_limit=10**9))\n",
    "score = cross_val_score(pipe_final, X_train, y_train, cv=5, scoring=\"roc_auc\", n_jobs=-1)\n",
    "print(score.std())\n",
    "score.mean()"
   ]
  },
  {
   "cell_type": "code",
   "execution_count": null,
   "metadata": {},
   "outputs": [
    {
     "name": "stdout",
     "output_type": "stream",
     "text": [
      "[22:11:54] WARNING: /Users/runner/work/xgboost/xgboost/python-package/build/temp.macosx-10.9-x86_64-cpython-38/xgboost/src/learner.cc:767: \n",
      "Parameters: { \"memory\" } are not used.\n",
      "\n",
      "[22:12:14] WARNING: /Users/runner/work/xgboost/xgboost/python-package/build/temp.macosx-10.9-x86_64-cpython-38/xgboost/src/learner.cc:767: \n",
      "Parameters: { \"memory\" } are not used.\n",
      "\n",
      "[22:39:11] WARNING: /Users/runner/work/xgboost/xgboost/python-package/build/temp.macosx-10.9-x86_64-cpython-38/xgboost/src/learner.cc:767: \n",
      "Parameters: { \"memory\" } are not used.\n",
      "\n",
      "[22:48:59] WARNING: /Users/runner/work/xgboost/xgboost/python-package/build/temp.macosx-10.9-x86_64-cpython-38/xgboost/src/learner.cc:767: \n",
      "Parameters: { \"memory\" } are not used.\n",
      "\n",
      "[22:49:01] WARNING: /Users/runner/work/xgboost/xgboost/python-package/build/temp.macosx-10.9-x86_64-cpython-38/xgboost/src/learner.cc:767: \n",
      "Parameters: { \"memory\" } are not used.\n",
      "\n",
      "0.0037872108719135397\n"
     ]
    },
    {
     "data": {
      "text/plain": [
       "0.888355138303494"
      ]
     },
     "execution_count": 185,
     "metadata": {},
     "output_type": "execute_result"
    }
   ],
   "source": [
    "# Integrate XGB into Sklearn's pipeline\n",
    "# Instanciate model\n",
    "model_xgb = XGBClassifier(max_depth=16, n_estimators=300, learning_rate=0.1, memory=Memory(cachedir, verbose=0, mmap_mode='r', bytes_limit=10**9))\n",
    "pipe_xgb = make_pipeline(preproc, model_xgb)\n",
    "score_xgb = cross_val_score(pipe_xgb,X_train,y_train,cv=5,scoring=\"roc_auc\",n_jobs=-1)\n",
    "print(score_xgb.std())\n",
    "score_xgb.mean()\n"
   ]
  },
  {
   "cell_type": "code",
   "execution_count": null,
   "metadata": {},
   "outputs": [
    {
     "name": "stderr",
     "output_type": "stream",
     "text": [
      "/Users/emilioaguiar/.pyenv/versions/3.8.12/envs/klarna/lib/python3.8/site-packages/xgboost/sklearn.py:835: UserWarning: `eval_metric` in `fit` method is deprecated for better compatibility with scikit-learn, use `eval_metric` in constructor or`set_params` instead.\n",
      "  warnings.warn(\n",
      "/Users/emilioaguiar/.pyenv/versions/3.8.12/envs/klarna/lib/python3.8/site-packages/xgboost/sklearn.py:835: UserWarning: `early_stopping_rounds` in `fit` method is deprecated for better compatibility with scikit-learn, use `early_stopping_rounds` in constructor or`set_params` instead.\n",
      "  warnings.warn(\n"
     ]
    },
    {
     "name": "stdout",
     "output_type": "stream",
     "text": [
      "[00:06:31] WARNING: /Users/runner/work/xgboost/xgboost/python-package/build/temp.macosx-10.9-x86_64-cpython-38/xgboost/src/learner.cc:767: \n",
      "Parameters: { \"memory\" } are not used.\n",
      "\n",
      "Best Validation Score 0.8267170404760603\n"
     ]
    },
    {
     "data": {
      "image/png": "[encoded data removed]",
      "text/plain": [
       "<Figure size 640x480 with 1 Axes>"
      ]
     },
     "metadata": {},
     "output_type": "display_data"
    }
   ],
   "source": [
    "# Option 2: Use XGBoost Library to fit it\n",
    "# It allows you to use an `early_stopping` criteria with a Train/Val slit\n",
    "X_train_preproc = preproc.fit_transform(X_train, y_train)\n",
    "X_test_preproc = preproc.transform(X_test)\n",
    "\n",
    "model_xgb.fit(X_train_preproc, y_train,\n",
    "        verbose=False,\n",
    "        eval_set=[(X_train_preproc, y_train), (X_test_preproc, y_test)],\n",
    "        eval_metric=[\"auc\"],\n",
    "        early_stopping_rounds=10)\n",
    "\n",
    "# retrieve performance metrics\n",
    "results = model_xgb.evals_result()\n",
    "epochs = len(results['validation_0'][\"auc\"])\n",
    "x_axis = range(0, epochs)\n",
    "\n",
    "# plot rmsle loss\n",
    "fig, ax = plt.subplots()\n",
    "ax.plot(x_axis, results['validation_0']['auc'], label='Train')\n",
    "ax.plot(x_axis, results['validation_1']['auc'], label='Val')\n",
    "ax.legend(); plt.ylabel('auc'); plt.title('XGBoost')\n",
    "\n",
    "print(\"Best Validation Score\", min(results['validation_1']['auc']))"
   ]
  },
  {
   "cell_type": "code",
   "execution_count": null,
   "metadata": {},
   "outputs": [],
   "source": [
    "# It would have been good to check the results of the XGBoost fined tuned"
   ]
  },
  {
   "cell_type": "code",
   "execution_count": null,
   "metadata": {},
   "outputs": [],
   "source": [
    "# see where is written the code where I create the enviroment for this project "
   ]
  },
  {
   "cell_type": "code",
   "execution_count": null,
   "metadata": {},
   "outputs": [],
   "source": [
    "# models I'm not using \n",
    "# Ridge, Lasso\n",
    "# Ensemble: VotingClassifier, reading the doc I believe it makes more sense to use StackingClassifier"
   ]
  },
  {
   "cell_type": "code",
   "execution_count": null,
   "metadata": {},
   "outputs": [],
   "source": [
    "# # Clear the cache directory at the end\n",
    "# rmtree(cachedir)"
   ]
  },
  {
   "cell_type": "code",
   "execution_count": null,
   "metadata": {},
   "outputs": [
    {
     "name": "stderr",
     "output_type": "stream",
     "text": [
      "2023-05-06 00:25:47.626783: I tensorflow/core/platform/cpu_feature_guard.cc:193] This TensorFlow binary is optimized with oneAPI Deep Neural Network Library (oneDNN) to use the following CPU instructions in performance-critical operations:  AVX2 FMA\n",
      "To enable them in other operations, rebuild TensorFlow with the appropriate compiler flags.\n"
     ]
    },
    {
     "name": "stdout",
     "output_type": "stream",
     "text": [
      "TensorFlow version: 2.10.0\n"
     ]
    }
   ],
   "source": [
    "import tensorflow as tf\n",
    "from tensorflow.keras import Model\n",
    "\n",
    "# Check TensorFlow version\n",
    "print(\"TensorFlow version:\", tf.__version__)"
   ]
  }
 ],
 "metadata": {
  "kernelspec": {
   "display_name": "Python 3.8.12 64-bit ('klarna')",
   "language": "python",
   "name": "python3"
  },
  "language_info": {
   "codemirror_mode": {
    "name": "ipython",
    "version": 3
   },
   "file_extension": ".py",
   "mimetype": "text/x-python",
   "name": "python",
   "nbconvert_exporter": "python",
   "pygments_lexer": "ipython3",
   "version": "3.8.12"
  },
  "orig_nbformat": 4,
  "vscode": {
   "interpreter": {
    "hash": "9dcf976523d746285ce90dc9a7212f6939c68732488606ca072d04ac6ae934a0"
   }
  }
 },
 "nbformat": 4,
 "nbformat_minor": 2
}
