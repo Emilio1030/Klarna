{
 "cells": [
  {
   "cell_type": "code",
   "execution_count": 1,
   "metadata": {},
   "outputs": [],
   "source": [
    "import pandas as pd\n",
    "import numpy as np\n",
    "import matplotlib.pyplot as plt\n",
    "import seaborn as sns\n",
    "import warnings\n",
    "\n",
    "from sklearn.metrics import roc_auc_score\n",
    "from sklearn.model_selection import cross_val_score\n",
    "from sklearn.metrics import r2_score\n",
    "\n",
    "from tempfile import mkdtemp\n",
    "from shutil import rmtree"
   ]
  },
  {
   "cell_type": "code",
   "execution_count": 26,
   "metadata": {},
   "outputs": [],
   "source": [
    "from scipy import stats\n",
    "from scipy.stats import uniform\n",
    "\n",
    "# sklearn preproc\n",
    "from sklearn.model_selection import train_test_split\n",
    "from sklearn.preprocessing import MinMaxScaler, StandardScaler\n",
    "from sklearn.pipeline import Pipeline, make_pipeline\n",
    "from sklearn.compose import ColumnTransformer, make_column_transformer, make_column_selector\n",
    "from sklearn.impute import SimpleImputer, KNNImputer\n",
    "from sklearn.preprocessing import RobustScaler, OneHotEncoder, OrdinalEncoder\n",
    "from sklearn.metrics import make_scorer\n",
    "\n",
    "from sklearn.model_selection import cross_val_score\n",
    "from sklearn.neighbors import KNeighborsClassifier\n",
    "from sklearn.linear_model import Ridge, Lasso, LinearRegression\n",
    "from sklearn.model_selection import RandomizedSearchCV\n",
    "from sklearn.svm import SVC\n",
    "from sklearn.model_selection import GridSearchCV, RandomizedSearchCV\n",
    "from sklearn.ensemble import AdaBoostClassifier\n",
    "from sklearn.tree import DecisionTreeClassifier\n",
    "from sklearn.ensemble import VotingRegressor\n",
    "from sklearn.ensemble import GradientBoostingClassifier\n",
    "from sklearn.ensemble import StackingRegressor\n",
    "from sklearn.ensemble import RandomForestClassifier\n",
    "from sklearn.feature_selection import VarianceThreshold\n",
    "\n",
    "\n"
   ]
  },
  {
   "cell_type": "code",
   "execution_count": 3,
   "metadata": {},
   "outputs": [
    {
     "data": {
      "text/html": [
       "<div>\n",
       "<style scoped>\n",
       "    .dataframe tbody tr th:only-of-type {\n",
       "        vertical-align: middle;\n",
       "    }\n",
       "\n",
       "    .dataframe tbody tr th {\n",
       "        vertical-align: top;\n",
       "    }\n",
       "\n",
       "    .dataframe thead th {\n",
       "        text-align: right;\n",
       "    }\n",
       "</style>\n",
       "<table border=\"1\" class=\"dataframe\">\n",
       "  <thead>\n",
       "    <tr style=\"text-align: right;\">\n",
       "      <th></th>\n",
       "      <th>uuid</th>\n",
       "      <th>default</th>\n",
       "      <th>account_amount_added_12_24m</th>\n",
       "      <th>account_days_in_dc_12_24m</th>\n",
       "      <th>account_days_in_rem_12_24m</th>\n",
       "      <th>account_days_in_term_12_24m</th>\n",
       "      <th>account_incoming_debt_vs_paid_0_24m</th>\n",
       "      <th>account_status</th>\n",
       "      <th>account_worst_status_0_3m</th>\n",
       "      <th>account_worst_status_12_24m</th>\n",
       "      <th>...</th>\n",
       "      <th>status_3rd_last_archived_0_24m</th>\n",
       "      <th>status_max_archived_0_6_months</th>\n",
       "      <th>status_max_archived_0_12_months</th>\n",
       "      <th>status_max_archived_0_24_months</th>\n",
       "      <th>recovery_debt</th>\n",
       "      <th>sum_capital_paid_account_0_12m</th>\n",
       "      <th>sum_capital_paid_account_12_24m</th>\n",
       "      <th>sum_paid_inv_0_12m</th>\n",
       "      <th>time_hours</th>\n",
       "      <th>worst_status_active_inv</th>\n",
       "    </tr>\n",
       "  </thead>\n",
       "  <tbody>\n",
       "    <tr>\n",
       "      <th>0</th>\n",
       "      <td>63f69b2c-8b1c-4740-b78d-52ed9a4515ac</td>\n",
       "      <td>0.0</td>\n",
       "      <td>0</td>\n",
       "      <td>0.0</td>\n",
       "      <td>0.0</td>\n",
       "      <td>0.0</td>\n",
       "      <td>0.0</td>\n",
       "      <td>1.0</td>\n",
       "      <td>1.0</td>\n",
       "      <td>NaN</td>\n",
       "      <td>...</td>\n",
       "      <td>1</td>\n",
       "      <td>1</td>\n",
       "      <td>1</td>\n",
       "      <td>1</td>\n",
       "      <td>0</td>\n",
       "      <td>0</td>\n",
       "      <td>0</td>\n",
       "      <td>178839</td>\n",
       "      <td>9.653333</td>\n",
       "      <td>1.0</td>\n",
       "    </tr>\n",
       "    <tr>\n",
       "      <th>1</th>\n",
       "      <td>0e961183-8c15-4470-9a5e-07a1bd207661</td>\n",
       "      <td>0.0</td>\n",
       "      <td>0</td>\n",
       "      <td>0.0</td>\n",
       "      <td>0.0</td>\n",
       "      <td>0.0</td>\n",
       "      <td>NaN</td>\n",
       "      <td>1.0</td>\n",
       "      <td>1.0</td>\n",
       "      <td>1.0</td>\n",
       "      <td>...</td>\n",
       "      <td>1</td>\n",
       "      <td>1</td>\n",
       "      <td>2</td>\n",
       "      <td>2</td>\n",
       "      <td>0</td>\n",
       "      <td>0</td>\n",
       "      <td>0</td>\n",
       "      <td>49014</td>\n",
       "      <td>13.181389</td>\n",
       "      <td>NaN</td>\n",
       "    </tr>\n",
       "    <tr>\n",
       "      <th>2</th>\n",
       "      <td>d8edaae6-4368-44e0-941e-8328f203e64e</td>\n",
       "      <td>0.0</td>\n",
       "      <td>0</td>\n",
       "      <td>0.0</td>\n",
       "      <td>0.0</td>\n",
       "      <td>0.0</td>\n",
       "      <td>NaN</td>\n",
       "      <td>NaN</td>\n",
       "      <td>NaN</td>\n",
       "      <td>NaN</td>\n",
       "      <td>...</td>\n",
       "      <td>1</td>\n",
       "      <td>1</td>\n",
       "      <td>2</td>\n",
       "      <td>2</td>\n",
       "      <td>0</td>\n",
       "      <td>0</td>\n",
       "      <td>0</td>\n",
       "      <td>124839</td>\n",
       "      <td>11.561944</td>\n",
       "      <td>1.0</td>\n",
       "    </tr>\n",
       "    <tr>\n",
       "      <th>3</th>\n",
       "      <td>0095dfb6-a886-4e2a-b056-15ef45fdb0ef</td>\n",
       "      <td>0.0</td>\n",
       "      <td>0</td>\n",
       "      <td>NaN</td>\n",
       "      <td>NaN</td>\n",
       "      <td>NaN</td>\n",
       "      <td>NaN</td>\n",
       "      <td>NaN</td>\n",
       "      <td>NaN</td>\n",
       "      <td>NaN</td>\n",
       "      <td>...</td>\n",
       "      <td>1</td>\n",
       "      <td>1</td>\n",
       "      <td>1</td>\n",
       "      <td>1</td>\n",
       "      <td>0</td>\n",
       "      <td>0</td>\n",
       "      <td>0</td>\n",
       "      <td>324676</td>\n",
       "      <td>15.751111</td>\n",
       "      <td>1.0</td>\n",
       "    </tr>\n",
       "    <tr>\n",
       "      <th>4</th>\n",
       "      <td>c8f8b835-5647-4506-bf15-49105d8af30b</td>\n",
       "      <td>0.0</td>\n",
       "      <td>0</td>\n",
       "      <td>0.0</td>\n",
       "      <td>0.0</td>\n",
       "      <td>0.0</td>\n",
       "      <td>NaN</td>\n",
       "      <td>NaN</td>\n",
       "      <td>NaN</td>\n",
       "      <td>NaN</td>\n",
       "      <td>...</td>\n",
       "      <td>0</td>\n",
       "      <td>1</td>\n",
       "      <td>1</td>\n",
       "      <td>1</td>\n",
       "      <td>0</td>\n",
       "      <td>0</td>\n",
       "      <td>0</td>\n",
       "      <td>7100</td>\n",
       "      <td>12.698611</td>\n",
       "      <td>NaN</td>\n",
       "    </tr>\n",
       "  </tbody>\n",
       "</table>\n",
       "<p>5 rows × 43 columns</p>\n",
       "</div>"
      ],
      "text/plain": [
       "                                   uuid  default  account_amount_added_12_24m  \\\n",
       "0  63f69b2c-8b1c-4740-b78d-52ed9a4515ac      0.0                            0   \n",
       "1  0e961183-8c15-4470-9a5e-07a1bd207661      0.0                            0   \n",
       "2  d8edaae6-4368-44e0-941e-8328f203e64e      0.0                            0   \n",
       "3  0095dfb6-a886-4e2a-b056-15ef45fdb0ef      0.0                            0   \n",
       "4  c8f8b835-5647-4506-bf15-49105d8af30b      0.0                            0   \n",
       "\n",
       "   account_days_in_dc_12_24m  account_days_in_rem_12_24m  \\\n",
       "0                        0.0                         0.0   \n",
       "1                        0.0                         0.0   \n",
       "2                        0.0                         0.0   \n",
       "3                        NaN                         NaN   \n",
       "4                        0.0                         0.0   \n",
       "\n",
       "   account_days_in_term_12_24m  account_incoming_debt_vs_paid_0_24m  \\\n",
       "0                          0.0                                  0.0   \n",
       "1                          0.0                                  NaN   \n",
       "2                          0.0                                  NaN   \n",
       "3                          NaN                                  NaN   \n",
       "4                          0.0                                  NaN   \n",
       "\n",
       "   account_status  account_worst_status_0_3m  account_worst_status_12_24m  \\\n",
       "0             1.0                        1.0                          NaN   \n",
       "1             1.0                        1.0                          1.0   \n",
       "2             NaN                        NaN                          NaN   \n",
       "3             NaN                        NaN                          NaN   \n",
       "4             NaN                        NaN                          NaN   \n",
       "\n",
       "   ...  status_3rd_last_archived_0_24m  status_max_archived_0_6_months  \\\n",
       "0  ...                               1                               1   \n",
       "1  ...                               1                               1   \n",
       "2  ...                               1                               1   \n",
       "3  ...                               1                               1   \n",
       "4  ...                               0                               1   \n",
       "\n",
       "   status_max_archived_0_12_months  status_max_archived_0_24_months  \\\n",
       "0                                1                                1   \n",
       "1                                2                                2   \n",
       "2                                2                                2   \n",
       "3                                1                                1   \n",
       "4                                1                                1   \n",
       "\n",
       "   recovery_debt sum_capital_paid_account_0_12m  \\\n",
       "0              0                              0   \n",
       "1              0                              0   \n",
       "2              0                              0   \n",
       "3              0                              0   \n",
       "4              0                              0   \n",
       "\n",
       "  sum_capital_paid_account_12_24m  sum_paid_inv_0_12m  time_hours  \\\n",
       "0                               0              178839    9.653333   \n",
       "1                               0               49014   13.181389   \n",
       "2                               0              124839   11.561944   \n",
       "3                               0              324676   15.751111   \n",
       "4                               0                7100   12.698611   \n",
       "\n",
       "   worst_status_active_inv  \n",
       "0                      1.0  \n",
       "1                      NaN  \n",
       "2                      1.0  \n",
       "3                      1.0  \n",
       "4                      NaN  \n",
       "\n",
       "[5 rows x 43 columns]"
      ]
     },
     "execution_count": 3,
     "metadata": {},
     "output_type": "execute_result"
    }
   ],
   "source": [
    "data = pd.read_csv('../raw_data/dataset.csv',sep=';')\n",
    "data = data.copy()\n",
    "data.head()"
   ]
  },
  {
   "cell_type": "code",
   "execution_count": 4,
   "metadata": {},
   "outputs": [
    {
     "data": {
      "text/plain": [
       "(99976, 43)"
      ]
     },
     "execution_count": 4,
     "metadata": {},
     "output_type": "execute_result"
    }
   ],
   "source": [
    "data.shape"
   ]
  },
  {
   "cell_type": "markdown",
   "metadata": {},
   "source": [
    "## 1. Preprocessing workflow "
   ]
  },
  {
   "cell_type": "markdown",
   "metadata": {},
   "source": [
    " ### 1.2. Missing values "
   ]
  },
  {
   "cell_type": "code",
   "execution_count": null,
   "metadata": {},
   "outputs": [],
   "source": [
    "# Missing data percentage\n",
    "# round((data.isnull().sum()/len(data)).sort_values(ascending=False),2)"
   ]
  },
  {
   "attachments": {},
   "cell_type": "markdown",
   "metadata": {},
   "source": [
    "##  Handling Missing Data with Imputation"
   ]
  },
  {
   "attachments": {},
   "cell_type": "markdown",
   "metadata": {},
   "source": [
    "## Preprocessing\n",
    "### Pipeline "
   ]
  },
  {
   "attachments": {},
   "cell_type": "markdown",
   "metadata": {},
   "source": [
    "### a) Ordinal Encoding \n",
    "#### Explanation - [Ordinal Encoding or One-Hot-Encoding](https://stackoverflow.com/questions/69052776/ordinal-encoding-or-one-hot-encoding)"
   ]
  },
  {
   "cell_type": "code",
   "execution_count": 5,
   "metadata": {},
   "outputs": [],
   "source": [
    "# # removing column \"uuid\" from the dataset\n",
    "# data_id = data['uuid']\n",
    "# data.drop(['uuid'], axis=1, inplace=True)\n",
    "# # setting target and removing the \"default\" from dataset\n",
    "# target = data['default']\n",
    "# data.drop(['default'], axis=1, inplace=True)\n",
    "# # isna and isnull were not recognizing \"nan\" \n",
    "# data = data.replace('nan', np.NaN)\n",
    "###\n",
    "# removing the missing values of the target and these raws from the dataset\n",
    "###\n",
    "# removing coulumn \"uuid\" from the dataset\n",
    "data_id = data['uuid']\n",
    "#_ = data.reset_index()\n",
    "#data = _.drop(['uuid'], axis=1)\n",
    "data.drop(['uuid'], axis=1, inplace=True)\n",
    "# setting target and removing the \"default\" from dataset\n",
    "target = data['default'].dropna()\n",
    "data.dropna(subset=['default'], axis=0, inplace=True)\n",
    "data.drop(['default'], axis=1, inplace=True)\n",
    "# isna and isnull were not recognizing \"nan\" \n",
    "data = data.replace('nan', np.NaN)\n"
   ]
  },
  {
   "cell_type": "code",
   "execution_count": 6,
   "metadata": {},
   "outputs": [],
   "source": [
    " # converting these columns to \"object\" type\n",
    "list_float_to_obj = [\"worst_status_active_inv\", \"account_status\",\"account_worst_status_0_3m\",\n",
    "                     \"account_worst_status_12_24m\", \"account_worst_status_3_6m\", \"account_worst_status_6_12m\",\n",
    "                     \"status_last_archived_0_24m\", \"status_2nd_last_archived_0_24m\",\"status_3rd_last_archived_0_24m\",\n",
    "                     \"status_max_archived_0_6_months\",\"status_max_archived_0_12_months\",\"status_max_archived_0_24_months\",\n",
    "                     \"has_paid\"]\n",
    "\n",
    "_ = [data.__setitem__(feature, data[feature].astype(\"object\")) for feature in list_float_to_obj]\n"
   ]
  },
  {
   "cell_type": "code",
   "execution_count": 7,
   "metadata": {},
   "outputs": [],
   "source": [
    "feat_ordinal_dict = {\n",
    "    # considers \"missing\" as \"neutral\"\n",
    "    \"account_status\": ['missing', 1.0, 2.0, 3.0, 4.0],\n",
    "    \"account_worst_status_0_3m\": ['missing', 1.0, 2.0, 3.0, 4.0],\n",
    "    \"account_worst_status_12_24m\": ['missing', 1.0, 2.0, 3.0, 4.0],\n",
    "    \"account_worst_status_3_6m\": ['missing', 1.0, 2.0, 3.0, 4.0],\n",
    "    \"account_worst_status_6_12m\": ['missing', 1.0, 2.0, 3.0, 4.0],\n",
    "    \"has_paid\": ['True', 'False'],\n",
    "    \"status_last_archived_0_24m\": [1, 0, 2, 3, 5],\n",
    "    \"status_2nd_last_archived_0_24m\": [1, 0, 2, 3, 5],\n",
    "    \"status_3rd_last_archived_0_24m\": [1, 0, 2, 3, 5],\n",
    "    \"status_max_archived_0_6_months\": [1, 0, 2, 3],\n",
    "    \"status_max_archived_0_12_months\": [1, 2, 0, 3, 5],\n",
    "    \"status_max_archived_0_24_months\": [1, 2, 0, 3, 5],\n",
    "    \"worst_status_active_inv\": ['missing', 1.0, 2.0, 3.0]\n",
    "}\n",
    "\n",
    "feat_ordinal = sorted(feat_ordinal_dict.keys()) # sort alphabetically\n",
    "feat_ordinal_values_sorted = [feat_ordinal_dict[i] for i in feat_ordinal]\n"
   ]
  },
  {
   "cell_type": "markdown",
   "metadata": {},
   "source": [
    "### b) Statistical Feature Selection"
   ]
  },
  {
   "attachments": {},
   "cell_type": "markdown",
   "metadata": {},
   "source": [
    "#### Removing feature with low variance \n",
    "#### VarainceTreshold is a simple basilen approach to feature selection. It removes all features whose variance doesn’t meet some threshold. By default, it removes all zero-variance features, i.e. features that have the same value in all samples. \n",
    "### Here it would be interesting to have an cutoff value in line with the feature. e.g. \"has_paid\" is a boolean feature assuming \"True\" or \"False\" values. Thus, it's likely to ~ Bernoulli and Var[X] = p(1-p). The other categorical features could ~ Binomial. For parsimony we're not differentiating by feature. \n",
    "#### This feature selection algorithm looks only at the features (X), not the desired outputs (y), and can thus be used for unsupervised learning. \n",
    "#### There're other feature selection methods - [Feature Selection](https://scikit-learn.org/stable/modules/feature_selection.html#variance-threshold)"
   ]
  },
  {
   "cell_type": "code",
   "execution_count": null,
   "metadata": {},
   "outputs": [],
   "source": [
    "# def number_feature_remaining(cutoff=0):\n",
    "#     preproc_transformer = make_column_transformer(\n",
    "#         (preproc_numerical, feat_numerical),\n",
    "#         (preproc_ordinal, feat_ordinal),\n",
    "#         (preproc_nominal, feat_nominal),\n",
    "#         remainder=\"drop\")\n",
    "\n",
    "#     preproc_selector = VarianceThreshold(cutoff)\n",
    "\n",
    "#     preproc = make_pipeline(\n",
    "#         preproc_transformer,\n",
    "#         preproc_selector)\n",
    "\n",
    "#     return preproc.fit_transform(X_train).shape[1]\n",
    "\n",
    "# cutoff_values = np.arange(0, 0.2, 0.01)\n",
    "# plt.plot(cutoff_values, [number_feature_remaining(t) for t in cutoff_values], marker='x')\n",
    "# plt.xlabel(\"chosen feature variance cutoff values\")\n",
    "# plt.title(\"Number of Feature Remaining\");"
   ]
  },
  {
   "cell_type": "code",
   "execution_count": 8,
   "metadata": {},
   "outputs": [],
   "source": [
    "# Defining Numercal features\n",
    "feat_numerical = sorted(data.select_dtypes(include=[\"int64\", \"float64\"]).columns)"
   ]
  },
  {
   "cell_type": "code",
   "execution_count": 9,
   "metadata": {},
   "outputs": [],
   "source": [
    "# Define nominal features to one-hot-encode as the remaining ones (non numerical, non ordinal)\n",
    "feat_nominal = sorted(list(set(data.columns) - set(feat_numerical) - set(feat_ordinal)))\n",
    "\n",
    "preproc_nominal = make_pipeline(\n",
    "    SimpleImputer(strategy=\"most_frequent\"),\n",
    "    OneHotEncoder(handle_unknown=\"ignore\")\n",
    ")"
   ]
  },
  {
   "cell_type": "code",
   "execution_count": 10,
   "metadata": {},
   "outputs": [],
   "source": [
    "from sklearn.feature_selection import SelectPercentile, mutual_info_regression"
   ]
  },
  {
   "cell_type": "code",
   "execution_count": 11,
   "metadata": {},
   "outputs": [
    {
     "data": {
      "text/html": [
       "<style>#sk-container-id-1 {color: black;background-color: white;}#sk-container-id-1 pre{padding: 0;}#sk-container-id-1 div.sk-toggleable {background-color: white;}#sk-container-id-1 label.sk-toggleable__label {cursor: pointer;display: block;width: 100%;margin-bottom: 0;padding: 0.3em;box-sizing: border-box;text-align: center;}#sk-container-id-1 label.sk-toggleable__label-arrow:before {content: \"▸\";float: left;margin-right: 0.25em;color: #696969;}#sk-container-id-1 label.sk-toggleable__label-arrow:hover:before {color: black;}#sk-container-id-1 div.sk-estimator:hover label.sk-toggleable__label-arrow:before {color: black;}#sk-container-id-1 div.sk-toggleable__content {max-height: 0;max-width: 0;overflow: hidden;text-align: left;background-color: #f0f8ff;}#sk-container-id-1 div.sk-toggleable__content pre {margin: 0.2em;color: black;border-radius: 0.25em;background-color: #f0f8ff;}#sk-container-id-1 input.sk-toggleable__control:checked~div.sk-toggleable__content {max-height: 200px;max-width: 100%;overflow: auto;}#sk-container-id-1 input.sk-toggleable__control:checked~label.sk-toggleable__label-arrow:before {content: \"▾\";}#sk-container-id-1 div.sk-estimator input.sk-toggleable__control:checked~label.sk-toggleable__label {background-color: #d4ebff;}#sk-container-id-1 div.sk-label input.sk-toggleable__control:checked~label.sk-toggleable__label {background-color: #d4ebff;}#sk-container-id-1 input.sk-hidden--visually {border: 0;clip: rect(1px 1px 1px 1px);clip: rect(1px, 1px, 1px, 1px);height: 1px;margin: -1px;overflow: hidden;padding: 0;position: absolute;width: 1px;}#sk-container-id-1 div.sk-estimator {font-family: monospace;background-color: #f0f8ff;border: 1px dotted black;border-radius: 0.25em;box-sizing: border-box;margin-bottom: 0.5em;}#sk-container-id-1 div.sk-estimator:hover {background-color: #d4ebff;}#sk-container-id-1 div.sk-parallel-item::after {content: \"\";width: 100%;border-bottom: 1px solid gray;flex-grow: 1;}#sk-container-id-1 div.sk-label:hover label.sk-toggleable__label {background-color: #d4ebff;}#sk-container-id-1 div.sk-serial::before {content: \"\";position: absolute;border-left: 1px solid gray;box-sizing: border-box;top: 0;bottom: 0;left: 50%;z-index: 0;}#sk-container-id-1 div.sk-serial {display: flex;flex-direction: column;align-items: center;background-color: white;padding-right: 0.2em;padding-left: 0.2em;position: relative;}#sk-container-id-1 div.sk-item {position: relative;z-index: 1;}#sk-container-id-1 div.sk-parallel {display: flex;align-items: stretch;justify-content: center;background-color: white;position: relative;}#sk-container-id-1 div.sk-item::before, #sk-container-id-1 div.sk-parallel-item::before {content: \"\";position: absolute;border-left: 1px solid gray;box-sizing: border-box;top: 0;bottom: 0;left: 50%;z-index: -1;}#sk-container-id-1 div.sk-parallel-item {display: flex;flex-direction: column;z-index: 1;position: relative;background-color: white;}#sk-container-id-1 div.sk-parallel-item:first-child::after {align-self: flex-end;width: 50%;}#sk-container-id-1 div.sk-parallel-item:last-child::after {align-self: flex-start;width: 50%;}#sk-container-id-1 div.sk-parallel-item:only-child::after {width: 0;}#sk-container-id-1 div.sk-dashed-wrapped {border: 1px dashed gray;margin: 0 0.4em 0.5em 0.4em;box-sizing: border-box;padding-bottom: 0.4em;background-color: white;}#sk-container-id-1 div.sk-label label {font-family: monospace;font-weight: bold;display: inline-block;line-height: 1.2em;}#sk-container-id-1 div.sk-label-container {text-align: center;}#sk-container-id-1 div.sk-container {/* jupyter's `normalize.less` sets `[hidden] { display: none; }` but bootstrap.min.css set `[hidden] { display: none !important; }` so we also need the `!important` here to be able to override the default hidden behavior on the sphinx rendered scikit-learn.org. See: https://github.com/scikit-learn/scikit-learn/issues/21755 */display: inline-block !important;position: relative;}#sk-container-id-1 div.sk-text-repr-fallback {display: none;}</style><div id=\"sk-container-id-1\" class=\"sk-top-container\"><div class=\"sk-text-repr-fallback\"><pre>Pipeline(steps=[(&#x27;columntransformer&#x27;,\n",
       "                 ColumnTransformer(transformers=[(&#x27;pipeline-1&#x27;,\n",
       "                                                  Pipeline(steps=[(&#x27;knnimputer&#x27;,\n",
       "                                                                   KNNImputer()),\n",
       "                                                                  (&#x27;minmaxscaler&#x27;,\n",
       "                                                                   MinMaxScaler())]),\n",
       "                                                  &lt;sklearn.compose._column_transformer.make_column_selector object at 0x130272f70&gt;),\n",
       "                                                 (&#x27;pipeline-2&#x27;,\n",
       "                                                  Pipeline(steps=[(&#x27;simpleimputer&#x27;,\n",
       "                                                                   SimpleImputer(fill_value=&#x27;missing&#x27;,\n",
       "                                                                                 strategy=&#x27;constant&#x27;)),\n",
       "                                                                  (&#x27;ordi...\n",
       "                                                   &#x27;status_max_archived_0_6_months&#x27;,\n",
       "                                                   &#x27;worst_status_active_inv&#x27;]),\n",
       "                                                 (&#x27;pipeline-3&#x27;,\n",
       "                                                  Pipeline(steps=[(&#x27;simpleimputer&#x27;,\n",
       "                                                                   SimpleImputer(strategy=&#x27;most_frequent&#x27;)),\n",
       "                                                                  (&#x27;onehotencoder&#x27;,\n",
       "                                                                   OneHotEncoder(handle_unknown=&#x27;ignore&#x27;))]),\n",
       "                                                  [&#x27;merchant_category&#x27;,\n",
       "                                                   &#x27;merchant_group&#x27;,\n",
       "                                                   &#x27;name_in_email&#x27;])])),\n",
       "                (&#x27;selectpercentile&#x27;,\n",
       "                 SelectPercentile(percentile=50,\n",
       "                                  score_func=&lt;function mutual_info_regression at 0x12e6e94c0&gt;))])</pre><b>In a Jupyter environment, please rerun this cell to show the HTML representation or trust the notebook. <br />On GitHub, the HTML representation is unable to render, please try loading this page with nbviewer.org.</b></div><div class=\"sk-container\" hidden><div class=\"sk-item sk-dashed-wrapped\"><div class=\"sk-label-container\"><div class=\"sk-label sk-toggleable\"><input class=\"sk-toggleable__control sk-hidden--visually\" id=\"sk-estimator-id-1\" type=\"checkbox\" ><label for=\"sk-estimator-id-1\" class=\"sk-toggleable__label sk-toggleable__label-arrow\">Pipeline</label><div class=\"sk-toggleable__content\"><pre>Pipeline(steps=[(&#x27;columntransformer&#x27;,\n",
       "                 ColumnTransformer(transformers=[(&#x27;pipeline-1&#x27;,\n",
       "                                                  Pipeline(steps=[(&#x27;knnimputer&#x27;,\n",
       "                                                                   KNNImputer()),\n",
       "                                                                  (&#x27;minmaxscaler&#x27;,\n",
       "                                                                   MinMaxScaler())]),\n",
       "                                                  &lt;sklearn.compose._column_transformer.make_column_selector object at 0x130272f70&gt;),\n",
       "                                                 (&#x27;pipeline-2&#x27;,\n",
       "                                                  Pipeline(steps=[(&#x27;simpleimputer&#x27;,\n",
       "                                                                   SimpleImputer(fill_value=&#x27;missing&#x27;,\n",
       "                                                                                 strategy=&#x27;constant&#x27;)),\n",
       "                                                                  (&#x27;ordi...\n",
       "                                                   &#x27;status_max_archived_0_6_months&#x27;,\n",
       "                                                   &#x27;worst_status_active_inv&#x27;]),\n",
       "                                                 (&#x27;pipeline-3&#x27;,\n",
       "                                                  Pipeline(steps=[(&#x27;simpleimputer&#x27;,\n",
       "                                                                   SimpleImputer(strategy=&#x27;most_frequent&#x27;)),\n",
       "                                                                  (&#x27;onehotencoder&#x27;,\n",
       "                                                                   OneHotEncoder(handle_unknown=&#x27;ignore&#x27;))]),\n",
       "                                                  [&#x27;merchant_category&#x27;,\n",
       "                                                   &#x27;merchant_group&#x27;,\n",
       "                                                   &#x27;name_in_email&#x27;])])),\n",
       "                (&#x27;selectpercentile&#x27;,\n",
       "                 SelectPercentile(percentile=50,\n",
       "                                  score_func=&lt;function mutual_info_regression at 0x12e6e94c0&gt;))])</pre></div></div></div><div class=\"sk-serial\"><div class=\"sk-item sk-dashed-wrapped\"><div class=\"sk-label-container\"><div class=\"sk-label sk-toggleable\"><input class=\"sk-toggleable__control sk-hidden--visually\" id=\"sk-estimator-id-2\" type=\"checkbox\" ><label for=\"sk-estimator-id-2\" class=\"sk-toggleable__label sk-toggleable__label-arrow\">columntransformer: ColumnTransformer</label><div class=\"sk-toggleable__content\"><pre>ColumnTransformer(transformers=[(&#x27;pipeline-1&#x27;,\n",
       "                                 Pipeline(steps=[(&#x27;knnimputer&#x27;, KNNImputer()),\n",
       "                                                 (&#x27;minmaxscaler&#x27;,\n",
       "                                                  MinMaxScaler())]),\n",
       "                                 &lt;sklearn.compose._column_transformer.make_column_selector object at 0x130272f70&gt;),\n",
       "                                (&#x27;pipeline-2&#x27;,\n",
       "                                 Pipeline(steps=[(&#x27;simpleimputer&#x27;,\n",
       "                                                  SimpleImputer(fill_value=&#x27;missing&#x27;,\n",
       "                                                                strategy=&#x27;constant&#x27;)),\n",
       "                                                 (&#x27;ordinalencoder&#x27;,\n",
       "                                                  OrdinalEncoder(categories...\n",
       "                                  &#x27;status_last_archived_0_24m&#x27;,\n",
       "                                  &#x27;status_max_archived_0_12_months&#x27;,\n",
       "                                  &#x27;status_max_archived_0_24_months&#x27;,\n",
       "                                  &#x27;status_max_archived_0_6_months&#x27;,\n",
       "                                  &#x27;worst_status_active_inv&#x27;]),\n",
       "                                (&#x27;pipeline-3&#x27;,\n",
       "                                 Pipeline(steps=[(&#x27;simpleimputer&#x27;,\n",
       "                                                  SimpleImputer(strategy=&#x27;most_frequent&#x27;)),\n",
       "                                                 (&#x27;onehotencoder&#x27;,\n",
       "                                                  OneHotEncoder(handle_unknown=&#x27;ignore&#x27;))]),\n",
       "                                 [&#x27;merchant_category&#x27;, &#x27;merchant_group&#x27;,\n",
       "                                  &#x27;name_in_email&#x27;])])</pre></div></div></div><div class=\"sk-parallel\"><div class=\"sk-parallel-item\"><div class=\"sk-item\"><div class=\"sk-label-container\"><div class=\"sk-label sk-toggleable\"><input class=\"sk-toggleable__control sk-hidden--visually\" id=\"sk-estimator-id-3\" type=\"checkbox\" ><label for=\"sk-estimator-id-3\" class=\"sk-toggleable__label sk-toggleable__label-arrow\">pipeline-1</label><div class=\"sk-toggleable__content\"><pre>&lt;sklearn.compose._column_transformer.make_column_selector object at 0x130272f70&gt;</pre></div></div></div><div class=\"sk-serial\"><div class=\"sk-item\"><div class=\"sk-serial\"><div class=\"sk-item\"><div class=\"sk-estimator sk-toggleable\"><input class=\"sk-toggleable__control sk-hidden--visually\" id=\"sk-estimator-id-4\" type=\"checkbox\" ><label for=\"sk-estimator-id-4\" class=\"sk-toggleable__label sk-toggleable__label-arrow\">KNNImputer</label><div class=\"sk-toggleable__content\"><pre>KNNImputer()</pre></div></div></div><div class=\"sk-item\"><div class=\"sk-estimator sk-toggleable\"><input class=\"sk-toggleable__control sk-hidden--visually\" id=\"sk-estimator-id-5\" type=\"checkbox\" ><label for=\"sk-estimator-id-5\" class=\"sk-toggleable__label sk-toggleable__label-arrow\">MinMaxScaler</label><div class=\"sk-toggleable__content\"><pre>MinMaxScaler()</pre></div></div></div></div></div></div></div></div><div class=\"sk-parallel-item\"><div class=\"sk-item\"><div class=\"sk-label-container\"><div class=\"sk-label sk-toggleable\"><input class=\"sk-toggleable__control sk-hidden--visually\" id=\"sk-estimator-id-6\" type=\"checkbox\" ><label for=\"sk-estimator-id-6\" class=\"sk-toggleable__label sk-toggleable__label-arrow\">pipeline-2</label><div class=\"sk-toggleable__content\"><pre>[&#x27;account_status&#x27;, &#x27;account_worst_status_0_3m&#x27;, &#x27;account_worst_status_12_24m&#x27;, &#x27;account_worst_status_3_6m&#x27;, &#x27;account_worst_status_6_12m&#x27;, &#x27;has_paid&#x27;, &#x27;status_2nd_last_archived_0_24m&#x27;, &#x27;status_3rd_last_archived_0_24m&#x27;, &#x27;status_last_archived_0_24m&#x27;, &#x27;status_max_archived_0_12_months&#x27;, &#x27;status_max_archived_0_24_months&#x27;, &#x27;status_max_archived_0_6_months&#x27;, &#x27;worst_status_active_inv&#x27;]</pre></div></div></div><div class=\"sk-serial\"><div class=\"sk-item\"><div class=\"sk-serial\"><div class=\"sk-item\"><div class=\"sk-estimator sk-toggleable\"><input class=\"sk-toggleable__control sk-hidden--visually\" id=\"sk-estimator-id-7\" type=\"checkbox\" ><label for=\"sk-estimator-id-7\" class=\"sk-toggleable__label sk-toggleable__label-arrow\">SimpleImputer</label><div class=\"sk-toggleable__content\"><pre>SimpleImputer(fill_value=&#x27;missing&#x27;, strategy=&#x27;constant&#x27;)</pre></div></div></div><div class=\"sk-item\"><div class=\"sk-estimator sk-toggleable\"><input class=\"sk-toggleable__control sk-hidden--visually\" id=\"sk-estimator-id-8\" type=\"checkbox\" ><label for=\"sk-estimator-id-8\" class=\"sk-toggleable__label sk-toggleable__label-arrow\">OrdinalEncoder</label><div class=\"sk-toggleable__content\"><pre>OrdinalEncoder(categories=[[&#x27;missing&#x27;, 1.0, 2.0, 3.0, 4.0],\n",
       "                           [&#x27;missing&#x27;, 1.0, 2.0, 3.0, 4.0],\n",
       "                           [&#x27;missing&#x27;, 1.0, 2.0, 3.0, 4.0],\n",
       "                           [&#x27;missing&#x27;, 1.0, 2.0, 3.0, 4.0],\n",
       "                           [&#x27;missing&#x27;, 1.0, 2.0, 3.0, 4.0], [&#x27;True&#x27;, &#x27;False&#x27;],\n",
       "                           [1, 0, 2, 3, 5], [1, 0, 2, 3, 5], [1, 0, 2, 3, 5],\n",
       "                           [1, 2, 0, 3, 5], [1, 2, 0, 3, 5], [1, 0, 2, 3],\n",
       "                           [&#x27;missing&#x27;, 1.0, 2.0, 3.0]],\n",
       "               dtype=&lt;class &#x27;numpy.int64&#x27;&gt;, handle_unknown=&#x27;use_encoded_value&#x27;,\n",
       "               unknown_value=-1)</pre></div></div></div><div class=\"sk-item\"><div class=\"sk-estimator sk-toggleable\"><input class=\"sk-toggleable__control sk-hidden--visually\" id=\"sk-estimator-id-9\" type=\"checkbox\" ><label for=\"sk-estimator-id-9\" class=\"sk-toggleable__label sk-toggleable__label-arrow\">MinMaxScaler</label><div class=\"sk-toggleable__content\"><pre>MinMaxScaler()</pre></div></div></div></div></div></div></div></div><div class=\"sk-parallel-item\"><div class=\"sk-item\"><div class=\"sk-label-container\"><div class=\"sk-label sk-toggleable\"><input class=\"sk-toggleable__control sk-hidden--visually\" id=\"sk-estimator-id-10\" type=\"checkbox\" ><label for=\"sk-estimator-id-10\" class=\"sk-toggleable__label sk-toggleable__label-arrow\">pipeline-3</label><div class=\"sk-toggleable__content\"><pre>[&#x27;merchant_category&#x27;, &#x27;merchant_group&#x27;, &#x27;name_in_email&#x27;]</pre></div></div></div><div class=\"sk-serial\"><div class=\"sk-item\"><div class=\"sk-serial\"><div class=\"sk-item\"><div class=\"sk-estimator sk-toggleable\"><input class=\"sk-toggleable__control sk-hidden--visually\" id=\"sk-estimator-id-11\" type=\"checkbox\" ><label for=\"sk-estimator-id-11\" class=\"sk-toggleable__label sk-toggleable__label-arrow\">SimpleImputer</label><div class=\"sk-toggleable__content\"><pre>SimpleImputer(strategy=&#x27;most_frequent&#x27;)</pre></div></div></div><div class=\"sk-item\"><div class=\"sk-estimator sk-toggleable\"><input class=\"sk-toggleable__control sk-hidden--visually\" id=\"sk-estimator-id-12\" type=\"checkbox\" ><label for=\"sk-estimator-id-12\" class=\"sk-toggleable__label sk-toggleable__label-arrow\">OneHotEncoder</label><div class=\"sk-toggleable__content\"><pre>OneHotEncoder(handle_unknown=&#x27;ignore&#x27;)</pre></div></div></div></div></div></div></div></div></div></div><div class=\"sk-item\"><div class=\"sk-estimator sk-toggleable\"><input class=\"sk-toggleable__control sk-hidden--visually\" id=\"sk-estimator-id-13\" type=\"checkbox\" ><label for=\"sk-estimator-id-13\" class=\"sk-toggleable__label sk-toggleable__label-arrow\">SelectPercentile</label><div class=\"sk-toggleable__content\"><pre>SelectPercentile(percentile=50,\n",
       "                 score_func=&lt;function mutual_info_regression at 0x12e6e94c0&gt;)</pre></div></div></div></div></div></div></div>"
      ],
      "text/plain": [
       "Pipeline(steps=[('columntransformer',\n",
       "                 ColumnTransformer(transformers=[('pipeline-1',\n",
       "                                                  Pipeline(steps=[('knnimputer',\n",
       "                                                                   KNNImputer()),\n",
       "                                                                  ('minmaxscaler',\n",
       "                                                                   MinMaxScaler())]),\n",
       "                                                  <sklearn.compose._column_transformer.make_column_selector object at 0x130272f70>),\n",
       "                                                 ('pipeline-2',\n",
       "                                                  Pipeline(steps=[('simpleimputer',\n",
       "                                                                   SimpleImputer(fill_value='missing',\n",
       "                                                                                 strategy='constant')),\n",
       "                                                                  ('ordi...\n",
       "                                                   'status_max_archived_0_6_months',\n",
       "                                                   'worst_status_active_inv']),\n",
       "                                                 ('pipeline-3',\n",
       "                                                  Pipeline(steps=[('simpleimputer',\n",
       "                                                                   SimpleImputer(strategy='most_frequent')),\n",
       "                                                                  ('onehotencoder',\n",
       "                                                                   OneHotEncoder(handle_unknown='ignore'))]),\n",
       "                                                  ['merchant_category',\n",
       "                                                   'merchant_group',\n",
       "                                                   'name_in_email'])])),\n",
       "                ('selectpercentile',\n",
       "                 SelectPercentile(percentile=50,\n",
       "                                  score_func=<function mutual_info_regression at 0x12e6e94c0>))])"
      ]
     },
     "execution_count": 11,
     "metadata": {},
     "output_type": "execute_result"
    }
   ],
   "source": [
    "# Pipeline final version  - prepoc \n",
    "encoder_ordinal = OrdinalEncoder(\n",
    "    categories=feat_ordinal_values_sorted,\n",
    "    dtype= np.int64,\n",
    "    handle_unknown=\"use_encoded_value\",\n",
    "    unknown_value=-1 # Considers unknown values as worse than \"missing\"\n",
    ")\n",
    "\n",
    "preproc_ordinal = make_pipeline(\n",
    "    SimpleImputer(strategy=\"constant\", fill_value=\"missing\"),\n",
    "    encoder_ordinal,\n",
    "    MinMaxScaler()\n",
    ")\n",
    "\n",
    "preproc_numerical = make_pipeline(\n",
    "    KNNImputer(),\n",
    "    MinMaxScaler()\n",
    ")\n",
    "\n",
    "preproc_transformer = make_column_transformer(\n",
    "    (preproc_numerical, make_column_selector(dtype_include=[\"int64\", \"float64\"])),\n",
    "    (preproc_ordinal, feat_ordinal),\n",
    "    (preproc_nominal, feat_nominal),\n",
    "    remainder=\"drop\")\n",
    "\n",
    "preproc_selector = SelectPercentile(\n",
    "    mutual_info_regression,\n",
    "    percentile=50, # keep only xx% of all features )\n",
    ")\n",
    "\n",
    "# preproc_selector = VarianceThreshold(0)\n",
    "\n",
    "preproc = make_pipeline(\n",
    "    preproc_transformer,\n",
    "    preproc_selector\n",
    ")\n",
    "preproc"
   ]
  },
  {
   "cell_type": "code",
   "execution_count": null,
   "metadata": {},
   "outputs": [],
   "source": [
    "# # pd.DataFrame(preproc.fit_transform(data,target)).head()\n",
    "# # Get column names after preprocessing\n",
    "# column_names = preproc.fit(data).get_feature_names_out()\n",
    "# # Create new DataFrame with transformed data and column names\n",
    "# data_preproc = pd.DataFrame(preproc.transform(data), columns=column_names, dtype=np.float16)"
   ]
  },
  {
   "cell_type": "code",
   "execution_count": 12,
   "metadata": {},
   "outputs": [],
   "source": [
    "# random_state=42 we want to compare the performance of diferent models\n",
    "X_train, X_test, y_train, y_test = train_test_split(data,target,random_state=42)\n",
    "# could try \n",
    "#X _train, X_test, y_train, y_test = train_test_split(data,target,test_size=0.30, random_state=42)"
   ]
  },
  {
   "cell_type": "code",
   "execution_count": 13,
   "metadata": {},
   "outputs": [
    {
     "data": {
      "text/plain": [
       "(67482, 57)"
      ]
     },
     "execution_count": 13,
     "metadata": {},
     "output_type": "execute_result"
    }
   ],
   "source": [
    "# Check shape\n",
    "preproc_fitted = preproc.fit(X_train,y_train)\n",
    "preproc_fitted.transform(X_train).shape\n",
    "#time running 16m38s\n"
   ]
  },
  {
   "cell_type": "code",
   "execution_count": 14,
   "metadata": {},
   "outputs": [],
   "source": [
    "# This code is setting up a cache directory to store the results of the preprocessing step of a pipeline.\n",
    "# Caching can improve the performance of the pipeline by avoiding repeated computation of the same preprocessing step. \n",
    "# The cache directory is created using the mkdtemp function from the tempfile module, \n",
    "# and the directory path is stored in the variable cachedir. \n",
    "# The directory will be automatically deleted after use by the rmtree function from the shutil module. \n",
    "# The use of caching can be controlled by setting the memory parameter of the Pipeline object to cachedir.\n",
    "allow_grid_searching = False # use True to activate girdsearch in the notebook cells below\n",
    "# Cache the preprocessing step of the pipeline\n",
    "cachedir = mkdtemp()\n"
   ]
  },
  {
   "cell_type": "code",
   "execution_count": null,
   "metadata": {},
   "outputs": [],
   "source": [
    "# para avançar: ver rmse and rmse_neg. é valido para o meu caso, visto que a tenho um classification pred\n",
    "# obejctivo ver todas os passos aplicar e ver os resultados e APRENDER!"
   ]
  },
  {
   "cell_type": "markdown",
   "metadata": {},
   "source": [
    "### 2.2 Model Iteration ♻"
   ]
  },
  {
   "attachments": {},
   "cell_type": "markdown",
   "metadata": {},
   "source": [
    "#### a) Model KNN"
   ]
  },
  {
   "cell_type": "code",
   "execution_count": 22,
   "metadata": {},
   "outputs": [],
   "source": [
    "# It has been chosen this \"roc_auc\" (Area Under the Curve) scoring metric over other once is general metric, \n",
    "# showing how well the model is able to distinguish between two classes across all threshold"
   ]
  },
  {
   "cell_type": "code",
   "execution_count": null,
   "metadata": {},
   "outputs": [],
   "source": [
    "# model_knn = KNeighborsClassifier()\n",
    "# pipe_knn = make_pipeline(preproc, model_knn, memory=cachedir)\n",
    "# scores_knn = cross_val_score(pipe_knn, X_train, y_train, cv=5, scoring='precision', n_jobs=-1)\n",
    "# scores_knn.mean()\n",
    "# 0.3564935064935065"
   ]
  },
  {
   "cell_type": "code",
   "execution_count": null,
   "metadata": {},
   "outputs": [],
   "source": [
    "# explanation\n",
    "###### model #####\n",
    "model_knn2 = KNeighborsClassifier()\n",
    "pipe_knn2 = make_pipeline(preproc, model_knn2, memory=cachedir)\n",
    "scores_knn2 = cross_val_score(pipe_knn2, X_train, y_train, cv=5, scoring=\"roc_auc\", n_jobs=-1)\n",
    "scores_knn2.mean()"
   ]
  },
  {
   "attachments": {},
   "cell_type": "markdown",
   "metadata": {},
   "source": [
    "#### b) Model Trees"
   ]
  },
  {
   "cell_type": "code",
   "execution_count": null,
   "metadata": {},
   "outputs": [],
   "source": [
    "# max_depth: This parameter sets the maximum depth of each decision tree in the ensemble. \n",
    "# A deeper tree can learn more complex relationships between features, but can also lead to overfitting.\n",
    "# min_samples_leaf: This parameter sets the minimum number of samples required to be at a leaf node of each decision tree in the ensemble.\n",
    "# A higher value of this parameter can help prevent overfitting by ensuring that each leaf contains a minimum number of samples.\n",
    "##### Note ##### Note ##### Note #####\n",
    "# In decision trees, a leaf node is a node that has no child nodes. \n",
    "# It represents a decision or prediction that is made by the tree for a particular subset of the data.\n",
    "# When a decision tree is trained, it recursively splits the data into subsets based on the values of the features, \n",
    "# until it reaches a leaf node. At each non-leaf node, the tree makes a decision based on the values of one of the features, \n",
    "# and the data is split into two or more subsets based on the decision. This process continues until the tree reaches a stopping criterion, \n",
    "# such as a maximum depth or a minimum number of samples per leaf.\n",
    "# for ou case is max_depth=50 and min_samples_leaf=20, respectively. \n",
    "##\n",
    "###### model #####\n",
    "model_trees = DecisionTreeClassifier(max_depth=50, min_samples_leaf=20)\n",
    "pipe_trees = make_pipeline(preproc, model_trees, memory=cachedir)\n",
    "score_trees = cross_val_score(pipe_trees, X_train, y_train, cv=5, scoring=\"roc_auc\")\n",
    "score_trees.mean()\n"
   ]
  },
  {
   "cell_type": "markdown",
   "metadata": {},
   "source": [
    "#### c) Model Random Forest"
   ]
  },
  {
   "cell_type": "code",
   "execution_count": null,
   "metadata": {},
   "outputs": [],
   "source": [
    "# It is another type of supervised machine learning algorithm, but it is used for classification tasks. \n",
    "# It is an ensemble method that combines multiple decision trees to create a strong predictive model.\n",
    "###### model #####\n",
    "model_randforest = RandomForestClassifier(max_depth=50,min_samples_leaf=20)\n",
    "pipe_randforest = make_pipeline(preproc, model_randforest, memory=cachedir)\n",
    "score_randforest = cross_val_score(pipe_randforest, X_train, y_train, cv=5, scoring=\"roc_auc\")\n",
    "print(score_randforest.std())\n",
    "score_randforest.mean()"
   ]
  },
  {
   "attachments": {},
   "cell_type": "markdown",
   "metadata": {},
   "source": [
    "#### d) Model Boosted Trees"
   ]
  },
  {
   "cell_type": "code",
   "execution_count": null,
   "metadata": {},
   "outputs": [],
   "source": [
    "# The AdaBoostClassifier is a type of ensemble learning algorithm that combines multiple weak classifiers to create a strong classifier. \n",
    "# It works by training a series of base estimators, which are typically simple models with low predictive power, \n",
    "# and then iteratively adjusting the weights of misclassified samples to focus on the samples that are most difficult to classify\n",
    "# we're using the DecisionTreeClassifier as its base estimator, which means that each weak classifier in the ensemble is a decision tree.\n",
    "# The max_depth=None parameter of the DecisionTreeClassifier means that there is no limit on the maximum depth of the decision trees, \n",
    "# so they can grow as deep as necessary to fit the training data.\n",
    "# Attention!! I am afraid this can lead to a huge running time. IF it does os let's place 30. \n",
    "###### model #####\n",
    "model_ada = AdaBoostClassifier(base_estimator=DecisionTreeClassifier(max_depth=None))\n",
    "pipe_ada = make_pipeline(preproc, model_ada, memory=cachedir)\n",
    "score_ada = cross_val_score(pipe_ada, X_train, y_train, cv=5, scoring=\"roc_auc\")\n",
    "print(score_ada.std())\n",
    "score_ada.mean()"
   ]
  },
  {
   "attachments": {},
   "cell_type": "markdown",
   "metadata": {},
   "source": [
    "#### e) Model Gradient Boost Classifier "
   ]
  },
  {
   "cell_type": "code",
   "execution_count": null,
   "metadata": {},
   "outputs": [],
   "source": [
    "# supervised machine learning algorithm that is commonly used for classification tasks\n",
    "# loss: loss function can have a significant impact on the performance of the model. \n",
    "# Default loss = \"log_loss\". We'll hyperparameters to find the best model for our problem.  \n",
    "# by default learning_rate = 0.01 Setting a lower learning_rate can help prevent overfitting \n",
    "# by slowing down the learning process and preventing the model from becoming too complex\n",
    "# but also can lead to slower convergence. \n",
    "# n_estimators: This parameter sets the number of decision trees that will be created in the ensemble\n",
    "###### model #####\n",
    "model_gb = GradientBoostingClassifier(n_estimators=100, verbose=0)\n",
    "pipe_gb = make_pipeline(preproc, model_gb, memory=cachedir)\n",
    "score_gb = cross_val_score(pipe_gb, X_train, y_train, cv=5, scoring=\"roc_auc\")\n",
    "print(score_gb.std())\n",
    "score_gb.mean()"
   ]
  },
  {
   "attachments": {},
   "cell_type": "markdown",
   "metadata": {},
   "source": [
    "#### f) Model SVC"
   ]
  },
  {
   "cell_type": "code",
   "execution_count": null,
   "metadata": {},
   "outputs": [],
   "source": [
    "# explanation\n",
    "###### model #####\n",
    "model_SVC = SVC()\n",
    "pipe_svc = make_pipeline(preproc, model_SVC, memory=cachedir)"
   ]
  },
  {
   "cell_type": "code",
   "execution_count": null,
   "metadata": {},
   "outputs": [],
   "source": [
    "# Important to RandomizedSearchCV - param_distributions\n",
    "# pipe_svc.get_params()"
   ]
  },
  {
   "cell_type": "code",
   "execution_count": null,
   "metadata": {},
   "outputs": [],
   "source": [
    "# this is important to \n",
    "# preproc.get_params()\n",
    "model_SVC = SVC()\n",
    "pipe_svc = make_pipeline(preproc, model_SVC, memory=cachedir)\n",
    "# Random search \n",
    "search = RandomizedSearchCV(\n",
    "    pipe_svc, \n",
    "    param_distributions ={\n",
    "        'svc__kernel' : ['linear', 'poly', 'rbf', 'sigmoid'],\n",
    "        'svc__C': uniform(0.1,10)},\n",
    "    cv=5,\n",
    "    n_iter = 1,\n",
    "    scoring=\"roc_auc\")\n",
    "\n",
    "search.fit(X_train,y_train)\n",
    "\n",
    "pipe_svc_tuned = search.best_estimator_\n",
    "pipe_svc_tuned\n",
    "# for this model to take at it:\n",
    "# https://scikit-learn.org/stable/modules/generated/sklearn.linear_model.SGDClassifier.html#sklearn.linear_model.SGDClassifier"
   ]
  },
  {
   "cell_type": "code",
   "execution_count": null,
   "metadata": {},
   "outputs": [],
   "source": [
    "scores_svc = cross_val_score(pipe_svc_tuned, X_train,y_train,cv=5, scoring=\"roc_auc\")\n",
    "scores_svc.mean()"
   ]
  },
  {
   "cell_type": "markdown",
   "metadata": {},
   "source": [
    "#### g) Model Gradient Boost Classifier - fine tuning - boosting!"
   ]
  },
  {
   "attachments": {},
   "cell_type": "markdown",
   "metadata": {},
   "source": [
    "#### h) Model Gradient Boost Classifier - stacking - boosting!"
   ]
  },
  {
   "cell_type": "markdown",
   "metadata": {},
   "source": [
    "#### i) XGBoost"
   ]
  },
  {
   "cell_type": "code",
   "execution_count": null,
   "metadata": {},
   "outputs": [],
   "source": [
    "# Define numerical feature once-for-all \n",
    "# tenho que definir X de acordo com o o meu dataset okok\n",
    "# 1. tenho de remover o target okok\n",
    "# 2. verifcar os formatos \"inte64\" e \"float64\" okok\n",
    "# 3 quero obter um dataframe com os nomes das categorias. okok - too much time running \n",
    "    ## add:\n",
    "    # # Get column names after preprocessing\n",
    "    # column_names = preproc.fit(data).get_feature_names_out()\n",
    "    # # Create new DataFrame with transformed data and column names\n",
    "    # data_preproc = pd.DataFrame(preproc_baseline.transform(data), columns=column_names, dtype=np.float16)\n",
    "    # naming atualizado. \n",
    "# 4 remover todo o resto ficar só com a final pipeline okok \n",
    "# 5 ver o cutoff, pode ser interensante ter um valor maior okok - too much time running\n",
    "# 6 ver mais informações sobre y_log e ver se temos uma normal distribution okok \n",
    "# 7 Tenho de ver qual é a melhor scoring metric okok \n",
    "    ## 1. scoring=\"roc_auc\"\n",
    "    ## 2. scoring=\"precision\"\n",
    "    ## 3. scoring=\"accuracy\"\n",
    "    ## recall, f1, ....\n",
    "    ## talvez seja bom escrever um texto a explicar cada uma\n",
    "\n",
    "# seg - 20/03/23\n",
    "# 8. models explaination \n",
    "    ## AdaBoost to be finished\n",
    "    ## SVC model\n",
    "# 9. features selection\n",
    "    ## huge running times \n",
    "    ## considering to delete - \"worst_account...inv\" feature with 70% of missing values. \n",
    "# 10 choose the model with the best performance \n",
    "    ## if not possible due to running time, start the connection with gcp - virtual machine\n",
    "    ## it will take the whole week at least. shitty!\n"
   ]
  },
  {
   "cell_type": "code",
   "execution_count": null,
   "metadata": {},
   "outputs": [],
   "source": []
  },
  {
   "cell_type": "code",
   "execution_count": null,
   "metadata": {},
   "outputs": [],
   "source": [
    "# 1. ver melhor os models \n",
    "# 2. features selection"
   ]
  }
 ],
 "metadata": {
  "kernelspec": {
   "display_name": "Python 3.8.12 64-bit ('klarna')",
   "language": "python",
   "name": "python3"
  },
  "language_info": {
   "codemirror_mode": {
    "name": "ipython",
    "version": 3
   },
   "file_extension": ".py",
   "mimetype": "text/x-python",
   "name": "python",
   "nbconvert_exporter": "python",
   "pygments_lexer": "ipython3",
   "version": "3.8.12"
  },
  "orig_nbformat": 4,
  "vscode": {
   "interpreter": {
    "hash": "9dcf976523d746285ce90dc9a7212f6939c68732488606ca072d04ac6ae934a0"
   }
  }
 },
 "nbformat": 4,
 "nbformat_minor": 2
}
